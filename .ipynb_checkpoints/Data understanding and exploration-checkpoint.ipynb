{
 "cells": [
  {
   "cell_type": "code",
   "execution_count": 1,
   "metadata": {},
   "outputs": [
    {
     "name": "stderr",
     "output_type": "stream",
     "text": [
      "Using TensorFlow backend.\n"
     ]
    }
   ],
   "source": [
    "import numpy as np\n",
    "import pandas as pd\n",
    "import os\n",
    "import shutil\n",
    "import tarfile\n",
    "import matplotlib\n",
    "import matplotlib.pyplot as plt\n",
    "import keras as keras\n",
    "from data_utils import read_files\n",
    "from data_utils import *\n",
    "import platform\n",
    "pd.set_option('display.float_format', lambda x: '%.2f' % x)"
   ]
  },
  {
   "cell_type": "code",
   "execution_count": 2,
   "metadata": {},
   "outputs": [
    {
     "name": "stdout",
     "output_type": "stream",
     "text": [
      "0\n",
      "1\n"
     ]
    }
   ],
   "source": [
    "if platform.system() == 'Darwin':\n",
    "    datafile_path = '/Users/anjalikarimpil/Google Drive/Dissertation/Data/Social LSTM/'\n",
    "else:\n",
    "    datafile_path = '/users/mscdsa2018/ask2/Projects/Data/Social LSTM'\n",
    "# Get list of datafiles read\n",
    "df_list, problem_list = read_files()\n"
   ]
  },
  {
   "cell_type": "code",
   "execution_count": 4,
   "metadata": {},
   "outputs": [],
   "source": [
    "df = df_list[0]\n",
    "\n",
    "df['date'], df['time'] = df[0].str.split('T', 1).str\n",
    "df[0] = pd.to_datetime(df[0], format=\"%Y-%m-%dT%H:%M:%S:%f\")\n",
    "df.columns = ['datetime', 'place', 'x_pos', 'y_pos', 'person_id', 'date', 'time']"
   ]
  },
  {
   "cell_type": "code",
   "execution_count": 28,
   "metadata": {},
   "outputs": [
    {
     "name": "stderr",
     "output_type": "stream",
     "text": [
      "/usr/local/Cellar/python3/3.6.3/Frameworks/Python.framework/Versions/3.6/lib/python3.6/site-packages/ipykernel_launcher.py:1: SettingWithCopyWarning: \n",
      "A value is trying to be set on a copy of a slice from a DataFrame\n",
      "\n",
      "See the caveats in the documentation: http://pandas.pydata.org/pandas-docs/stable/indexing.html#indexing-view-versus-copy\n",
      "  \"\"\"Entry point for launching an IPython kernel.\n",
      "/usr/local/Cellar/python3/3.6.3/Frameworks/Python.framework/Versions/3.6/lib/python3.6/site-packages/ipykernel_launcher.py:3: SettingWithCopyWarning: \n",
      "A value is trying to be set on a copy of a slice from a DataFrame.\n",
      "Try using .loc[row_indexer,col_indexer] = value instead\n",
      "\n",
      "See the caveats in the documentation: http://pandas.pydata.org/pandas-docs/stable/indexing.html#indexing-view-versus-copy\n",
      "  This is separate from the ipykernel package so we can avoid doing imports until\n",
      "/usr/local/Cellar/python3/3.6.3/Frameworks/Python.framework/Versions/3.6/lib/python3.6/site-packages/ipykernel_launcher.py:4: SettingWithCopyWarning: \n",
      "A value is trying to be set on a copy of a slice from a DataFrame.\n",
      "Try using .loc[row_indexer,col_indexer] = value instead\n",
      "\n",
      "See the caveats in the documentation: http://pandas.pydata.org/pandas-docs/stable/indexing.html#indexing-view-versus-copy\n",
      "  after removing the cwd from sys.path.\n"
     ]
    }
   ],
   "source": [
    "df.sort_values(['person_id','datetime'], inplace=True, ascending=True)\n",
    "df.reset_index()\n",
    "df['time_lead'] = df.groupby(['person_id', 'date'])['datetime'].shift(-1)\n",
    "df['person_lead'] = df['person_id'].shift(-1)"
   ]
  },
  {
   "cell_type": "code",
   "execution_count": 29,
   "metadata": {},
   "outputs": [
    {
     "name": "stderr",
     "output_type": "stream",
     "text": [
      "/usr/local/Cellar/python3/3.6.3/Frameworks/Python.framework/Versions/3.6/lib/python3.6/site-packages/ipykernel_launcher.py:2: SettingWithCopyWarning: \n",
      "A value is trying to be set on a copy of a slice from a DataFrame.\n",
      "Try using .loc[row_indexer,col_indexer] = value instead\n",
      "\n",
      "See the caveats in the documentation: http://pandas.pydata.org/pandas-docs/stable/indexing.html#indexing-view-versus-copy\n",
      "  \n",
      "/usr/local/Cellar/python3/3.6.3/Frameworks/Python.framework/Versions/3.6/lib/python3.6/site-packages/ipykernel_launcher.py:3: SettingWithCopyWarning: \n",
      "A value is trying to be set on a copy of a slice from a DataFrame.\n",
      "Try using .loc[row_indexer,col_indexer] = value instead\n",
      "\n",
      "See the caveats in the documentation: http://pandas.pydata.org/pandas-docs/stable/indexing.html#indexing-view-versus-copy\n",
      "  This is separate from the ipykernel package so we can avoid doing imports until\n"
     ]
    }
   ],
   "source": [
    "threshold = pd.to_timedelta('00:00:02.00000')\n",
    "df['fl'] = np.where((abs(df['time_lead'] - df['datetime']) > threshold) | (df['person_lead'] != df['person_id']), 1, 0)\n",
    "df['traj_id'] = df['fl'].cumsum()\n",
    "df = df.dropna()"
   ]
  },
  {
   "cell_type": "code",
   "execution_count": 30,
   "metadata": {},
   "outputs": [],
   "source": [
    "df['x_pos_next'] = df.groupby(['traj_id'])['x_pos'].shift(-1)\n",
    "df['y_pos_next'] = df.groupby(['traj_id'])['y_pos'].shift(-1)\n",
    "df['x_diff'] = df['x_pos'] - df['x_pos_next']\n",
    "df['y_diff'] = df['y_pos'] - df['y_pos_next']\n"
   ]
  },
  {
   "cell_type": "code",
   "execution_count": null,
   "metadata": {},
   "outputs": [],
   "source": [
    "# ((abs(df['time_lead'] - df['datetime']) > threshold) | (df['person_lead'] != df['person_id'])).sum()\n",
    "\n"
   ]
  },
  {
   "cell_type": "code",
   "execution_count": 31,
   "metadata": {},
   "outputs": [
    {
     "data": {
      "text/plain": [
       "count   4320981.00\n",
       "mean          0.38\n",
       "std         585.67\n",
       "min      -90900.00\n",
       "25%        -101.00\n",
       "50%           0.00\n",
       "75%         100.00\n",
       "max       90651.00\n",
       "Name: x_diff, dtype: float64"
      ]
     },
     "execution_count": 31,
     "metadata": {},
     "output_type": "execute_result"
    }
   ],
   "source": [
    "\n",
    "df['x_diff'].describe()"
   ]
  },
  {
   "cell_type": "code",
   "execution_count": 36,
   "metadata": {},
   "outputs": [
    {
     "data": {
      "text/html": [
       "<div>\n",
       "<style scoped>\n",
       "    .dataframe tbody tr th:only-of-type {\n",
       "        vertical-align: middle;\n",
       "    }\n",
       "\n",
       "    .dataframe tbody tr th {\n",
       "        vertical-align: top;\n",
       "    }\n",
       "\n",
       "    .dataframe thead th {\n",
       "        text-align: right;\n",
       "    }\n",
       "</style>\n",
       "<table border=\"1\" class=\"dataframe\">\n",
       "  <thead>\n",
       "    <tr style=\"text-align: right;\">\n",
       "      <th></th>\n",
       "      <th>datetime</th>\n",
       "      <th>place</th>\n",
       "      <th>x_pos</th>\n",
       "      <th>y_pos</th>\n",
       "      <th>person_id</th>\n",
       "      <th>date</th>\n",
       "      <th>time</th>\n",
       "      <th>time_lead</th>\n",
       "      <th>person_lead</th>\n",
       "      <th>fl</th>\n",
       "      <th>traj_id</th>\n",
       "      <th>x_pos_next</th>\n",
       "      <th>y_pos_next</th>\n",
       "      <th>x_diff</th>\n",
       "      <th>y_diff</th>\n",
       "    </tr>\n",
       "  </thead>\n",
       "  <tbody>\n",
       "    <tr>\n",
       "      <th>269080</th>\n",
       "      <td>2013-02-10 07:34:15.665</td>\n",
       "      <td>PIW</td>\n",
       "      <td>2677</td>\n",
       "      <td>15505</td>\n",
       "      <td>428</td>\n",
       "      <td>2013-02-10</td>\n",
       "      <td>07:34:15:665</td>\n",
       "      <td>2013-02-10 07:34:15.765</td>\n",
       "      <td>428.00</td>\n",
       "      <td>0</td>\n",
       "      <td>854</td>\n",
       "      <td>2745.00</td>\n",
       "      <td>15565.00</td>\n",
       "      <td>-68.00</td>\n",
       "      <td>-60.00</td>\n",
       "    </tr>\n",
       "    <tr>\n",
       "      <th>269081</th>\n",
       "      <td>2013-02-10 07:34:15.765</td>\n",
       "      <td>PIW</td>\n",
       "      <td>2745</td>\n",
       "      <td>15565</td>\n",
       "      <td>428</td>\n",
       "      <td>2013-02-10</td>\n",
       "      <td>07:34:15:765</td>\n",
       "      <td>2013-02-10 07:34:15.865</td>\n",
       "      <td>428.00</td>\n",
       "      <td>0</td>\n",
       "      <td>854</td>\n",
       "      <td>2777.00</td>\n",
       "      <td>15630.00</td>\n",
       "      <td>-32.00</td>\n",
       "      <td>-65.00</td>\n",
       "    </tr>\n",
       "    <tr>\n",
       "      <th>269082</th>\n",
       "      <td>2013-02-10 07:34:15.865</td>\n",
       "      <td>PIW</td>\n",
       "      <td>2777</td>\n",
       "      <td>15630</td>\n",
       "      <td>428</td>\n",
       "      <td>2013-02-10</td>\n",
       "      <td>07:34:15:865</td>\n",
       "      <td>2013-02-10 07:34:15.965</td>\n",
       "      <td>428.00</td>\n",
       "      <td>0</td>\n",
       "      <td>854</td>\n",
       "      <td>2628.00</td>\n",
       "      <td>15639.00</td>\n",
       "      <td>149.00</td>\n",
       "      <td>-9.00</td>\n",
       "    </tr>\n",
       "    <tr>\n",
       "      <th>269083</th>\n",
       "      <td>2013-02-10 07:34:15.965</td>\n",
       "      <td>PIW</td>\n",
       "      <td>2628</td>\n",
       "      <td>15639</td>\n",
       "      <td>428</td>\n",
       "      <td>2013-02-10</td>\n",
       "      <td>07:34:15:965</td>\n",
       "      <td>2013-02-10 07:34:16.065</td>\n",
       "      <td>428.00</td>\n",
       "      <td>0</td>\n",
       "      <td>854</td>\n",
       "      <td>2671.00</td>\n",
       "      <td>15653.00</td>\n",
       "      <td>-43.00</td>\n",
       "      <td>-14.00</td>\n",
       "    </tr>\n",
       "    <tr>\n",
       "      <th>269084</th>\n",
       "      <td>2013-02-10 07:34:16.065</td>\n",
       "      <td>PIW</td>\n",
       "      <td>2671</td>\n",
       "      <td>15653</td>\n",
       "      <td>428</td>\n",
       "      <td>2013-02-10</td>\n",
       "      <td>07:34:16:065</td>\n",
       "      <td>2013-02-10 07:34:16.165</td>\n",
       "      <td>428.00</td>\n",
       "      <td>0</td>\n",
       "      <td>854</td>\n",
       "      <td>2416.00</td>\n",
       "      <td>15664.00</td>\n",
       "      <td>255.00</td>\n",
       "      <td>-11.00</td>\n",
       "    </tr>\n",
       "    <tr>\n",
       "      <th>269085</th>\n",
       "      <td>2013-02-10 07:34:16.165</td>\n",
       "      <td>PIW</td>\n",
       "      <td>2416</td>\n",
       "      <td>15664</td>\n",
       "      <td>428</td>\n",
       "      <td>2013-02-10</td>\n",
       "      <td>07:34:16:165</td>\n",
       "      <td>2013-02-10 07:34:16.265</td>\n",
       "      <td>428.00</td>\n",
       "      <td>0</td>\n",
       "      <td>854</td>\n",
       "      <td>2423.00</td>\n",
       "      <td>15683.00</td>\n",
       "      <td>-7.00</td>\n",
       "      <td>-19.00</td>\n",
       "    </tr>\n",
       "    <tr>\n",
       "      <th>269086</th>\n",
       "      <td>2013-02-10 07:34:16.265</td>\n",
       "      <td>PIW</td>\n",
       "      <td>2423</td>\n",
       "      <td>15683</td>\n",
       "      <td>428</td>\n",
       "      <td>2013-02-10</td>\n",
       "      <td>07:34:16:265</td>\n",
       "      <td>2013-02-10 07:34:16.365</td>\n",
       "      <td>428.00</td>\n",
       "      <td>0</td>\n",
       "      <td>854</td>\n",
       "      <td>2428.00</td>\n",
       "      <td>15668.00</td>\n",
       "      <td>-5.00</td>\n",
       "      <td>15.00</td>\n",
       "    </tr>\n",
       "    <tr>\n",
       "      <th>269087</th>\n",
       "      <td>2013-02-10 07:34:16.365</td>\n",
       "      <td>PIW</td>\n",
       "      <td>2428</td>\n",
       "      <td>15668</td>\n",
       "      <td>428</td>\n",
       "      <td>2013-02-10</td>\n",
       "      <td>07:34:16:365</td>\n",
       "      <td>2013-02-10 07:34:16.465</td>\n",
       "      <td>428.00</td>\n",
       "      <td>0</td>\n",
       "      <td>854</td>\n",
       "      <td>nan</td>\n",
       "      <td>nan</td>\n",
       "      <td>nan</td>\n",
       "      <td>nan</td>\n",
       "    </tr>\n",
       "    <tr>\n",
       "      <th>269089</th>\n",
       "      <td>2013-02-10 07:34:16.609</td>\n",
       "      <td>PIW</td>\n",
       "      <td>2328</td>\n",
       "      <td>15629</td>\n",
       "      <td>428</td>\n",
       "      <td>2013-02-10</td>\n",
       "      <td>07:34:16:609</td>\n",
       "      <td>2013-02-10 17:07:18.686</td>\n",
       "      <td>428.00</td>\n",
       "      <td>1</td>\n",
       "      <td>855</td>\n",
       "      <td>93228.00</td>\n",
       "      <td>11698.00</td>\n",
       "      <td>-90900.00</td>\n",
       "      <td>3931.00</td>\n",
       "    </tr>\n",
       "  </tbody>\n",
       "</table>\n",
       "</div>"
      ],
      "text/plain": [
       "                      datetime place  x_pos  y_pos  person_id        date  \\\n",
       "269080 2013-02-10 07:34:15.665   PIW   2677  15505        428  2013-02-10   \n",
       "269081 2013-02-10 07:34:15.765   PIW   2745  15565        428  2013-02-10   \n",
       "269082 2013-02-10 07:34:15.865   PIW   2777  15630        428  2013-02-10   \n",
       "269083 2013-02-10 07:34:15.965   PIW   2628  15639        428  2013-02-10   \n",
       "269084 2013-02-10 07:34:16.065   PIW   2671  15653        428  2013-02-10   \n",
       "269085 2013-02-10 07:34:16.165   PIW   2416  15664        428  2013-02-10   \n",
       "269086 2013-02-10 07:34:16.265   PIW   2423  15683        428  2013-02-10   \n",
       "269087 2013-02-10 07:34:16.365   PIW   2428  15668        428  2013-02-10   \n",
       "269089 2013-02-10 07:34:16.609   PIW   2328  15629        428  2013-02-10   \n",
       "\n",
       "                time               time_lead  person_lead  fl  traj_id  \\\n",
       "269080  07:34:15:665 2013-02-10 07:34:15.765       428.00   0      854   \n",
       "269081  07:34:15:765 2013-02-10 07:34:15.865       428.00   0      854   \n",
       "269082  07:34:15:865 2013-02-10 07:34:15.965       428.00   0      854   \n",
       "269083  07:34:15:965 2013-02-10 07:34:16.065       428.00   0      854   \n",
       "269084  07:34:16:065 2013-02-10 07:34:16.165       428.00   0      854   \n",
       "269085  07:34:16:165 2013-02-10 07:34:16.265       428.00   0      854   \n",
       "269086  07:34:16:265 2013-02-10 07:34:16.365       428.00   0      854   \n",
       "269087  07:34:16:365 2013-02-10 07:34:16.465       428.00   0      854   \n",
       "269089  07:34:16:609 2013-02-10 17:07:18.686       428.00   1      855   \n",
       "\n",
       "        x_pos_next  y_pos_next    x_diff  y_diff  \n",
       "269080     2745.00    15565.00    -68.00  -60.00  \n",
       "269081     2777.00    15630.00    -32.00  -65.00  \n",
       "269082     2628.00    15639.00    149.00   -9.00  \n",
       "269083     2671.00    15653.00    -43.00  -14.00  \n",
       "269084     2416.00    15664.00    255.00  -11.00  \n",
       "269085     2423.00    15683.00     -7.00  -19.00  \n",
       "269086     2428.00    15668.00     -5.00   15.00  \n",
       "269087         nan         nan       nan     nan  \n",
       "269089    93228.00    11698.00 -90900.00 3931.00  "
      ]
     },
     "execution_count": 36,
     "metadata": {},
     "output_type": "execute_result"
    }
   ],
   "source": [
    "# df[df['x_diff'] == -90900]\n",
    "df.loc[269080:269089,]\n",
    "\n"
   ]
  },
  {
   "cell_type": "code",
   "execution_count": 38,
   "metadata": {},
   "outputs": [
    {
     "data": {
      "text/html": [
       "<div>\n",
       "<style scoped>\n",
       "    .dataframe tbody tr th:only-of-type {\n",
       "        vertical-align: middle;\n",
       "    }\n",
       "\n",
       "    .dataframe tbody tr th {\n",
       "        vertical-align: top;\n",
       "    }\n",
       "\n",
       "    .dataframe thead th {\n",
       "        text-align: right;\n",
       "    }\n",
       "</style>\n",
       "<table border=\"1\" class=\"dataframe\">\n",
       "  <thead>\n",
       "    <tr style=\"text-align: right;\">\n",
       "      <th></th>\n",
       "      <th>datetime</th>\n",
       "      <th>place</th>\n",
       "      <th>x_pos</th>\n",
       "      <th>y_pos</th>\n",
       "      <th>person_id</th>\n",
       "      <th>date</th>\n",
       "      <th>time</th>\n",
       "      <th>time_lead</th>\n",
       "      <th>person_lead</th>\n",
       "      <th>fl</th>\n",
       "      <th>traj_id</th>\n",
       "      <th>x_pos_next</th>\n",
       "      <th>y_pos_next</th>\n",
       "      <th>x_diff</th>\n",
       "      <th>y_diff</th>\n",
       "    </tr>\n",
       "  </thead>\n",
       "  <tbody>\n",
       "    <tr>\n",
       "      <th>269090</th>\n",
       "      <td>2013-02-10 07:33:01.935</td>\n",
       "      <td>PIW</td>\n",
       "      <td>77806</td>\n",
       "      <td>20773</td>\n",
       "      <td>429</td>\n",
       "      <td>2013-02-10</td>\n",
       "      <td>07:33:01:935</td>\n",
       "      <td>2013-02-10 07:33:02.035</td>\n",
       "      <td>429.00</td>\n",
       "      <td>0</td>\n",
       "      <td>856</td>\n",
       "      <td>77949.00</td>\n",
       "      <td>20487.00</td>\n",
       "      <td>-143.00</td>\n",
       "      <td>286.00</td>\n",
       "    </tr>\n",
       "  </tbody>\n",
       "</table>\n",
       "</div>"
      ],
      "text/plain": [
       "                      datetime place  x_pos  y_pos  person_id        date  \\\n",
       "269090 2013-02-10 07:33:01.935   PIW  77806  20773        429  2013-02-10   \n",
       "\n",
       "                time               time_lead  person_lead  fl  traj_id  \\\n",
       "269090  07:33:01:935 2013-02-10 07:33:02.035       429.00   0      856   \n",
       "\n",
       "        x_pos_next  y_pos_next  x_diff  y_diff  \n",
       "269090    77949.00    20487.00 -143.00  286.00  "
      ]
     },
     "execution_count": 38,
     "metadata": {},
     "output_type": "execute_result"
    }
   ],
   "source": [
    "df.loc[269090:269090,]"
   ]
  },
  {
   "cell_type": "code",
   "execution_count": 27,
   "metadata": {},
   "outputs": [
    {
     "data": {
      "text/html": [
       "<div>\n",
       "<style scoped>\n",
       "    .dataframe tbody tr th:only-of-type {\n",
       "        vertical-align: middle;\n",
       "    }\n",
       "\n",
       "    .dataframe tbody tr th {\n",
       "        vertical-align: top;\n",
       "    }\n",
       "\n",
       "    .dataframe thead th {\n",
       "        text-align: right;\n",
       "    }\n",
       "</style>\n",
       "<table border=\"1\" class=\"dataframe\">\n",
       "  <thead>\n",
       "    <tr style=\"text-align: right;\">\n",
       "      <th></th>\n",
       "      <th>datetime</th>\n",
       "      <th>place</th>\n",
       "      <th>x_pos</th>\n",
       "      <th>y_pos</th>\n",
       "      <th>person_id</th>\n",
       "      <th>date</th>\n",
       "      <th>time</th>\n",
       "      <th>time_lead</th>\n",
       "      <th>person_lead</th>\n",
       "      <th>fl</th>\n",
       "      <th>traj_id</th>\n",
       "      <th>x_pos_next</th>\n",
       "      <th>y_pos_next</th>\n",
       "      <th>x_diff</th>\n",
       "      <th>y_diff</th>\n",
       "    </tr>\n",
       "  </thead>\n",
       "  <tbody>\n",
       "    <tr>\n",
       "      <th>843434</th>\n",
       "      <td>2013-02-10 17:07:18.686</td>\n",
       "      <td>PIW</td>\n",
       "      <td>93228</td>\n",
       "      <td>11698</td>\n",
       "      <td>428</td>\n",
       "      <td>2013-02-10</td>\n",
       "      <td>17:07:18:686</td>\n",
       "      <td>2013-02-10 17:07:18.786</td>\n",
       "      <td>428.00</td>\n",
       "      <td>0</td>\n",
       "      <td>855</td>\n",
       "      <td>93227.00</td>\n",
       "      <td>11689.00</td>\n",
       "      <td>1.00</td>\n",
       "      <td>9.00</td>\n",
       "    </tr>\n",
       "    <tr>\n",
       "      <th>1006489</th>\n",
       "      <td>2013-02-10 17:11:57.787</td>\n",
       "      <td>PIW</td>\n",
       "      <td>93228</td>\n",
       "      <td>11541</td>\n",
       "      <td>650</td>\n",
       "      <td>2013-02-10</td>\n",
       "      <td>17:11:57:787</td>\n",
       "      <td>2013-02-10 17:11:57.943</td>\n",
       "      <td>650.00</td>\n",
       "      <td>0</td>\n",
       "      <td>1299</td>\n",
       "      <td>nan</td>\n",
       "      <td>nan</td>\n",
       "      <td>nan</td>\n",
       "      <td>nan</td>\n",
       "    </tr>\n",
       "    <tr>\n",
       "      <th>1722590</th>\n",
       "      <td>2013-02-10 17:18:50.255</td>\n",
       "      <td>PIW</td>\n",
       "      <td>93228</td>\n",
       "      <td>11719</td>\n",
       "      <td>1737</td>\n",
       "      <td>2013-02-10</td>\n",
       "      <td>17:18:50:255</td>\n",
       "      <td>2013-02-10 17:18:50.355</td>\n",
       "      <td>1737.00</td>\n",
       "      <td>0</td>\n",
       "      <td>2571</td>\n",
       "      <td>93244.00</td>\n",
       "      <td>11721.00</td>\n",
       "      <td>-16.00</td>\n",
       "      <td>-2.00</td>\n",
       "    </tr>\n",
       "    <tr>\n",
       "      <th>2182295</th>\n",
       "      <td>2013-02-10 17:25:58.514</td>\n",
       "      <td>PIW</td>\n",
       "      <td>93228</td>\n",
       "      <td>11698</td>\n",
       "      <td>2375</td>\n",
       "      <td>2013-02-10</td>\n",
       "      <td>17:25:58:514</td>\n",
       "      <td>2013-02-10 17:25:58.614</td>\n",
       "      <td>2375.00</td>\n",
       "      <td>0</td>\n",
       "      <td>3209</td>\n",
       "      <td>93238.00</td>\n",
       "      <td>11720.00</td>\n",
       "      <td>-10.00</td>\n",
       "      <td>-22.00</td>\n",
       "    </tr>\n",
       "    <tr>\n",
       "      <th>2969640</th>\n",
       "      <td>2013-02-10 17:40:54.804</td>\n",
       "      <td>PIW</td>\n",
       "      <td>93228</td>\n",
       "      <td>11698</td>\n",
       "      <td>3469</td>\n",
       "      <td>2013-02-10</td>\n",
       "      <td>17:40:54:804</td>\n",
       "      <td>2013-02-10 17:40:54.904</td>\n",
       "      <td>3469.00</td>\n",
       "      <td>0</td>\n",
       "      <td>4303</td>\n",
       "      <td>93211.00</td>\n",
       "      <td>11721.00</td>\n",
       "      <td>17.00</td>\n",
       "      <td>-23.00</td>\n",
       "    </tr>\n",
       "    <tr>\n",
       "      <th>3038379</th>\n",
       "      <td>2013-02-10 17:42:52.899</td>\n",
       "      <td>PIW</td>\n",
       "      <td>93228</td>\n",
       "      <td>12739</td>\n",
       "      <td>3572</td>\n",
       "      <td>2013-02-10</td>\n",
       "      <td>17:42:52:899</td>\n",
       "      <td>2013-02-10 17:42:52.999</td>\n",
       "      <td>3572.00</td>\n",
       "      <td>0</td>\n",
       "      <td>4406</td>\n",
       "      <td>93249.00</td>\n",
       "      <td>12752.00</td>\n",
       "      <td>-21.00</td>\n",
       "      <td>-13.00</td>\n",
       "    </tr>\n",
       "  </tbody>\n",
       "</table>\n",
       "</div>"
      ],
      "text/plain": [
       "                       datetime place  x_pos  y_pos  person_id        date  \\\n",
       "843434  2013-02-10 17:07:18.686   PIW  93228  11698        428  2013-02-10   \n",
       "1006489 2013-02-10 17:11:57.787   PIW  93228  11541        650  2013-02-10   \n",
       "1722590 2013-02-10 17:18:50.255   PIW  93228  11719       1737  2013-02-10   \n",
       "2182295 2013-02-10 17:25:58.514   PIW  93228  11698       2375  2013-02-10   \n",
       "2969640 2013-02-10 17:40:54.804   PIW  93228  11698       3469  2013-02-10   \n",
       "3038379 2013-02-10 17:42:52.899   PIW  93228  12739       3572  2013-02-10   \n",
       "\n",
       "                 time               time_lead  person_lead  fl  traj_id  \\\n",
       "843434   17:07:18:686 2013-02-10 17:07:18.786       428.00   0      855   \n",
       "1006489  17:11:57:787 2013-02-10 17:11:57.943       650.00   0     1299   \n",
       "1722590  17:18:50:255 2013-02-10 17:18:50.355      1737.00   0     2571   \n",
       "2182295  17:25:58:514 2013-02-10 17:25:58.614      2375.00   0     3209   \n",
       "2969640  17:40:54:804 2013-02-10 17:40:54.904      3469.00   0     4303   \n",
       "3038379  17:42:52:899 2013-02-10 17:42:52.999      3572.00   0     4406   \n",
       "\n",
       "         x_pos_next  y_pos_next  x_diff  y_diff  \n",
       "843434     93227.00    11689.00    1.00    9.00  \n",
       "1006489         nan         nan     nan     nan  \n",
       "1722590    93244.00    11721.00  -16.00   -2.00  \n",
       "2182295    93238.00    11720.00  -10.00  -22.00  \n",
       "2969640    93211.00    11721.00   17.00  -23.00  \n",
       "3038379    93249.00    12752.00  -21.00  -13.00  "
      ]
     },
     "execution_count": 27,
     "metadata": {},
     "output_type": "execute_result"
    }
   ],
   "source": [
    "df[df['x_pos'] == 93228.00]"
   ]
  },
  {
   "cell_type": "code",
   "execution_count": 11,
   "metadata": {
    "collapsed": true
   },
   "outputs": [],
   "source": [
    "# index = 1\n",
    "# df_1 = df.loc[df['traj_id'] == index]\n",
    "# plt.scatter(df_1['x_pos'], df_1['y_pos'])\n",
    "# plt.show()"
   ]
  },
  {
   "cell_type": "code",
   "execution_count": 14,
   "metadata": {
    "collapsed": true
   },
   "outputs": [],
   "source": []
  },
  {
   "cell_type": "code",
   "execution_count": 15,
   "metadata": {},
   "outputs": [
    {
     "name": "stderr",
     "output_type": "stream",
     "text": [
      "/users/mscdsa2018/ask2/anaconda3/lib/python3.6/site-packages/ipykernel_launcher.py:5: SettingWithCopyWarning: \n",
      "A value is trying to be set on a copy of a slice from a DataFrame.\n",
      "Try using .loc[row_indexer,col_indexer] = value instead\n",
      "\n",
      "See the caveats in the documentation: http://pandas.pydata.org/pandas-docs/stable/indexing.html#indexing-view-versus-copy\n",
      "  \"\"\"\n",
      "/users/mscdsa2018/ask2/anaconda3/lib/python3.6/site-packages/ipykernel_launcher.py:6: SettingWithCopyWarning: \n",
      "A value is trying to be set on a copy of a slice from a DataFrame.\n",
      "Try using .loc[row_indexer,col_indexer] = value instead\n",
      "\n",
      "See the caveats in the documentation: http://pandas.pydata.org/pandas-docs/stable/indexing.html#indexing-view-versus-copy\n",
      "  \n"
     ]
    }
   ],
   "source": [
    "\n",
    "data = df[['traj_id','x_pos','y_pos']]\n",
    "w = 20\n",
    "for i in range(1, w + 1):\n",
    "    data['x_'+str(i)] = data.groupby(['traj_id'])['x_pos'].shift(-i)\n",
    "    data['y_'+str(i)] = data.groupby(['traj_id'])['x_pos'].shift(-i)\n",
    "# Remove NAs \n",
    "data = data.dropna()"
   ]
  },
  {
   "cell_type": "code",
   "execution_count": 16,
   "metadata": {},
   "outputs": [
    {
     "data": {
      "text/html": [
       "<div>\n",
       "<style>\n",
       "    .dataframe thead tr:only-child th {\n",
       "        text-align: right;\n",
       "    }\n",
       "\n",
       "    .dataframe thead th {\n",
       "        text-align: left;\n",
       "    }\n",
       "\n",
       "    .dataframe tbody tr th {\n",
       "        vertical-align: top;\n",
       "    }\n",
       "</style>\n",
       "<table border=\"1\" class=\"dataframe\">\n",
       "  <thead>\n",
       "    <tr style=\"text-align: right;\">\n",
       "      <th></th>\n",
       "      <th>traj_id</th>\n",
       "      <th>x_pos</th>\n",
       "      <th>y_pos</th>\n",
       "      <th>x_1</th>\n",
       "      <th>y_1</th>\n",
       "      <th>x_2</th>\n",
       "      <th>y_2</th>\n",
       "      <th>x_3</th>\n",
       "      <th>y_3</th>\n",
       "      <th>x_4</th>\n",
       "      <th>...</th>\n",
       "      <th>x_16</th>\n",
       "      <th>y_16</th>\n",
       "      <th>x_17</th>\n",
       "      <th>y_17</th>\n",
       "      <th>x_18</th>\n",
       "      <th>y_18</th>\n",
       "      <th>x_19</th>\n",
       "      <th>y_19</th>\n",
       "      <th>x_20</th>\n",
       "      <th>y_20</th>\n",
       "    </tr>\n",
       "  </thead>\n",
       "  <tbody>\n",
       "    <tr>\n",
       "      <th>0</th>\n",
       "      <td>0</td>\n",
       "      <td>74446</td>\n",
       "      <td>5951</td>\n",
       "      <td>74441.00</td>\n",
       "      <td>74441.00</td>\n",
       "      <td>74440.00</td>\n",
       "      <td>74440.00</td>\n",
       "      <td>74440.00</td>\n",
       "      <td>74440.00</td>\n",
       "      <td>74438.00</td>\n",
       "      <td>...</td>\n",
       "      <td>74175.00</td>\n",
       "      <td>74175.00</td>\n",
       "      <td>74175.00</td>\n",
       "      <td>74175.00</td>\n",
       "      <td>74174.00</td>\n",
       "      <td>74174.00</td>\n",
       "      <td>74161.00</td>\n",
       "      <td>74161.00</td>\n",
       "      <td>74161.00</td>\n",
       "      <td>74161.00</td>\n",
       "    </tr>\n",
       "    <tr>\n",
       "      <th>1</th>\n",
       "      <td>0</td>\n",
       "      <td>74441</td>\n",
       "      <td>6066</td>\n",
       "      <td>74440.00</td>\n",
       "      <td>74440.00</td>\n",
       "      <td>74440.00</td>\n",
       "      <td>74440.00</td>\n",
       "      <td>74438.00</td>\n",
       "      <td>74438.00</td>\n",
       "      <td>74437.00</td>\n",
       "      <td>...</td>\n",
       "      <td>74175.00</td>\n",
       "      <td>74175.00</td>\n",
       "      <td>74174.00</td>\n",
       "      <td>74174.00</td>\n",
       "      <td>74161.00</td>\n",
       "      <td>74161.00</td>\n",
       "      <td>74161.00</td>\n",
       "      <td>74161.00</td>\n",
       "      <td>74162.00</td>\n",
       "      <td>74162.00</td>\n",
       "    </tr>\n",
       "    <tr>\n",
       "      <th>2</th>\n",
       "      <td>0</td>\n",
       "      <td>74440</td>\n",
       "      <td>6105</td>\n",
       "      <td>74440.00</td>\n",
       "      <td>74440.00</td>\n",
       "      <td>74438.00</td>\n",
       "      <td>74438.00</td>\n",
       "      <td>74437.00</td>\n",
       "      <td>74437.00</td>\n",
       "      <td>74449.00</td>\n",
       "      <td>...</td>\n",
       "      <td>74174.00</td>\n",
       "      <td>74174.00</td>\n",
       "      <td>74161.00</td>\n",
       "      <td>74161.00</td>\n",
       "      <td>74161.00</td>\n",
       "      <td>74161.00</td>\n",
       "      <td>74162.00</td>\n",
       "      <td>74162.00</td>\n",
       "      <td>74174.00</td>\n",
       "      <td>74174.00</td>\n",
       "    </tr>\n",
       "    <tr>\n",
       "      <th>3</th>\n",
       "      <td>0</td>\n",
       "      <td>74440</td>\n",
       "      <td>6108</td>\n",
       "      <td>74438.00</td>\n",
       "      <td>74438.00</td>\n",
       "      <td>74437.00</td>\n",
       "      <td>74437.00</td>\n",
       "      <td>74449.00</td>\n",
       "      <td>74449.00</td>\n",
       "      <td>74447.00</td>\n",
       "      <td>...</td>\n",
       "      <td>74161.00</td>\n",
       "      <td>74161.00</td>\n",
       "      <td>74161.00</td>\n",
       "      <td>74161.00</td>\n",
       "      <td>74162.00</td>\n",
       "      <td>74162.00</td>\n",
       "      <td>74174.00</td>\n",
       "      <td>74174.00</td>\n",
       "      <td>74184.00</td>\n",
       "      <td>74184.00</td>\n",
       "    </tr>\n",
       "    <tr>\n",
       "      <th>4</th>\n",
       "      <td>0</td>\n",
       "      <td>74438</td>\n",
       "      <td>6145</td>\n",
       "      <td>74437.00</td>\n",
       "      <td>74437.00</td>\n",
       "      <td>74449.00</td>\n",
       "      <td>74449.00</td>\n",
       "      <td>74447.00</td>\n",
       "      <td>74447.00</td>\n",
       "      <td>74431.00</td>\n",
       "      <td>...</td>\n",
       "      <td>74161.00</td>\n",
       "      <td>74161.00</td>\n",
       "      <td>74162.00</td>\n",
       "      <td>74162.00</td>\n",
       "      <td>74174.00</td>\n",
       "      <td>74174.00</td>\n",
       "      <td>74184.00</td>\n",
       "      <td>74184.00</td>\n",
       "      <td>74200.00</td>\n",
       "      <td>74200.00</td>\n",
       "    </tr>\n",
       "  </tbody>\n",
       "</table>\n",
       "<p>5 rows × 43 columns</p>\n",
       "</div>"
      ],
      "text/plain": [
       "   traj_id  x_pos  y_pos      x_1      y_1      x_2      y_2      x_3  \\\n",
       "0        0  74446   5951 74441.00 74441.00 74440.00 74440.00 74440.00   \n",
       "1        0  74441   6066 74440.00 74440.00 74440.00 74440.00 74438.00   \n",
       "2        0  74440   6105 74440.00 74440.00 74438.00 74438.00 74437.00   \n",
       "3        0  74440   6108 74438.00 74438.00 74437.00 74437.00 74449.00   \n",
       "4        0  74438   6145 74437.00 74437.00 74449.00 74449.00 74447.00   \n",
       "\n",
       "       y_3      x_4   ...        x_16     y_16     x_17     y_17     x_18  \\\n",
       "0 74440.00 74438.00   ...    74175.00 74175.00 74175.00 74175.00 74174.00   \n",
       "1 74438.00 74437.00   ...    74175.00 74175.00 74174.00 74174.00 74161.00   \n",
       "2 74437.00 74449.00   ...    74174.00 74174.00 74161.00 74161.00 74161.00   \n",
       "3 74449.00 74447.00   ...    74161.00 74161.00 74161.00 74161.00 74162.00   \n",
       "4 74447.00 74431.00   ...    74161.00 74161.00 74162.00 74162.00 74174.00   \n",
       "\n",
       "      y_18     x_19     y_19     x_20     y_20  \n",
       "0 74174.00 74161.00 74161.00 74161.00 74161.00  \n",
       "1 74161.00 74161.00 74161.00 74162.00 74162.00  \n",
       "2 74161.00 74162.00 74162.00 74174.00 74174.00  \n",
       "3 74162.00 74174.00 74174.00 74184.00 74184.00  \n",
       "4 74174.00 74184.00 74184.00 74200.00 74200.00  \n",
       "\n",
       "[5 rows x 43 columns]"
      ]
     },
     "execution_count": 16,
     "metadata": {},
     "output_type": "execute_result"
    }
   ],
   "source": [
    "data.head(5)"
   ]
  },
  {
   "cell_type": "code",
   "execution_count": 26,
   "metadata": {
    "collapsed": true
   },
   "outputs": [],
   "source": [
    "from sklearn.model_selection import train_test_split\n",
    "def dataset_generator(data):\n",
    "    train = 0.8\n",
    "    test = 0.2\n",
    "#     dev = 0.1\n",
    "    total_length = len(data)\n",
    "    total_trajectories = np.ma.count(data['traj_id'].unique())\n",
    "    train_ix = train * total_trajectories\n",
    "    test_ix = test * total_trajectories\n",
    "    X_train, X_test, y_train, y_test = train_test_split(data.iloc[:, 3:], data[['x_pos','y_pos']], \n",
    "                                                        train_size = 0.8, test_size = 0.2, random_state = 1)\n",
    "    return X_train, X_test, y_train, y_test\n",
    "#     dev_ix = dev * total_trajectories\n"
   ]
  },
  {
   "cell_type": "code",
   "execution_count": 1,
   "metadata": {},
   "outputs": [],
   "source": [
    "# X_train, X_test, y_train, y_test = dataset_generator(data)\n",
    "import data_utils\n",
    "X_train, y_train, dev_X, dev_Y, X_test, y_test = data_utils.split_data()"
   ]
  },
  {
   "cell_type": "code",
   "execution_count": 35,
   "metadata": {},
   "outputs": [
    {
     "name": "stdout",
     "output_type": "stream",
     "text": [
      "(3457436, 40) (864359, 40) (3457436, 2) (864359, 2)\n"
     ]
    }
   ],
   "source": [
    "print(X_train.shape, X_test.shape, y_train.shape, y_test.shape)\n",
    "# X_train.reshape(shape = (-1, 10, 1 ))\n",
    "X_train = np.array(X_train)\n",
    "y_train = np.array(y_train)\n",
    "X_test = np.array(X_test)\n",
    "y_test = np.array(y_test)"
   ]
  },
  {
   "cell_type": "code",
   "execution_count": 36,
   "metadata": {
    "collapsed": true
   },
   "outputs": [],
   "source": [
    "X_train = X_train.reshape((-1, 2, w) )\n",
    "X_test = X_test.reshape((-1, 2, w) )"
   ]
  },
  {
   "cell_type": "code",
   "execution_count": 2,
   "metadata": {},
   "outputs": [
    {
     "name": "stdout",
     "output_type": "stream",
     "text": [
      "(3460780, 2, 5) (432598, 2, 5) (3460780, 2) (432598, 2)\n"
     ]
    }
   ],
   "source": [
    "print(X_train.shape, X_test.shape, y_train.shape, y_test.shape)\n",
    "w = 5"
   ]
  },
  {
   "cell_type": "code",
   "execution_count": 3,
   "metadata": {},
   "outputs": [
    {
     "name": "stderr",
     "output_type": "stream",
     "text": [
      "/users/mscdsa2018/ask2/.local/lib/python3.5/site-packages/h5py/__init__.py:36: FutureWarning: Conversion of the second argument of issubdtype from `float` to `np.floating` is deprecated. In future, it will be treated as `np.float64 == np.dtype(float).type`.\n",
      "  from ._conv import register_converters as _register_converters\n",
      "Using TensorFlow backend.\n"
     ]
    },
    {
     "name": "stdout",
     "output_type": "stream",
     "text": [
      "Build model...\n"
     ]
    }
   ],
   "source": [
    "from keras.preprocessing import sequence\n",
    "from keras.models import Sequential\n",
    "from keras.layers import Dense, Embedding\n",
    "from keras.layers import LSTM\n",
    "import numpy as np\n",
    "\n",
    "\n",
    "print('Build model...')\n",
    "model = Sequential()\n",
    "model.add(LSTM(128, input_shape=(2, w)))\n",
    "model.add(Dense(2))\n",
    "\n",
    "# try using different optimizers and different optimizer configs\n",
    "model.compile(loss='mae',\n",
    "              optimizer='adam',\n",
    "              metrics=['accuracy'])\n",
    "\n"
   ]
  },
  {
   "cell_type": "code",
   "execution_count": 4,
   "metadata": {},
   "outputs": [
    {
     "name": "stdout",
     "output_type": "stream",
     "text": [
      "Train...\n",
      "Train on 3460780 samples, validate on 432598 samples\n",
      "Epoch 1/25\n",
      "3460780/3460780 [==============================] - 191s 55us/step - loss: 30860.3289 - acc: 0.2853 - val_loss: 29352.4973 - val_acc: 0.1689\n",
      "Epoch 2/25\n",
      "3460780/3460780 [==============================] - 191s 55us/step - loss: 27763.9874 - acc: 0.1691 - val_loss: 26368.1039 - val_acc: 0.1689\n",
      "Epoch 3/25\n",
      "3460780/3460780 [==============================] - 191s 55us/step - loss: 24728.7902 - acc: 0.2913 - val_loss: 23164.8745 - val_acc: 0.1692\n",
      "Epoch 4/25\n",
      "3460780/3460780 [==============================] - 190s 55us/step - loss: 21722.6004 - acc: 0.5221 - val_loss: 20697.6800 - val_acc: 0.8311\n",
      "Epoch 5/25\n",
      "3460780/3460780 [==============================] - 190s 55us/step - loss: 19459.2739 - acc: 0.8309 - val_loss: 18726.0717 - val_acc: 0.8311\n",
      "Epoch 6/25\n",
      "3460780/3460780 [==============================] - 190s 55us/step - loss: 18220.8393 - acc: 0.8309 - val_loss: 17700.7415 - val_acc: 0.8311\n",
      "Epoch 7/25\n",
      "3460780/3460780 [==============================] - 190s 55us/step - loss: 17083.6952 - acc: 0.8309 - val_loss: 16441.9601 - val_acc: 0.8311\n",
      "Epoch 8/25\n",
      "3460780/3460780 [==============================] - 191s 55us/step - loss: 15980.1245 - acc: 0.8309 - val_loss: 15636.2708 - val_acc: 0.8311\n",
      "Epoch 9/25\n",
      "3460780/3460780 [==============================] - 191s 55us/step - loss: 15228.0054 - acc: 0.8309 - val_loss: 14850.7913 - val_acc: 0.8311\n",
      "Epoch 10/25\n",
      "3460780/3460780 [==============================] - 191s 55us/step - loss: 14439.2463 - acc: 0.8309 - val_loss: 14117.3395 - val_acc: 0.8311\n",
      "Epoch 11/25\n",
      "3460780/3460780 [==============================] - 191s 55us/step - loss: 13884.0656 - acc: 0.8309 - val_loss: 13682.3339 - val_acc: 0.8311\n",
      "Epoch 12/25\n",
      "3460780/3460780 [==============================] - 191s 55us/step - loss: 13475.8772 - acc: 0.8309 - val_loss: 13301.7021 - val_acc: 0.8311\n",
      "Epoch 13/25\n",
      "3460780/3460780 [==============================] - 191s 55us/step - loss: 13173.8650 - acc: 0.8309 - val_loss: 13082.9116 - val_acc: 0.8311\n",
      "Epoch 14/25\n",
      "3460780/3460780 [==============================] - 191s 55us/step - loss: 13021.7133 - acc: 0.8309 - val_loss: 12984.6953 - val_acc: 0.8311\n",
      "Epoch 15/25\n",
      "3460780/3460780 [==============================] - 191s 55us/step - loss: 12956.9107 - acc: 0.8309 - val_loss: 12945.9120 - val_acc: 0.8311\n",
      "Epoch 16/25\n",
      "3460780/3460780 [==============================] - 191s 55us/step - loss: 12932.5306 - acc: 0.8309 - val_loss: 12932.7071 - val_acc: 0.8311\n",
      "Epoch 17/25\n",
      "3460780/3460780 [==============================] - 191s 55us/step - loss: 12924.6322 - acc: 0.8309 - val_loss: 12928.7006 - val_acc: 0.8311\n",
      "Epoch 18/25\n",
      "3460780/3460780 [==============================] - 191s 55us/step - loss: 12922.2547 - acc: 0.8309 - val_loss: 12927.5661 - val_acc: 0.8311\n",
      "Epoch 19/25\n",
      "3460780/3460780 [==============================] - 191s 55us/step - loss: 12921.5728 - acc: 0.8309 - val_loss: 12927.2723 - val_acc: 0.8311\n",
      "Epoch 20/25\n",
      "3460780/3460780 [==============================] - 191s 55us/step - loss: 12921.3781 - acc: 0.8309 - val_loss: 12927.1861 - val_acc: 0.8311\n",
      "Epoch 21/25\n",
      "3460780/3460780 [==============================] - 189s 55us/step - loss: 12921.3273 - acc: 0.8309 - val_loss: 12927.1795 - val_acc: 0.8311\n",
      "Epoch 22/25\n",
      "3460780/3460780 [==============================] - 189s 55us/step - loss: 12921.3147 - acc: 0.8309 - val_loss: 12927.1737 - val_acc: 0.8311\n",
      "Epoch 23/25\n",
      "3460780/3460780 [==============================] - 189s 55us/step - loss: 12921.3106 - acc: 0.8309 - val_loss: 12927.1734 - val_acc: 0.8311\n",
      "Epoch 24/25\n",
      "3460780/3460780 [==============================] - 188s 54us/step - loss: 12921.3088 - acc: 0.8309 - val_loss: 12927.1729 - val_acc: 0.8311\n",
      "Epoch 25/25\n",
      "3460780/3460780 [==============================] - 189s 54us/step - loss: 12921.3078 - acc: 0.8309 - val_loss: 12927.1816 - val_acc: 0.8311\n",
      "432598/432598 [==============================] - 7s 17us/step\n",
      "[12927.181591634115, 0.8310787382286521]\n",
      "Predicting\n"
     ]
    }
   ],
   "source": [
    "\n",
    "print('Train...')\n",
    "history = model.fit(X_train,y_train,epochs=25, batch_size = 64, validation_data=(X_test, y_test))\n",
    "\n",
    "model.save('my_model.h5')\n",
    "\n",
    "score = model.evaluate(X_test, y_test, batch_size=64)\n",
    "print(score)\n",
    "\n",
    "print('Predicting')\n",
    "# predicted_output = model.predict(test_input, batch_size=72)"
   ]
  },
  {
   "cell_type": "code",
   "execution_count": 5,
   "metadata": {},
   "outputs": [
    {
     "name": "stdout",
     "output_type": "stream",
     "text": [
      "_________________________________________________________________\n",
      "Layer (type)                 Output Shape              Param #   \n",
      "=================================================================\n",
      "lstm_1 (LSTM)                (None, 128)               68608     \n",
      "_________________________________________________________________\n",
      "dense_1 (Dense)              (None, 2)                 258       \n",
      "=================================================================\n",
      "Total params: 68,866\n",
      "Trainable params: 68,866\n",
      "Non-trainable params: 0\n",
      "_________________________________________________________________\n",
      "None\n"
     ]
    }
   ],
   "source": [
    "print(model.summary())"
   ]
  },
  {
   "cell_type": "code",
   "execution_count": 8,
   "metadata": {},
   "outputs": [
    {
     "data": {
      "image/png": "[encoded data removed]",
      "text/plain": [
       "<Figure size 432x288 with 1 Axes>"
      ]
     },
     "metadata": {},
     "output_type": "display_data"
    }
   ],
   "source": [
    "plt.plot(history.history['loss'], label = 'train')\n",
    "plt.plot(history.history['val_loss'], label = 'test')\n",
    "plt.legend()\n",
    "plt.show()"
   ]
  },
  {
   "cell_type": "code",
   "execution_count": 9,
   "metadata": {},
   "outputs": [
    {
     "name": "stdout",
     "output_type": "stream",
     "text": [
      "_________________________________________________________________\n",
      "Layer (type)                 Output Shape              Param #   \n",
      "=================================================================\n",
      "lstm_1 (LSTM)                (None, 128)               68608     \n",
      "_________________________________________________________________\n",
      "dense_1 (Dense)              (None, 2)                 258       \n",
      "=================================================================\n",
      "Total params: 68,866\n",
      "Trainable params: 68,866\n",
      "Non-trainable params: 0\n",
      "_________________________________________________________________\n",
      "Inputs: (None, 2, 5)\n",
      "Outputs: (None, 2)\n"
     ]
    }
   ],
   "source": [
    "model.summary()\n",
    "print(\"Inputs: {}\".format(model.input_shape))\n",
    "print(\"Outputs: {}\".format(model.output_shape))"
   ]
  },
  {
   "cell_type": "code",
   "execution_count": 43,
   "metadata": {
    "collapsed": true
   },
   "outputs": [],
   "source": [
    "model = keras.models.load_model('my_model.h5')"
   ]
  },
  {
   "cell_type": "code",
   "execution_count": 10,
   "metadata": {},
   "outputs": [],
   "source": [
    "y_hat_test = model.predict(X_test)"
   ]
  },
  {
   "cell_type": "code",
   "execution_count": 11,
   "metadata": {},
   "outputs": [
    {
     "data": {
      "text/plain": [
       "(432598, 2)"
      ]
     },
     "execution_count": 11,
     "metadata": {},
     "output_type": "execute_result"
    }
   ],
   "source": [
    "y_hat_test.shape"
   ]
  },
  {
   "cell_type": "code",
   "execution_count": 12,
   "metadata": {},
   "outputs": [],
   "source": [
    "\n",
    "dist = np.linalg.norm(y_hat_test-y_test, axis=1)"
   ]
  },
  {
   "cell_type": "code",
   "execution_count": 13,
   "metadata": {},
   "outputs": [
    {
     "name": "stdout",
     "output_type": "stream",
     "text": [
      "22346.765945448784\n"
     ]
    }
   ],
   "source": [
    "\n",
    "print(1/len(dist)*(np.sum(dist)))\n"
   ]
  }
 ],
 "metadata": {
  "kernelspec": {
   "display_name": "Python 3",
   "language": "python",
   "name": "python3"
  },
  "language_info": {
   "codemirror_mode": {
    "name": "ipython",
    "version": 3
   },
   "file_extension": ".py",
   "mimetype": "text/x-python",
   "name": "python",
   "nbconvert_exporter": "python",
   "pygments_lexer": "ipython3",
   "version": "3.6.3"
  }
 },
 "nbformat": 4,
 "nbformat_minor": 2
}
