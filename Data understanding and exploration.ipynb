{
 "cells": [
  {
   "cell_type": "code",
   "execution_count": 1,
   "metadata": {},
   "outputs": [
    {
     "name": "stderr",
     "output_type": "stream",
     "text": [
      "Using TensorFlow backend.\n"
     ]
    }
   ],
   "source": [
    "import numpy as np\n",
    "import pandas as pd\n",
    "import os\n",
    "import shutil\n",
    "import tarfile\n",
    "import matplotlib\n",
    "import matplotlib.pyplot as plt\n",
    "import keras as keras\n",
    "from data_utils import read_files\n",
    "from data_utils import *\n",
    "import platform\n",
    "pd.set_option('display.float_format', lambda x: '%.2f' % x)"
   ]
  },
  {
   "cell_type": "code",
   "execution_count": 2,
   "metadata": {},
   "outputs": [
    {
     "name": "stdout",
     "output_type": "stream",
     "text": [
      "0\n",
      "1\n"
     ]
    }
   ],
   "source": [
    "if platform.system() == 'Darwin':\n",
    "    datafile_path = '/Users/anjalikarimpil/Google Drive/Dissertation/Data/Social LSTM/'\n",
    "else:\n",
    "    datafile_path = '/users/mscdsa2018/ask2/Projects/Data/Social LSTM'\n",
    "# Get list of datafiles read\n",
    "df_list, problem_list = read_files()\n"
   ]
  },
  {
   "cell_type": "code",
   "execution_count": 3,
   "metadata": {},
   "outputs": [],
   "source": [
    "df = df_list[0].copy()\n",
    "df['date'], df['time'] = df[0].str.split('T', 1).str\n",
    "df[0] = pd.to_datetime(df[0], format=\"%Y-%m-%dT%H:%M:%S:%f\")\n",
    "df.columns = ['datetime', 'place', 'x_pos', 'y_pos', 'person_id', 'date', 'time']"
   ]
  },
  {
   "cell_type": "code",
   "execution_count": 4,
   "metadata": {},
   "outputs": [],
   "source": [
    "df.sort_values(['person_id','datetime'], inplace=True, ascending=True)\n",
    "df.reset_index()\n",
    "df['time_lag'] = df.groupby(['person_id', 'date'])['datetime'].shift(1)\n",
    "df['person_lag'] = df['person_id'].shift(1)\n",
    "\n",
    "\n",
    "TIME_THRESHOLD = pd.to_timedelta('00:00:02.00000')\n",
    "# flag 1 \n",
    "df['fl_1'] = (abs(df['time_lag'] - df['datetime']) > TIME_THRESHOLD) | (df['person_lag'] != df['person_id'])\n",
    "df['traj_id'] = df['fl_1'].cumsum()\n"
   ]
  },
  {
   "cell_type": "code",
   "execution_count": 5,
   "metadata": {},
   "outputs": [],
   "source": [
    "POSITION_THRESHOLD = 500\n",
    "df['x_lag'] = df.groupby(['traj_id'])['x_pos'].shift(1)\n",
    "df['y_lag'] = df.groupby(['traj_id'])['y_pos'].shift(1)\n",
    "\n",
    "df['x_diff'] = abs(df['x_pos'] - df['x_lag'])\n",
    "df['y_diff'] = abs(df['y_pos'] - df['y_lag'])\n",
    "df['fl_2'] = (df['x_diff'] > POSITION_THRESHOLD) | (df['y_diff'] > POSITION_THRESHOLD)\n",
    "df['fl_3'] = (df['fl_1'] | df['fl_2'])\n",
    "df['traj_id'] = df['fl_3'].cumsum()"
   ]
  },
  {
   "cell_type": "code",
   "execution_count": 7,
   "metadata": {},
   "outputs": [
    {
     "data": {
      "text/plain": [
       "count   4326044.00\n",
       "mean         95.45\n",
       "std          65.23\n",
       "min           0.00\n",
       "25%          41.00\n",
       "50%         101.00\n",
       "75%         132.00\n",
       "max         500.00\n",
       "Name: x_diff, dtype: float64"
      ]
     },
     "execution_count": 7,
     "metadata": {},
     "output_type": "execute_result"
    }
   ],
   "source": [
    "df['x_lag'] = df.groupby(['traj_id'])['x_pos'].shift(1)\n",
    "df['y_lag'] = df.groupby(['traj_id'])['y_pos'].shift(1)\n",
    "\n",
    "df['x_diff'] = abs(df['x_pos'] - df['x_lag'])\n",
    "df['y_diff'] = abs(df['y_pos'] - df['y_lag'])\n",
    "\n",
    "df['x_diff'].describe()"
   ]
  },
  {
   "cell_type": "code",
   "execution_count": 15,
   "metadata": {},
   "outputs": [
    {
     "data": {
      "text/html": [
       "<div>\n",
       "<style scoped>\n",
       "    .dataframe tbody tr th:only-of-type {\n",
       "        vertical-align: middle;\n",
       "    }\n",
       "\n",
       "    .dataframe tbody tr th {\n",
       "        vertical-align: top;\n",
       "    }\n",
       "\n",
       "    .dataframe thead tr th {\n",
       "        text-align: left;\n",
       "    }\n",
       "\n",
       "    .dataframe thead tr:last-of-type th {\n",
       "        text-align: right;\n",
       "    }\n",
       "</style>\n",
       "<table border=\"1\" class=\"dataframe\">\n",
       "  <thead>\n",
       "    <tr>\n",
       "      <th></th>\n",
       "      <th>x_diff</th>\n",
       "      <th>y_diff</th>\n",
       "    </tr>\n",
       "    <tr>\n",
       "      <th></th>\n",
       "      <th>max</th>\n",
       "      <th>max</th>\n",
       "    </tr>\n",
       "    <tr>\n",
       "      <th>traj_id</th>\n",
       "      <th></th>\n",
       "      <th></th>\n",
       "    </tr>\n",
       "  </thead>\n",
       "  <tbody>\n",
       "    <tr>\n",
       "      <th>1</th>\n",
       "      <td>162.00</td>\n",
       "      <td>186.00</td>\n",
       "    </tr>\n",
       "    <tr>\n",
       "      <th>2</th>\n",
       "      <td>159.00</td>\n",
       "      <td>115.00</td>\n",
       "    </tr>\n",
       "    <tr>\n",
       "      <th>3</th>\n",
       "      <td>432.00</td>\n",
       "      <td>285.00</td>\n",
       "    </tr>\n",
       "    <tr>\n",
       "      <th>4</th>\n",
       "      <td>352.00</td>\n",
       "      <td>457.00</td>\n",
       "    </tr>\n",
       "    <tr>\n",
       "      <th>5</th>\n",
       "      <td>353.00</td>\n",
       "      <td>236.00</td>\n",
       "    </tr>\n",
       "  </tbody>\n",
       "</table>\n",
       "</div>"
      ],
      "text/plain": [
       "        x_diff y_diff\n",
       "           max    max\n",
       "traj_id              \n",
       "1       162.00 186.00\n",
       "2       159.00 115.00\n",
       "3       432.00 285.00\n",
       "4       352.00 457.00\n",
       "5       353.00 236.00"
      ]
     },
     "execution_count": 15,
     "metadata": {},
     "output_type": "execute_result"
    }
   ],
   "source": [
    "df.groupby(['traj_id']).agg({'x_diff': ['max'], 'y_diff': ['max']}).head(5)\n"
   ]
  },
  {
   "cell_type": "code",
   "execution_count": 14,
   "metadata": {},
   "outputs": [
    {
     "data": {
      "image/png": "[encoded data removed]",
      "text/plain": [
       "<matplotlib.figure.Figure at 0x163261da0>"
      ]
     },
     "metadata": {},
     "output_type": "display_data"
    }
   ],
   "source": [
    "index = 6\n",
    "df_1 = df.loc[df['traj_id'] == index]\n",
    "plt.scatter(df_1['x_pos'], df_1['y_pos'])\n",
    "plt.show()"
   ]
  },
  {
   "cell_type": "code",
   "execution_count": 32,
   "metadata": {},
   "outputs": [],
   "source": [
    "data = df[['traj_id','x_pos','y_pos']].copy()\n",
    "INPUT_SEQ_LENGTH = 5\n",
    "OUTPUT_SEQ_LENGTH = 2\n",
    "NUM_DIMENSIONS = 2\n",
    "for i in range(1, INPUT_SEQ_LENGTH + OUTPUT_SEQ_LENGTH):\n",
    "    data['x_' + str(i)] = data.groupby(['traj_id'])['x_pos'].shift(-i)\n",
    "    data['y_' + str(i)] = data.groupby(['traj_id'])['y_pos'].shift(-i)\n",
    "# Remove NAs \n",
    "data = data.dropna()"
   ]
  },
  {
   "cell_type": "code",
   "execution_count": 31,
   "metadata": {},
   "outputs": [],
   "source": [
    "# data.iloc[:, -(OUTPUT_SEQ_LENGTH * NUM_DIMENSIONS):]\n",
    "# data.iloc[:, 1:(INPUT_SEQ_LENGTH * NUM_DIMENSIONS)]"
   ]
  },
  {
   "cell_type": "code",
   "execution_count": 33,
   "metadata": {},
   "outputs": [],
   "source": [
    "from sklearn.model_selection import train_test_split\n",
    "def dataset_generator(data):\n",
    "    train = 0.8\n",
    "    test = 0.2\n",
    "#     dev = 0.1\n",
    "    total_length = len(data)\n",
    "    total_trajectories = np.ma.count(data['traj_id'].unique())\n",
    "    train_ix = train * total_trajectories\n",
    "    test_ix = test * total_trajectories\n",
    "    X = data.iloc[:, 1:(INPUT_SEQ_LENGTH * NUM_DIMENSIONS)]\n",
    "    Y = data.iloc[:, -(OUTPUT_SEQ_LENGTH * NUM_DIMENSIONS):]\n",
    "    X_train, X_test, y_train, y_test = train_test_split(X, Y, \n",
    "                                                        train_size = 0.8, test_size = 0.2, random_state = 1)\n",
    "    return X_train, X_test, y_train, y_test\n",
    "#     dev_ix = dev * total_trajectories\n"
   ]
  },
  {
   "cell_type": "code",
   "execution_count": null,
   "metadata": {},
   "outputs": [],
   "source": [
    "X_train, X_test, y_train, y_test = dataset_generator(data)"
   ]
  },
  {
   "cell_type": "code",
   "execution_count": 1,
   "metadata": {},
   "outputs": [],
   "source": [
    "# X_train, X_test, y_train, y_test = dataset_generator(data)\n",
    "import data_utils\n",
    "X_train, y_train, dev_X, dev_Y, X_test, y_test = data_utils.split_data()"
   ]
  },
  {
   "cell_type": "code",
   "execution_count": 35,
   "metadata": {},
   "outputs": [
    {
     "name": "stdout",
     "output_type": "stream",
     "text": [
      "(3457436, 40) (864359, 40) (3457436, 2) (864359, 2)\n"
     ]
    }
   ],
   "source": [
    "print(X_train.shape, X_test.shape, y_train.shape, y_test.shape)\n",
    "# X_train.reshape(shape = (-1, 10, 1 ))\n",
    "X_train = np.array(X_train)\n",
    "y_train = np.array(y_train)\n",
    "X_test = np.array(X_test)\n",
    "y_test = np.array(y_test)"
   ]
  },
  {
   "cell_type": "code",
   "execution_count": 36,
   "metadata": {
    "collapsed": true
   },
   "outputs": [],
   "source": [
    "X_train = X_train.reshape((-1, 2, w) )\n",
    "X_test = X_test.reshape((-1, 2, w) )"
   ]
  },
  {
   "cell_type": "code",
   "execution_count": 2,
   "metadata": {},
   "outputs": [
    {
     "name": "stdout",
     "output_type": "stream",
     "text": [
      "(3460780, 2, 5) (432598, 2, 5) (3460780, 2) (432598, 2)\n"
     ]
    }
   ],
   "source": [
    "print(X_train.shape, X_test.shape, y_train.shape, y_test.shape)\n",
    "w = 5"
   ]
  },
  {
   "cell_type": "code",
   "execution_count": 3,
   "metadata": {},
   "outputs": [
    {
     "name": "stderr",
     "output_type": "stream",
     "text": [
      "/users/mscdsa2018/ask2/.local/lib/python3.5/site-packages/h5py/__init__.py:36: FutureWarning: Conversion of the second argument of issubdtype from `float` to `np.floating` is deprecated. In future, it will be treated as `np.float64 == np.dtype(float).type`.\n",
      "  from ._conv import register_converters as _register_converters\n",
      "Using TensorFlow backend.\n"
     ]
    },
    {
     "name": "stdout",
     "output_type": "stream",
     "text": [
      "Build model...\n"
     ]
    }
   ],
   "source": [
    "from keras.preprocessing import sequence\n",
    "from keras.models import Sequential\n",
    "from keras.layers import Dense, Embedding\n",
    "from keras.layers import LSTM\n",
    "import numpy as np\n",
    "\n",
    "\n",
    "print('Build model...')\n",
    "model = Sequential()\n",
    "model.add(LSTM(128, input_shape=(2, w)))\n",
    "model.add(Dense(2))\n",
    "\n",
    "# try using different optimizers and different optimizer configs\n",
    "model.compile(loss='mae',\n",
    "              optimizer='adam',\n",
    "              metrics=['accuracy'])\n",
    "\n"
   ]
  },
  {
   "cell_type": "code",
   "execution_count": 4,
   "metadata": {},
   "outputs": [
    {
     "name": "stdout",
     "output_type": "stream",
     "text": [
      "Train...\n",
      "Train on 3460780 samples, validate on 432598 samples\n",
      "Epoch 1/25\n",
      "3460780/3460780 [==============================] - 191s 55us/step - loss: 30860.3289 - acc: 0.2853 - val_loss: 29352.4973 - val_acc: 0.1689\n",
      "Epoch 2/25\n",
      "3460780/3460780 [==============================] - 191s 55us/step - loss: 27763.9874 - acc: 0.1691 - val_loss: 26368.1039 - val_acc: 0.1689\n",
      "Epoch 3/25\n",
      "3460780/3460780 [==============================] - 191s 55us/step - loss: 24728.7902 - acc: 0.2913 - val_loss: 23164.8745 - val_acc: 0.1692\n",
      "Epoch 4/25\n",
      "3460780/3460780 [==============================] - 190s 55us/step - loss: 21722.6004 - acc: 0.5221 - val_loss: 20697.6800 - val_acc: 0.8311\n",
      "Epoch 5/25\n",
      "3460780/3460780 [==============================] - 190s 55us/step - loss: 19459.2739 - acc: 0.8309 - val_loss: 18726.0717 - val_acc: 0.8311\n",
      "Epoch 6/25\n",
      "3460780/3460780 [==============================] - 190s 55us/step - loss: 18220.8393 - acc: 0.8309 - val_loss: 17700.7415 - val_acc: 0.8311\n",
      "Epoch 7/25\n",
      "3460780/3460780 [==============================] - 190s 55us/step - loss: 17083.6952 - acc: 0.8309 - val_loss: 16441.9601 - val_acc: 0.8311\n",
      "Epoch 8/25\n",
      "3460780/3460780 [==============================] - 191s 55us/step - loss: 15980.1245 - acc: 0.8309 - val_loss: 15636.2708 - val_acc: 0.8311\n",
      "Epoch 9/25\n",
      "3460780/3460780 [==============================] - 191s 55us/step - loss: 15228.0054 - acc: 0.8309 - val_loss: 14850.7913 - val_acc: 0.8311\n",
      "Epoch 10/25\n",
      "3460780/3460780 [==============================] - 191s 55us/step - loss: 14439.2463 - acc: 0.8309 - val_loss: 14117.3395 - val_acc: 0.8311\n",
      "Epoch 11/25\n",
      "3460780/3460780 [==============================] - 191s 55us/step - loss: 13884.0656 - acc: 0.8309 - val_loss: 13682.3339 - val_acc: 0.8311\n",
      "Epoch 12/25\n",
      "3460780/3460780 [==============================] - 191s 55us/step - loss: 13475.8772 - acc: 0.8309 - val_loss: 13301.7021 - val_acc: 0.8311\n",
      "Epoch 13/25\n",
      "3460780/3460780 [==============================] - 191s 55us/step - loss: 13173.8650 - acc: 0.8309 - val_loss: 13082.9116 - val_acc: 0.8311\n",
      "Epoch 14/25\n",
      "3460780/3460780 [==============================] - 191s 55us/step - loss: 13021.7133 - acc: 0.8309 - val_loss: 12984.6953 - val_acc: 0.8311\n",
      "Epoch 15/25\n",
      "3460780/3460780 [==============================] - 191s 55us/step - loss: 12956.9107 - acc: 0.8309 - val_loss: 12945.9120 - val_acc: 0.8311\n",
      "Epoch 16/25\n",
      "3460780/3460780 [==============================] - 191s 55us/step - loss: 12932.5306 - acc: 0.8309 - val_loss: 12932.7071 - val_acc: 0.8311\n",
      "Epoch 17/25\n",
      "3460780/3460780 [==============================] - 191s 55us/step - loss: 12924.6322 - acc: 0.8309 - val_loss: 12928.7006 - val_acc: 0.8311\n",
      "Epoch 18/25\n",
      "3460780/3460780 [==============================] - 191s 55us/step - loss: 12922.2547 - acc: 0.8309 - val_loss: 12927.5661 - val_acc: 0.8311\n",
      "Epoch 19/25\n",
      "3460780/3460780 [==============================] - 191s 55us/step - loss: 12921.5728 - acc: 0.8309 - val_loss: 12927.2723 - val_acc: 0.8311\n",
      "Epoch 20/25\n",
      "3460780/3460780 [==============================] - 191s 55us/step - loss: 12921.3781 - acc: 0.8309 - val_loss: 12927.1861 - val_acc: 0.8311\n",
      "Epoch 21/25\n",
      "3460780/3460780 [==============================] - 189s 55us/step - loss: 12921.3273 - acc: 0.8309 - val_loss: 12927.1795 - val_acc: 0.8311\n",
      "Epoch 22/25\n",
      "3460780/3460780 [==============================] - 189s 55us/step - loss: 12921.3147 - acc: 0.8309 - val_loss: 12927.1737 - val_acc: 0.8311\n",
      "Epoch 23/25\n",
      "3460780/3460780 [==============================] - 189s 55us/step - loss: 12921.3106 - acc: 0.8309 - val_loss: 12927.1734 - val_acc: 0.8311\n",
      "Epoch 24/25\n",
      "3460780/3460780 [==============================] - 188s 54us/step - loss: 12921.3088 - acc: 0.8309 - val_loss: 12927.1729 - val_acc: 0.8311\n",
      "Epoch 25/25\n",
      "3460780/3460780 [==============================] - 189s 54us/step - loss: 12921.3078 - acc: 0.8309 - val_loss: 12927.1816 - val_acc: 0.8311\n",
      "432598/432598 [==============================] - 7s 17us/step\n",
      "[12927.181591634115, 0.8310787382286521]\n",
      "Predicting\n"
     ]
    }
   ],
   "source": [
    "\n",
    "print('Train...')\n",
    "history = model.fit(X_train,y_train,epochs=25, batch_size = 64, validation_data=(X_test, y_test))\n",
    "\n",
    "model.save('my_model.h5')\n",
    "\n",
    "score = model.evaluate(X_test, y_test, batch_size=64)\n",
    "print(score)\n",
    "\n",
    "print('Predicting')\n",
    "# predicted_output = model.predict(test_input, batch_size=72)"
   ]
  },
  {
   "cell_type": "code",
   "execution_count": 5,
   "metadata": {},
   "outputs": [
    {
     "name": "stdout",
     "output_type": "stream",
     "text": [
      "_________________________________________________________________\n",
      "Layer (type)                 Output Shape              Param #   \n",
      "=================================================================\n",
      "lstm_1 (LSTM)                (None, 128)               68608     \n",
      "_________________________________________________________________\n",
      "dense_1 (Dense)              (None, 2)                 258       \n",
      "=================================================================\n",
      "Total params: 68,866\n",
      "Trainable params: 68,866\n",
      "Non-trainable params: 0\n",
      "_________________________________________________________________\n",
      "None\n"
     ]
    }
   ],
   "source": [
    "print(model.summary())"
   ]
  },
  {
   "cell_type": "code",
   "execution_count": 8,
   "metadata": {},
   "outputs": [
    {
     "data": {
      "image/png": "[encoded data removed]",
      "text/plain": [
       "<Figure size 432x288 with 1 Axes>"
      ]
     },
     "metadata": {},
     "output_type": "display_data"
    }
   ],
   "source": [
    "plt.plot(history.history['loss'], label = 'train')\n",
    "plt.plot(history.history['val_loss'], label = 'test')\n",
    "plt.legend()\n",
    "plt.show()"
   ]
  },
  {
   "cell_type": "code",
   "execution_count": 9,
   "metadata": {},
   "outputs": [
    {
     "name": "stdout",
     "output_type": "stream",
     "text": [
      "_________________________________________________________________\n",
      "Layer (type)                 Output Shape              Param #   \n",
      "=================================================================\n",
      "lstm_1 (LSTM)                (None, 128)               68608     \n",
      "_________________________________________________________________\n",
      "dense_1 (Dense)              (None, 2)                 258       \n",
      "=================================================================\n",
      "Total params: 68,866\n",
      "Trainable params: 68,866\n",
      "Non-trainable params: 0\n",
      "_________________________________________________________________\n",
      "Inputs: (None, 2, 5)\n",
      "Outputs: (None, 2)\n"
     ]
    }
   ],
   "source": [
    "model.summary()\n",
    "print(\"Inputs: {}\".format(model.input_shape))\n",
    "print(\"Outputs: {}\".format(model.output_shape))"
   ]
  },
  {
   "cell_type": "code",
   "execution_count": 43,
   "metadata": {
    "collapsed": true
   },
   "outputs": [],
   "source": [
    "model = keras.models.load_model('my_model.h5')"
   ]
  },
  {
   "cell_type": "code",
   "execution_count": 10,
   "metadata": {},
   "outputs": [],
   "source": [
    "y_hat_test = model.predict(X_test)"
   ]
  },
  {
   "cell_type": "code",
   "execution_count": 11,
   "metadata": {},
   "outputs": [
    {
     "data": {
      "text/plain": [
       "(432598, 2)"
      ]
     },
     "execution_count": 11,
     "metadata": {},
     "output_type": "execute_result"
    }
   ],
   "source": [
    "y_hat_test.shape"
   ]
  },
  {
   "cell_type": "code",
   "execution_count": 12,
   "metadata": {},
   "outputs": [],
   "source": [
    "\n",
    "dist = np.linalg.norm(y_hat_test-y_test, axis=1)"
   ]
  },
  {
   "cell_type": "code",
   "execution_count": 13,
   "metadata": {},
   "outputs": [
    {
     "name": "stdout",
     "output_type": "stream",
     "text": [
      "22346.765945448784\n"
     ]
    }
   ],
   "source": [
    "\n",
    "print(1/len(dist)*(np.sum(dist)))\n"
   ]
  }
 ],
 "metadata": {
  "kernelspec": {
   "display_name": "Python 3",
   "language": "python",
   "name": "python3"
  },
  "language_info": {
   "codemirror_mode": {
    "name": "ipython",
    "version": 3
   },
   "file_extension": ".py",
   "mimetype": "text/x-python",
   "name": "python",
   "nbconvert_exporter": "python",
   "pygments_lexer": "ipython3",
   "version": "3.6.3"
  }
 },
 "nbformat": 4,
 "nbformat_minor": 2
}
