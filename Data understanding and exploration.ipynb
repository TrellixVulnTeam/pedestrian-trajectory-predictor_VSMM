{
 "cells": [
  {
   "cell_type": "code",
   "execution_count": 1,
   "metadata": {},
   "outputs": [
    {
     "name": "stderr",
     "output_type": "stream",
     "text": [
      "Using TensorFlow backend.\n"
     ]
    }
   ],
   "source": [
    "import numpy as np\n",
    "import pandas as pd\n",
    "import os\n",
    "import shutil\n",
    "import tarfile\n",
    "import matplotlib\n",
    "import matplotlib.pyplot as plt\n",
    "import keras as keras"
   ]
  },
  {
   "cell_type": "code",
   "execution_count": 2,
   "metadata": {},
   "outputs": [
    {
     "name": "stdout",
     "output_type": "stream",
     "text": [
      "['/users/mscdsa2018/ask2/Projects/Datasets/Social LSTM/al_position2013-02-10.csv.tar.gz', '/users/mscdsa2018/ask2/Projects/Datasets/Social LSTM/al_position2013-02-17.csv.tar.gz', '/users/mscdsa2018/ask2/Projects/Datasets/Social LSTM/al_position2013-02-16.csv.tar.gz', '/users/mscdsa2018/ask2/Projects/Datasets/Social LSTM/al_position2013-02-15.csv.tar.gz', '/users/mscdsa2018/ask2/Projects/Datasets/Social LSTM/al_position2013-02-12.csv.tar.gz', '/users/mscdsa2018/ask2/Projects/Datasets/Social LSTM/al_position2013-02-18.csv.tar.gz', '/users/mscdsa2018/ask2/Projects/Datasets/Social LSTM/al_position2013-02-09.csv.tar.gz', '/users/mscdsa2018/ask2/Projects/Datasets/Social LSTM/al_position2013-02-07.csv.tar.gz', '/users/mscdsa2018/ask2/Projects/Datasets/Social LSTM/al_position2013-02-06.csv.tar.gz', '/users/mscdsa2018/ask2/Projects/Datasets/Social LSTM/al_position2013-02-08.csv.tar.gz', '/users/mscdsa2018/ask2/Projects/Datasets/Social LSTM/al_position2013-02-19.csv.tar.gz', '/users/mscdsa2018/ask2/Projects/Datasets/Social LSTM/al_position2013-02-14.csv.tar.gz', '/users/mscdsa2018/ask2/Projects/Datasets/Social LSTM/al_position2013-02-13.csv.tar.gz']\n"
     ]
    }
   ],
   "source": [
    "# datafile_path = '/Users/anjalikarimpil/Google Drive/Dissertation/Data/Social LSTM/'\n",
    "datafile_path = '/users/mscdsa2018/ask2/Projects/Datasets/Social LSTM'\n",
    "datafiles = os.listdir(datafile_path)\n",
    "datafiles = [os.path.join(datafile_path, i) for i in datafiles if i.startswith('al_position') and i.endswith('tar.gz')]\n",
    "print(datafiles)\n"
   ]
  },
  {
   "cell_type": "code",
   "execution_count": 3,
   "metadata": {},
   "outputs": [
    {
     "data": {
      "text/plain": [
       "'/users/mscdsa2018/ask2/Projects/Datasets/Social LSTM/al_position2013-02-10.csv.tar.gz'"
      ]
     },
     "execution_count": 3,
     "metadata": {},
     "output_type": "execute_result"
    }
   ],
   "source": [
    "datafiles[0]"
   ]
  },
  {
   "cell_type": "code",
   "execution_count": 4,
   "metadata": {
    "collapsed": true
   },
   "outputs": [],
   "source": [
    "folders = []\n",
    "tar = tarfile.open(datafiles[0], 'r:gz')\n",
    "tar.extractall(datafiles[0].split('.', 1)[0])\n",
    "tar.close()\n",
    "folders.append(datafiles[0].split('.', 1)[0])"
   ]
  },
  {
   "cell_type": "code",
   "execution_count": 5,
   "metadata": {
    "collapsed": true
   },
   "outputs": [],
   "source": [
    "folders[0]\n",
    "files = os.listdir(os.path.join(datafile_path, folders[0]))\n",
    "files = [os.path.join(datafile_path, folders[0], i) for i in files]\n",
    "# read first file in extracted folder\n",
    "import pandas as pd\n",
    "df=pd.read_csv(files[0], sep=';',header=None)\n"
   ]
  },
  {
   "cell_type": "code",
   "execution_count": 6,
   "metadata": {
    "collapsed": true
   },
   "outputs": [],
   "source": [
    "df['date'], df['time'] = df[0].str.split('T', 1).str\n",
    "df[0] = pd.to_datetime(df[0], format=\"%Y-%m-%dT%H:%M:%S:%f\")\n",
    "df.columns = ['datetime', 'place', 'x_pos', 'y_pos', 'person_id', 'date', 'time']"
   ]
  },
  {
   "cell_type": "code",
   "execution_count": 7,
   "metadata": {},
   "outputs": [
    {
     "data": {
      "text/html": [
       "<div>\n",
       "<style>\n",
       "    .dataframe thead tr:only-child th {\n",
       "        text-align: right;\n",
       "    }\n",
       "\n",
       "    .dataframe thead th {\n",
       "        text-align: left;\n",
       "    }\n",
       "\n",
       "    .dataframe tbody tr th {\n",
       "        vertical-align: top;\n",
       "    }\n",
       "</style>\n",
       "<table border=\"1\" class=\"dataframe\">\n",
       "  <thead>\n",
       "    <tr style=\"text-align: right;\">\n",
       "      <th></th>\n",
       "      <th>x_pos</th>\n",
       "      <th>y_pos</th>\n",
       "      <th>person_id</th>\n",
       "    </tr>\n",
       "  </thead>\n",
       "  <tbody>\n",
       "    <tr>\n",
       "      <th>count</th>\n",
       "      <td>4338515.00</td>\n",
       "      <td>4338515.00</td>\n",
       "      <td>4338515.00</td>\n",
       "    </tr>\n",
       "    <tr>\n",
       "      <th>mean</th>\n",
       "      <td>44941.35</td>\n",
       "      <td>19315.18</td>\n",
       "      <td>2417.36</td>\n",
       "    </tr>\n",
       "    <tr>\n",
       "      <th>std</th>\n",
       "      <td>22191.10</td>\n",
       "      <td>10748.39</td>\n",
       "      <td>1630.09</td>\n",
       "    </tr>\n",
       "    <tr>\n",
       "      <th>min</th>\n",
       "      <td>1870.00</td>\n",
       "      <td>0.00</td>\n",
       "      <td>1.00</td>\n",
       "    </tr>\n",
       "    <tr>\n",
       "      <th>25%</th>\n",
       "      <td>25956.00</td>\n",
       "      <td>12813.00</td>\n",
       "      <td>794.00</td>\n",
       "    </tr>\n",
       "    <tr>\n",
       "      <th>50%</th>\n",
       "      <td>44589.00</td>\n",
       "      <td>14443.00</td>\n",
       "      <td>2356.00</td>\n",
       "    </tr>\n",
       "    <tr>\n",
       "      <th>75%</th>\n",
       "      <td>62170.00</td>\n",
       "      <td>20090.00</td>\n",
       "      <td>3889.00</td>\n",
       "    </tr>\n",
       "    <tr>\n",
       "      <th>max</th>\n",
       "      <td>93785.00</td>\n",
       "      <td>49940.00</td>\n",
       "      <td>5288.00</td>\n",
       "    </tr>\n",
       "  </tbody>\n",
       "</table>\n",
       "</div>"
      ],
      "text/plain": [
       "           x_pos      y_pos  person_id\n",
       "count 4338515.00 4338515.00 4338515.00\n",
       "mean    44941.35   19315.18    2417.36\n",
       "std     22191.10   10748.39    1630.09\n",
       "min      1870.00       0.00       1.00\n",
       "25%     25956.00   12813.00     794.00\n",
       "50%     44589.00   14443.00    2356.00\n",
       "75%     62170.00   20090.00    3889.00\n",
       "max     93785.00   49940.00    5288.00"
      ]
     },
     "execution_count": 7,
     "metadata": {},
     "output_type": "execute_result"
    }
   ],
   "source": [
    "pd.set_option('display.float_format', lambda x: '%.2f' % x)\n",
    "df.describe()"
   ]
  },
  {
   "cell_type": "code",
   "execution_count": 8,
   "metadata": {
    "collapsed": true
   },
   "outputs": [],
   "source": [
    "df.sort_values(['person_id','datetime'], inplace=True, ascending=True)\n",
    "\n",
    "df['time_lead'] = df.groupby(['person_id', 'date'])['datetime'].shift(-1)\n",
    "df['target_x'] = df.groupby(['person_id', 'date'])['x_pos'].shift(-1)\n",
    "df['target_y'] = df.groupby(['person_id', 'date'])['y_pos'].shift(-1)"
   ]
  },
  {
   "cell_type": "code",
   "execution_count": 9,
   "metadata": {},
   "outputs": [
    {
     "data": {
      "text/html": [
       "<div>\n",
       "<style>\n",
       "    .dataframe thead tr:only-child th {\n",
       "        text-align: right;\n",
       "    }\n",
       "\n",
       "    .dataframe thead th {\n",
       "        text-align: left;\n",
       "    }\n",
       "\n",
       "    .dataframe tbody tr th {\n",
       "        vertical-align: top;\n",
       "    }\n",
       "</style>\n",
       "<table border=\"1\" class=\"dataframe\">\n",
       "  <thead>\n",
       "    <tr style=\"text-align: right;\">\n",
       "      <th></th>\n",
       "      <th>datetime</th>\n",
       "      <th>place</th>\n",
       "      <th>x_pos</th>\n",
       "      <th>y_pos</th>\n",
       "      <th>person_id</th>\n",
       "      <th>date</th>\n",
       "      <th>time</th>\n",
       "      <th>time_lead</th>\n",
       "      <th>target_x</th>\n",
       "      <th>target_y</th>\n",
       "      <th>fl</th>\n",
       "      <th>traj_id</th>\n",
       "    </tr>\n",
       "  </thead>\n",
       "  <tbody>\n",
       "    <tr>\n",
       "      <th>0</th>\n",
       "      <td>2013-02-10 07:00:00.026</td>\n",
       "      <td>PIW</td>\n",
       "      <td>74446</td>\n",
       "      <td>5951</td>\n",
       "      <td>1</td>\n",
       "      <td>2013-02-10</td>\n",
       "      <td>07:00:00:026</td>\n",
       "      <td>2013-02-10 07:00:00.126</td>\n",
       "      <td>74441.00</td>\n",
       "      <td>6066.00</td>\n",
       "      <td>0</td>\n",
       "      <td>0</td>\n",
       "    </tr>\n",
       "    <tr>\n",
       "      <th>1</th>\n",
       "      <td>2013-02-10 07:00:00.126</td>\n",
       "      <td>PIW</td>\n",
       "      <td>74441</td>\n",
       "      <td>6066</td>\n",
       "      <td>1</td>\n",
       "      <td>2013-02-10</td>\n",
       "      <td>07:00:00:126</td>\n",
       "      <td>2013-02-10 07:00:00.226</td>\n",
       "      <td>74440.00</td>\n",
       "      <td>6105.00</td>\n",
       "      <td>0</td>\n",
       "      <td>0</td>\n",
       "    </tr>\n",
       "    <tr>\n",
       "      <th>2</th>\n",
       "      <td>2013-02-10 07:00:00.226</td>\n",
       "      <td>PIW</td>\n",
       "      <td>74440</td>\n",
       "      <td>6105</td>\n",
       "      <td>1</td>\n",
       "      <td>2013-02-10</td>\n",
       "      <td>07:00:00:226</td>\n",
       "      <td>2013-02-10 07:00:00.326</td>\n",
       "      <td>74440.00</td>\n",
       "      <td>6108.00</td>\n",
       "      <td>0</td>\n",
       "      <td>0</td>\n",
       "    </tr>\n",
       "    <tr>\n",
       "      <th>3</th>\n",
       "      <td>2013-02-10 07:00:00.326</td>\n",
       "      <td>PIW</td>\n",
       "      <td>74440</td>\n",
       "      <td>6108</td>\n",
       "      <td>1</td>\n",
       "      <td>2013-02-10</td>\n",
       "      <td>07:00:00:326</td>\n",
       "      <td>2013-02-10 07:00:00.426</td>\n",
       "      <td>74438.00</td>\n",
       "      <td>6145.00</td>\n",
       "      <td>0</td>\n",
       "      <td>0</td>\n",
       "    </tr>\n",
       "    <tr>\n",
       "      <th>4</th>\n",
       "      <td>2013-02-10 07:00:00.426</td>\n",
       "      <td>PIW</td>\n",
       "      <td>74438</td>\n",
       "      <td>6145</td>\n",
       "      <td>1</td>\n",
       "      <td>2013-02-10</td>\n",
       "      <td>07:00:00:426</td>\n",
       "      <td>2013-02-10 07:00:00.526</td>\n",
       "      <td>74437.00</td>\n",
       "      <td>6186.00</td>\n",
       "      <td>0</td>\n",
       "      <td>0</td>\n",
       "    </tr>\n",
       "  </tbody>\n",
       "</table>\n",
       "</div>"
      ],
      "text/plain": [
       "                 datetime place  x_pos  y_pos  person_id        date  \\\n",
       "0 2013-02-10 07:00:00.026   PIW  74446   5951          1  2013-02-10   \n",
       "1 2013-02-10 07:00:00.126   PIW  74441   6066          1  2013-02-10   \n",
       "2 2013-02-10 07:00:00.226   PIW  74440   6105          1  2013-02-10   \n",
       "3 2013-02-10 07:00:00.326   PIW  74440   6108          1  2013-02-10   \n",
       "4 2013-02-10 07:00:00.426   PIW  74438   6145          1  2013-02-10   \n",
       "\n",
       "           time               time_lead  target_x  target_y  fl  traj_id  \n",
       "0  07:00:00:026 2013-02-10 07:00:00.126  74441.00   6066.00   0        0  \n",
       "1  07:00:00:126 2013-02-10 07:00:00.226  74440.00   6105.00   0        0  \n",
       "2  07:00:00:226 2013-02-10 07:00:00.326  74440.00   6108.00   0        0  \n",
       "3  07:00:00:326 2013-02-10 07:00:00.426  74438.00   6145.00   0        0  \n",
       "4  07:00:00:426 2013-02-10 07:00:00.526  74437.00   6186.00   0        0  "
      ]
     },
     "execution_count": 9,
     "metadata": {},
     "output_type": "execute_result"
    }
   ],
   "source": [
    "\n",
    "threshold = pd.to_timedelta('00:20:00.00000')\n",
    "df['fl'] = np.where(abs(df['time_lead'] - df['datetime']) > threshold, 1, 0)\n",
    "df.head(5)\n",
    "df['traj_id'] = df['fl'].cumsum()\n",
    "df.head(5)\n"
   ]
  },
  {
   "cell_type": "code",
   "execution_count": 10,
   "metadata": {},
   "outputs": [
    {
     "data": {
      "text/html": [
       "<div>\n",
       "<style>\n",
       "    .dataframe thead tr:only-child th {\n",
       "        text-align: right;\n",
       "    }\n",
       "\n",
       "    .dataframe thead th {\n",
       "        text-align: left;\n",
       "    }\n",
       "\n",
       "    .dataframe tbody tr th {\n",
       "        vertical-align: top;\n",
       "    }\n",
       "</style>\n",
       "<table border=\"1\" class=\"dataframe\">\n",
       "  <thead>\n",
       "    <tr style=\"text-align: right;\">\n",
       "      <th></th>\n",
       "      <th>x_pos</th>\n",
       "      <th>y_pos</th>\n",
       "      <th>person_id</th>\n",
       "      <th>target_x</th>\n",
       "      <th>target_y</th>\n",
       "      <th>fl</th>\n",
       "      <th>traj_id</th>\n",
       "    </tr>\n",
       "  </thead>\n",
       "  <tbody>\n",
       "    <tr>\n",
       "      <th>count</th>\n",
       "      <td>4338515.00</td>\n",
       "      <td>4338515.00</td>\n",
       "      <td>4338515.00</td>\n",
       "      <td>4333227.00</td>\n",
       "      <td>4333227.00</td>\n",
       "      <td>4338515.00</td>\n",
       "      <td>4338515.00</td>\n",
       "    </tr>\n",
       "    <tr>\n",
       "      <th>mean</th>\n",
       "      <td>44941.35</td>\n",
       "      <td>19315.18</td>\n",
       "      <td>2417.36</td>\n",
       "      <td>44943.43</td>\n",
       "      <td>19310.68</td>\n",
       "      <td>0.00</td>\n",
       "      <td>726.24</td>\n",
       "    </tr>\n",
       "    <tr>\n",
       "      <th>std</th>\n",
       "      <td>22191.10</td>\n",
       "      <td>10748.39</td>\n",
       "      <td>1630.09</td>\n",
       "      <td>22180.72</td>\n",
       "      <td>10745.66</td>\n",
       "      <td>0.01</td>\n",
       "      <td>219.82</td>\n",
       "    </tr>\n",
       "    <tr>\n",
       "      <th>min</th>\n",
       "      <td>1870.00</td>\n",
       "      <td>0.00</td>\n",
       "      <td>1.00</td>\n",
       "      <td>1870.00</td>\n",
       "      <td>0.00</td>\n",
       "      <td>0.00</td>\n",
       "      <td>0.00</td>\n",
       "    </tr>\n",
       "    <tr>\n",
       "      <th>25%</th>\n",
       "      <td>25956.00</td>\n",
       "      <td>12813.00</td>\n",
       "      <td>794.00</td>\n",
       "      <td>25969.00</td>\n",
       "      <td>12813.00</td>\n",
       "      <td>0.00</td>\n",
       "      <td>794.00</td>\n",
       "    </tr>\n",
       "    <tr>\n",
       "      <th>50%</th>\n",
       "      <td>44589.00</td>\n",
       "      <td>14443.00</td>\n",
       "      <td>2356.00</td>\n",
       "      <td>44592.00</td>\n",
       "      <td>14440.00</td>\n",
       "      <td>0.00</td>\n",
       "      <td>835.00</td>\n",
       "    </tr>\n",
       "    <tr>\n",
       "      <th>75%</th>\n",
       "      <td>62170.00</td>\n",
       "      <td>20090.00</td>\n",
       "      <td>3889.00</td>\n",
       "      <td>62166.00</td>\n",
       "      <td>20048.50</td>\n",
       "      <td>0.00</td>\n",
       "      <td>835.00</td>\n",
       "    </tr>\n",
       "    <tr>\n",
       "      <th>max</th>\n",
       "      <td>93785.00</td>\n",
       "      <td>49940.00</td>\n",
       "      <td>5288.00</td>\n",
       "      <td>93785.00</td>\n",
       "      <td>49940.00</td>\n",
       "      <td>1.00</td>\n",
       "      <td>835.00</td>\n",
       "    </tr>\n",
       "  </tbody>\n",
       "</table>\n",
       "</div>"
      ],
      "text/plain": [
       "           x_pos      y_pos  person_id   target_x   target_y         fl  \\\n",
       "count 4338515.00 4338515.00 4338515.00 4333227.00 4333227.00 4338515.00   \n",
       "mean    44941.35   19315.18    2417.36   44943.43   19310.68       0.00   \n",
       "std     22191.10   10748.39    1630.09   22180.72   10745.66       0.01   \n",
       "min      1870.00       0.00       1.00    1870.00       0.00       0.00   \n",
       "25%     25956.00   12813.00     794.00   25969.00   12813.00       0.00   \n",
       "50%     44589.00   14443.00    2356.00   44592.00   14440.00       0.00   \n",
       "75%     62170.00   20090.00    3889.00   62166.00   20048.50       0.00   \n",
       "max     93785.00   49940.00    5288.00   93785.00   49940.00       1.00   \n",
       "\n",
       "         traj_id  \n",
       "count 4338515.00  \n",
       "mean      726.24  \n",
       "std       219.82  \n",
       "min         0.00  \n",
       "25%       794.00  \n",
       "50%       835.00  \n",
       "75%       835.00  \n",
       "max       835.00  "
      ]
     },
     "execution_count": 10,
     "metadata": {},
     "output_type": "execute_result"
    }
   ],
   "source": [
    "df.describe()"
   ]
  },
  {
   "cell_type": "code",
   "execution_count": 11,
   "metadata": {
    "collapsed": true
   },
   "outputs": [],
   "source": [
    "# index = 1\n",
    "# df_1 = df.loc[df['traj_id'] == index]\n",
    "# plt.scatter(df_1['x_pos'], df_1['y_pos'])\n",
    "# plt.show()"
   ]
  },
  {
   "cell_type": "code",
   "execution_count": 12,
   "metadata": {},
   "outputs": [
    {
     "data": {
      "text/plain": [
       "836"
      ]
     },
     "execution_count": 12,
     "metadata": {},
     "output_type": "execute_result"
    }
   ],
   "source": [
    "np.ma.count(df['traj_id'].unique())"
   ]
  },
  {
   "cell_type": "code",
   "execution_count": 13,
   "metadata": {
    "collapsed": true
   },
   "outputs": [],
   "source": [
    "# from keras.preprocessing import sequence\n",
    "# from keras.models import Sequential\n",
    "# from keras.layers import Dense, Embedding\n",
    "# from keras.layers import LSTM\n",
    "# from keras.datasets import imdb\n",
    "# import numpy as np\n",
    "\n",
    "# max_features = 4 # 0,1,2,3 (total of 4)\n",
    "# x = [\n",
    "#     [[0],[1],[1],[0],[0],[0]],\n",
    "#     [[0],[0],[0],[2],[2],[0]],\n",
    "#     [[0],[0],[0],[0],[3],[3]],\n",
    "#     [[0],[2],[2],[0],[0],[0]],\n",
    "#     [[0],[0],[3],[3],[0],[0]],\n",
    "#     [[0],[0],[0],[0],[1],[1]]\n",
    "# ]\n",
    "# x = np.array(x,dtype=np.float32)\n",
    "# y = np.array([1,2,3,2,3,1],dtype=np.int32)\n",
    "\n",
    "# # Convert y2 to dummy variables (one-hot encoding of y)\n",
    "# y2 = np.zeros((y.shape[0], max_features),dtype=np.float32)\n",
    "# y2[np.arange(y.shape[0]), y] = 1.0\n",
    "# print(y2)\n",
    "\n",
    "# print('Build model...')\n",
    "# model = Sequential()\n",
    "# model.add(LSTM(units=128, dropout=0.2, recurrent_dropout=0.2, input_shape=(6, 1)))\n",
    "# model.add(Dense(4, activation='sigmoid'))\n",
    "\n",
    "# # try using different optimizers and different optimizer configs\n",
    "# model.compile(loss='binary_crossentropy',\n",
    "#               optimizer='adam',\n",
    "#               metrics=['accuracy'])\n",
    "# print(x.shape, y.shape, y2.shape)\n",
    "# # Work aayi?"
   ]
  },
  {
   "cell_type": "code",
   "execution_count": 14,
   "metadata": {
    "collapsed": true
   },
   "outputs": [],
   "source": [
    "# print('Train...')\n",
    "# model.fit(x,y2,epochs=200)\n",
    "# pred = model.predict(x)\n",
    "# predict_classes = np.argmax(pred,axis=1)\n",
    "# print(\"Predicted classes: {}\",predict_classes)\n",
    "# print(\"Expected classes: {}\",predict_classes)"
   ]
  },
  {
   "cell_type": "code",
   "execution_count": 15,
   "metadata": {},
   "outputs": [
    {
     "name": "stderr",
     "output_type": "stream",
     "text": [
      "/users/mscdsa2018/ask2/anaconda3/lib/python3.6/site-packages/ipykernel_launcher.py:5: SettingWithCopyWarning: \n",
      "A value is trying to be set on a copy of a slice from a DataFrame.\n",
      "Try using .loc[row_indexer,col_indexer] = value instead\n",
      "\n",
      "See the caveats in the documentation: http://pandas.pydata.org/pandas-docs/stable/indexing.html#indexing-view-versus-copy\n",
      "  \"\"\"\n",
      "/users/mscdsa2018/ask2/anaconda3/lib/python3.6/site-packages/ipykernel_launcher.py:6: SettingWithCopyWarning: \n",
      "A value is trying to be set on a copy of a slice from a DataFrame.\n",
      "Try using .loc[row_indexer,col_indexer] = value instead\n",
      "\n",
      "See the caveats in the documentation: http://pandas.pydata.org/pandas-docs/stable/indexing.html#indexing-view-versus-copy\n",
      "  \n"
     ]
    }
   ],
   "source": [
    "\n",
    "data = df[['traj_id','x_pos','y_pos']]\n",
    "w = 20\n",
    "for i in range(1, w + 1):\n",
    "    data['x_'+str(i)] = data.groupby(['traj_id'])['x_pos'].shift(-i)\n",
    "    data['y_'+str(i)] = data.groupby(['traj_id'])['x_pos'].shift(-i)\n",
    "# Remove NAs \n",
    "data = data.dropna()"
   ]
  },
  {
   "cell_type": "code",
   "execution_count": 16,
   "metadata": {},
   "outputs": [
    {
     "data": {
      "text/html": [
       "<div>\n",
       "<style>\n",
       "    .dataframe thead tr:only-child th {\n",
       "        text-align: right;\n",
       "    }\n",
       "\n",
       "    .dataframe thead th {\n",
       "        text-align: left;\n",
       "    }\n",
       "\n",
       "    .dataframe tbody tr th {\n",
       "        vertical-align: top;\n",
       "    }\n",
       "</style>\n",
       "<table border=\"1\" class=\"dataframe\">\n",
       "  <thead>\n",
       "    <tr style=\"text-align: right;\">\n",
       "      <th></th>\n",
       "      <th>traj_id</th>\n",
       "      <th>x_pos</th>\n",
       "      <th>y_pos</th>\n",
       "      <th>x_1</th>\n",
       "      <th>y_1</th>\n",
       "      <th>x_2</th>\n",
       "      <th>y_2</th>\n",
       "      <th>x_3</th>\n",
       "      <th>y_3</th>\n",
       "      <th>x_4</th>\n",
       "      <th>...</th>\n",
       "      <th>x_16</th>\n",
       "      <th>y_16</th>\n",
       "      <th>x_17</th>\n",
       "      <th>y_17</th>\n",
       "      <th>x_18</th>\n",
       "      <th>y_18</th>\n",
       "      <th>x_19</th>\n",
       "      <th>y_19</th>\n",
       "      <th>x_20</th>\n",
       "      <th>y_20</th>\n",
       "    </tr>\n",
       "  </thead>\n",
       "  <tbody>\n",
       "    <tr>\n",
       "      <th>0</th>\n",
       "      <td>0</td>\n",
       "      <td>74446</td>\n",
       "      <td>5951</td>\n",
       "      <td>74441.00</td>\n",
       "      <td>74441.00</td>\n",
       "      <td>74440.00</td>\n",
       "      <td>74440.00</td>\n",
       "      <td>74440.00</td>\n",
       "      <td>74440.00</td>\n",
       "      <td>74438.00</td>\n",
       "      <td>...</td>\n",
       "      <td>74175.00</td>\n",
       "      <td>74175.00</td>\n",
       "      <td>74175.00</td>\n",
       "      <td>74175.00</td>\n",
       "      <td>74174.00</td>\n",
       "      <td>74174.00</td>\n",
       "      <td>74161.00</td>\n",
       "      <td>74161.00</td>\n",
       "      <td>74161.00</td>\n",
       "      <td>74161.00</td>\n",
       "    </tr>\n",
       "    <tr>\n",
       "      <th>1</th>\n",
       "      <td>0</td>\n",
       "      <td>74441</td>\n",
       "      <td>6066</td>\n",
       "      <td>74440.00</td>\n",
       "      <td>74440.00</td>\n",
       "      <td>74440.00</td>\n",
       "      <td>74440.00</td>\n",
       "      <td>74438.00</td>\n",
       "      <td>74438.00</td>\n",
       "      <td>74437.00</td>\n",
       "      <td>...</td>\n",
       "      <td>74175.00</td>\n",
       "      <td>74175.00</td>\n",
       "      <td>74174.00</td>\n",
       "      <td>74174.00</td>\n",
       "      <td>74161.00</td>\n",
       "      <td>74161.00</td>\n",
       "      <td>74161.00</td>\n",
       "      <td>74161.00</td>\n",
       "      <td>74162.00</td>\n",
       "      <td>74162.00</td>\n",
       "    </tr>\n",
       "    <tr>\n",
       "      <th>2</th>\n",
       "      <td>0</td>\n",
       "      <td>74440</td>\n",
       "      <td>6105</td>\n",
       "      <td>74440.00</td>\n",
       "      <td>74440.00</td>\n",
       "      <td>74438.00</td>\n",
       "      <td>74438.00</td>\n",
       "      <td>74437.00</td>\n",
       "      <td>74437.00</td>\n",
       "      <td>74449.00</td>\n",
       "      <td>...</td>\n",
       "      <td>74174.00</td>\n",
       "      <td>74174.00</td>\n",
       "      <td>74161.00</td>\n",
       "      <td>74161.00</td>\n",
       "      <td>74161.00</td>\n",
       "      <td>74161.00</td>\n",
       "      <td>74162.00</td>\n",
       "      <td>74162.00</td>\n",
       "      <td>74174.00</td>\n",
       "      <td>74174.00</td>\n",
       "    </tr>\n",
       "    <tr>\n",
       "      <th>3</th>\n",
       "      <td>0</td>\n",
       "      <td>74440</td>\n",
       "      <td>6108</td>\n",
       "      <td>74438.00</td>\n",
       "      <td>74438.00</td>\n",
       "      <td>74437.00</td>\n",
       "      <td>74437.00</td>\n",
       "      <td>74449.00</td>\n",
       "      <td>74449.00</td>\n",
       "      <td>74447.00</td>\n",
       "      <td>...</td>\n",
       "      <td>74161.00</td>\n",
       "      <td>74161.00</td>\n",
       "      <td>74161.00</td>\n",
       "      <td>74161.00</td>\n",
       "      <td>74162.00</td>\n",
       "      <td>74162.00</td>\n",
       "      <td>74174.00</td>\n",
       "      <td>74174.00</td>\n",
       "      <td>74184.00</td>\n",
       "      <td>74184.00</td>\n",
       "    </tr>\n",
       "    <tr>\n",
       "      <th>4</th>\n",
       "      <td>0</td>\n",
       "      <td>74438</td>\n",
       "      <td>6145</td>\n",
       "      <td>74437.00</td>\n",
       "      <td>74437.00</td>\n",
       "      <td>74449.00</td>\n",
       "      <td>74449.00</td>\n",
       "      <td>74447.00</td>\n",
       "      <td>74447.00</td>\n",
       "      <td>74431.00</td>\n",
       "      <td>...</td>\n",
       "      <td>74161.00</td>\n",
       "      <td>74161.00</td>\n",
       "      <td>74162.00</td>\n",
       "      <td>74162.00</td>\n",
       "      <td>74174.00</td>\n",
       "      <td>74174.00</td>\n",
       "      <td>74184.00</td>\n",
       "      <td>74184.00</td>\n",
       "      <td>74200.00</td>\n",
       "      <td>74200.00</td>\n",
       "    </tr>\n",
       "  </tbody>\n",
       "</table>\n",
       "<p>5 rows × 43 columns</p>\n",
       "</div>"
      ],
      "text/plain": [
       "   traj_id  x_pos  y_pos      x_1      y_1      x_2      y_2      x_3  \\\n",
       "0        0  74446   5951 74441.00 74441.00 74440.00 74440.00 74440.00   \n",
       "1        0  74441   6066 74440.00 74440.00 74440.00 74440.00 74438.00   \n",
       "2        0  74440   6105 74440.00 74440.00 74438.00 74438.00 74437.00   \n",
       "3        0  74440   6108 74438.00 74438.00 74437.00 74437.00 74449.00   \n",
       "4        0  74438   6145 74437.00 74437.00 74449.00 74449.00 74447.00   \n",
       "\n",
       "       y_3      x_4   ...        x_16     y_16     x_17     y_17     x_18  \\\n",
       "0 74440.00 74438.00   ...    74175.00 74175.00 74175.00 74175.00 74174.00   \n",
       "1 74438.00 74437.00   ...    74175.00 74175.00 74174.00 74174.00 74161.00   \n",
       "2 74437.00 74449.00   ...    74174.00 74174.00 74161.00 74161.00 74161.00   \n",
       "3 74449.00 74447.00   ...    74161.00 74161.00 74161.00 74161.00 74162.00   \n",
       "4 74447.00 74431.00   ...    74161.00 74161.00 74162.00 74162.00 74174.00   \n",
       "\n",
       "      y_18     x_19     y_19     x_20     y_20  \n",
       "0 74174.00 74161.00 74161.00 74161.00 74161.00  \n",
       "1 74161.00 74161.00 74161.00 74162.00 74162.00  \n",
       "2 74161.00 74162.00 74162.00 74174.00 74174.00  \n",
       "3 74162.00 74174.00 74174.00 74184.00 74184.00  \n",
       "4 74174.00 74184.00 74184.00 74200.00 74200.00  \n",
       "\n",
       "[5 rows x 43 columns]"
      ]
     },
     "execution_count": 16,
     "metadata": {},
     "output_type": "execute_result"
    }
   ],
   "source": [
    "data.head(5)"
   ]
  },
  {
   "cell_type": "code",
   "execution_count": 26,
   "metadata": {
    "collapsed": true
   },
   "outputs": [],
   "source": [
    "from sklearn.model_selection import train_test_split\n",
    "def dataset_generator(data):\n",
    "    train = 0.8\n",
    "    test = 0.2\n",
    "#     dev = 0.1\n",
    "    total_length = len(data)\n",
    "    total_trajectories = np.ma.count(data['traj_id'].unique())\n",
    "    train_ix = train * total_trajectories\n",
    "    test_ix = test * total_trajectories\n",
    "    X_train, X_test, y_train, y_test = train_test_split(data.iloc[:, 3:], data[['x_pos','y_pos']], \n",
    "                                                        train_size = 0.8, test_size = 0.2, random_state = 1)\n",
    "    return X_train, X_test, y_train, y_test\n",
    "#     dev_ix = dev * total_trajectories\n"
   ]
  },
  {
   "cell_type": "code",
   "execution_count": 34,
   "metadata": {
    "collapsed": true
   },
   "outputs": [],
   "source": [
    "X_train, X_test, y_train, y_test = dataset_generator(data)\n"
   ]
  },
  {
   "cell_type": "code",
   "execution_count": 35,
   "metadata": {},
   "outputs": [
    {
     "name": "stdout",
     "output_type": "stream",
     "text": [
      "(3457436, 40) (864359, 40) (3457436, 2) (864359, 2)\n"
     ]
    }
   ],
   "source": [
    "print(X_train.shape, X_test.shape, y_train.shape, y_test.shape)\n",
    "# X_train.reshape(shape = (-1, 10, 1 ))\n",
    "X_train = np.array(X_train)\n",
    "y_train = np.array(y_train)\n",
    "X_test = np.array(X_test)\n",
    "y_test = np.array(y_test)"
   ]
  },
  {
   "cell_type": "code",
   "execution_count": 36,
   "metadata": {
    "collapsed": true
   },
   "outputs": [],
   "source": [
    "X_train = X_train.reshape((-1, 2, w) )\n",
    "X_test = X_test.reshape((-1, 2, w) )"
   ]
  },
  {
   "cell_type": "code",
   "execution_count": 37,
   "metadata": {},
   "outputs": [
    {
     "name": "stdout",
     "output_type": "stream",
     "text": [
      "(3457436, 2, 20) (864359, 2, 20) (3457436, 2) (864359, 2)\n"
     ]
    }
   ],
   "source": [
    "print(X_train.shape, X_test.shape, y_train.shape, y_test.shape)"
   ]
  },
  {
   "cell_type": "code",
   "execution_count": 38,
   "metadata": {},
   "outputs": [
    {
     "name": "stdout",
     "output_type": "stream",
     "text": [
      "Build model...\n"
     ]
    }
   ],
   "source": [
    "from keras.preprocessing import sequence\n",
    "from keras.models import Sequential\n",
    "from keras.layers import Dense, Embedding\n",
    "from keras.layers import LSTM\n",
    "import numpy as np\n",
    "\n",
    "\n",
    "print('Build model...')\n",
    "model = Sequential()\n",
    "model.add(LSTM(128, input_shape=(2, w)))\n",
    "model.add(Dense(2))\n",
    "\n",
    "# try using different optimizers and different optimizer configs\n",
    "model.compile(loss='mae',\n",
    "              optimizer='adam',\n",
    "              metrics=['accuracy'])\n",
    "\n"
   ]
  },
  {
   "cell_type": "code",
   "execution_count": 39,
   "metadata": {},
   "outputs": [
    {
     "name": "stdout",
     "output_type": "stream",
     "text": [
      "Train...\n",
      "Train on 3457436 samples, validate on 864359 samples\n",
      "Epoch 1/25\n",
      "3457436/3457436 [==============================] - 154s 45us/step - loss: 30359.8810 - acc: 0.3246 - val_loss: 28295.2199 - val_acc: 0.1695\n",
      "Epoch 2/25\n",
      "3457436/3457436 [==============================] - 152s 44us/step - loss: 26212.7922 - acc: 0.1689 - val_loss: 24129.0684 - val_acc: 0.1695\n",
      "Epoch 3/25\n",
      "3457436/3457436 [==============================] - 148s 43us/step - loss: 22202.4086 - acc: 0.3914 - val_loss: 20400.9066 - val_acc: 0.8306\n",
      "Epoch 4/25\n",
      "3457436/3457436 [==============================] - 150s 43us/step - loss: 19256.0237 - acc: 0.8311 - val_loss: 18333.8004 - val_acc: 0.8305\n",
      "Epoch 5/25\n",
      "3457436/3457436 [==============================] - 147s 42us/step - loss: 17561.6796 - acc: 0.8311 - val_loss: 16807.8283 - val_acc: 0.8305\n",
      "Epoch 6/25\n",
      "3457436/3457436 [==============================] - 154s 44us/step - loss: 16143.5257 - acc: 0.8311 - val_loss: 15522.3028 - val_acc: 0.8305\n",
      "Epoch 7/25\n",
      "3457436/3457436 [==============================] - 145s 42us/step - loss: 15019.7628 - acc: 0.8311 - val_loss: 14542.4243 - val_acc: 0.8305\n",
      "Epoch 8/25\n",
      "3457436/3457436 [==============================] - 145s 42us/step - loss: 14144.8720 - acc: 0.8311 - val_loss: 13775.4234 - val_acc: 0.8305\n",
      "Epoch 9/25\n",
      "3457436/3457436 [==============================] - 144s 42us/step - loss: 13502.2529 - acc: 0.8311 - val_loss: 13265.2515 - val_acc: 0.8305\n",
      "Epoch 10/25\n",
      "3457436/3457436 [==============================] - 143s 41us/step - loss: 13126.7728 - acc: 0.8311 - val_loss: 13026.4514 - val_acc: 0.8305\n",
      "Epoch 11/25\n",
      "3457436/3457436 [==============================] - 156s 45us/step - loss: 12977.8637 - acc: 0.8311 - val_loss: 12947.4231 - val_acc: 0.8305\n",
      "Epoch 12/25\n",
      "3457436/3457436 [==============================] - 165s 48us/step - loss: 12932.4433 - acc: 0.8311 - val_loss: 12927.0379 - val_acc: 0.8305\n",
      "Epoch 13/25\n",
      "3457436/3457436 [==============================] - 173s 50us/step - loss: 12921.5883 - acc: 0.8311 - val_loss: 12922.9574 - val_acc: 0.8305\n",
      "Epoch 14/25\n",
      "3457436/3457436 [==============================] - 166s 48us/step - loss: 12919.3238 - acc: 0.8311 - val_loss: 12922.2694 - val_acc: 0.8305\n",
      "Epoch 15/25\n",
      "3457436/3457436 [==============================] - 162s 47us/step - loss: 12918.8668 - acc: 0.8311 - val_loss: 12922.1878 - val_acc: 0.8305\n",
      "Epoch 16/25\n",
      "3457436/3457436 [==============================] - 156s 45us/step - loss: 12918.7761 - acc: 0.8311 - val_loss: 12922.1931 - val_acc: 0.8305\n",
      "Epoch 17/25\n",
      "3457436/3457436 [==============================] - 173s 50us/step - loss: 12918.7549 - acc: 0.8311 - val_loss: 12922.1981 - val_acc: 0.8305\n",
      "Epoch 18/25\n",
      "3457436/3457436 [==============================] - 181s 52us/step - loss: 12918.7442 - acc: 0.8311 - val_loss: 12922.1971 - val_acc: 0.8305\n",
      "Epoch 19/25\n",
      "3457436/3457436 [==============================] - 185s 53us/step - loss: 12918.7346 - acc: 0.8311 - val_loss: 12922.1835 - val_acc: 0.8305\n",
      "Epoch 20/25\n",
      "3457436/3457436 [==============================] - 205s 59us/step - loss: 12918.7269 - acc: 0.8311 - val_loss: 12922.1833 - val_acc: 0.8305\n",
      "Epoch 21/25\n",
      "3457436/3457436 [==============================] - 202s 59us/step - loss: 12918.7187 - acc: 0.8311 - val_loss: 12922.1807 - val_acc: 0.8305\n",
      "Epoch 22/25\n",
      "3457436/3457436 [==============================] - 201s 58us/step - loss: 12918.7107 - acc: 0.8311 - val_loss: 12922.1698 - val_acc: 0.8305\n",
      "Epoch 23/25\n",
      "3457436/3457436 [==============================] - 196s 57us/step - loss: 12918.7019 - acc: 0.8311 - val_loss: 12922.1575 - val_acc: 0.8305\n",
      "Epoch 24/25\n",
      "3457436/3457436 [==============================] - 196s 57us/step - loss: 12918.6936 - acc: 0.8311 - val_loss: 12922.1451 - val_acc: 0.8305\n",
      "Epoch 25/25\n",
      "3457436/3457436 [==============================] - 211s 61us/step - loss: 12918.6859 - acc: 0.8311 - val_loss: 12922.1380 - val_acc: 0.8305\n",
      "864359/864359 [==============================] - 16s 18us/step\n",
      "[12922.138034582384, 0.83051255323371009]\n",
      "Predicting\n"
     ]
    }
   ],
   "source": [
    "\n",
    "print('Train...')\n",
    "history = model.fit(X_train,y_train,epochs=25, batch_size = 64, validation_data=(X_test, y_test))\n",
    "\n",
    "model.save('my_model.h5')\n",
    "\n",
    "score = model.evaluate(X_test, y_test, batch_size=64)\n",
    "print(score)\n",
    "\n",
    "print('Predicting')\n",
    "# predicted_output = model.predict(test_input, batch_size=72)"
   ]
  },
  {
   "cell_type": "code",
   "execution_count": 40,
   "metadata": {},
   "outputs": [
    {
     "name": "stdout",
     "output_type": "stream",
     "text": [
      "_________________________________________________________________\n",
      "Layer (type)                 Output Shape              Param #   \n",
      "=================================================================\n",
      "lstm_3 (LSTM)                (None, 128)               76288     \n",
      "_________________________________________________________________\n",
      "dense_3 (Dense)              (None, 2)                 258       \n",
      "=================================================================\n",
      "Total params: 76,546\n",
      "Trainable params: 76,546\n",
      "Non-trainable params: 0\n",
      "_________________________________________________________________\n",
      "None\n"
     ]
    }
   ],
   "source": [
    "print(model.summary())"
   ]
  },
  {
   "cell_type": "code",
   "execution_count": 41,
   "metadata": {},
   "outputs": [
    {
     "data": {
      "image/png": "[encoded data removed]",
      "text/plain": [
       "<matplotlib.figure.Figure at 0x7f433f4cd240>"
      ]
     },
     "metadata": {},
     "output_type": "display_data"
    }
   ],
   "source": [
    "plt.plot(history.history['loss'], label = 'train')\n",
    "plt.plot(history.history['val_loss'], label = 'test')\n",
    "plt.legend()\n",
    "plt.show()"
   ]
  },
  {
   "cell_type": "code",
   "execution_count": 42,
   "metadata": {},
   "outputs": [
    {
     "name": "stdout",
     "output_type": "stream",
     "text": [
      "_________________________________________________________________\n",
      "Layer (type)                 Output Shape              Param #   \n",
      "=================================================================\n",
      "lstm_3 (LSTM)                (None, 128)               76288     \n",
      "_________________________________________________________________\n",
      "dense_3 (Dense)              (None, 2)                 258       \n",
      "=================================================================\n",
      "Total params: 76,546\n",
      "Trainable params: 76,546\n",
      "Non-trainable params: 0\n",
      "_________________________________________________________________\n",
      "Inputs: (None, 2, 20)\n",
      "Outputs: (None, 2)\n"
     ]
    }
   ],
   "source": [
    "model.summary()\n",
    "print(\"Inputs: {}\".format(model.input_shape))\n",
    "print(\"Outputs: {}\".format(model.output_shape))"
   ]
  },
  {
   "cell_type": "code",
   "execution_count": 43,
   "metadata": {
    "collapsed": true
   },
   "outputs": [],
   "source": [
    "model = keras.models.load_model('my_model.h5')"
   ]
  },
  {
   "cell_type": "code",
   "execution_count": 44,
   "metadata": {
    "collapsed": true
   },
   "outputs": [],
   "source": [
    "y_hat_test = model.predict(X_test)"
   ]
  },
  {
   "cell_type": "code",
   "execution_count": 45,
   "metadata": {},
   "outputs": [
    {
     "data": {
      "text/plain": [
       "(864359, 2)"
      ]
     },
     "execution_count": 45,
     "metadata": {},
     "output_type": "execute_result"
    }
   ],
   "source": [
    "y_hat_test.shape"
   ]
  },
  {
   "cell_type": "code",
   "execution_count": 46,
   "metadata": {
    "collapsed": true
   },
   "outputs": [],
   "source": [
    "\n",
    "dist = np.linalg.norm(y_hat_test-y_test, axis=1)"
   ]
  },
  {
   "cell_type": "code",
   "execution_count": 47,
   "metadata": {},
   "outputs": [
    {
     "name": "stdout",
     "output_type": "stream",
     "text": [
      "22336.2603866\n"
     ]
    }
   ],
   "source": [
    "\n",
    "print(1/len(dist)*(np.sum(dist)))\n"
   ]
  }
 ],
 "metadata": {
  "kernelspec": {
   "display_name": "Python 3",
   "language": "python",
   "name": "python3"
  },
  "language_info": {
   "codemirror_mode": {
    "name": "ipython",
    "version": 3
   },
   "file_extension": ".py",
   "mimetype": "text/x-python",
   "name": "python",
   "nbconvert_exporter": "python",
   "pygments_lexer": "ipython3",
   "version": "3.6.3"
  }
 },
 "nbformat": 4,
 "nbformat_minor": 2
}
