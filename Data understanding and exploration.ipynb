{
 "cells": [
  {
   "cell_type": "code",
   "execution_count": 3,
   "metadata": {},
   "outputs": [],
   "source": [
    "import numpy as np\n",
    "import pandas as pd\n",
    "import os\n",
    "import shutil\n",
    "import tarfile\n",
    "import matplotlib\n",
    "import matplotlib.pyplot as plt\n",
    "import keras as keras\n",
    "from data_utils import read_files\n",
    "import platform\n",
    "pd.set_option('display.float_format', lambda x: '%.2f' % x)"
   ]
  },
  {
   "cell_type": "code",
   "execution_count": 4,
   "metadata": {},
   "outputs": [],
   "source": [
    "if platform.system() == 'Darwin':\n",
    "    datafile_path = '/Users/anjalikarimpil/Google Drive/Dissertation/Data/Social LSTM/'\n",
    "else:\n",
    "    datafile_path = '/users/mscdsa2018/ask2/Projects/Data/Social LSTM'\n",
    "# Get list of datafiles read\n",
    "df_list, problem_list = read_files()\n"
   ]
  },
  {
   "cell_type": "code",
   "execution_count": 5,
   "metadata": {},
   "outputs": [],
   "source": [
    "df = df_list[0].copy()\n",
    "df['date'], df['time'] = df[0].str.split('T', 1).str\n",
    "df[0] = pd.to_datetime(df[0], format=\"%Y-%m-%dT%H:%M:%S:%f\")\n",
    "df.columns = ['datetime', 'place', 'x_pos', 'y_pos', 'person_id', 'date', 'time']"
   ]
  },
  {
   "cell_type": "code",
   "execution_count": 6,
   "metadata": {},
   "outputs": [],
   "source": [
    "df.sort_values(['person_id','datetime'], inplace=True, ascending=True)\n",
    "df.reset_index()\n",
    "df['time_lag'] = df.groupby(['person_id', 'date'])['datetime'].shift(1)\n",
    "df['person_lag'] = df['person_id'].shift(1)\n",
    "\n",
    "\n",
    "TIME_THRESHOLD = pd.to_timedelta('00:00:02.00000')\n",
    "# flag 1 \n",
    "df['fl_1'] = (abs(df['time_lag'] - df['datetime']) > TIME_THRESHOLD) | (df['person_lag'] != df['person_id'])\n",
    "df['traj_id'] = df['fl_1'].cumsum()\n"
   ]
  },
  {
   "cell_type": "code",
   "execution_count": 7,
   "metadata": {},
   "outputs": [],
   "source": [
    "POSITION_THRESHOLD = 500\n",
    "df['x_lag'] = df.groupby(['traj_id'])['x_pos'].shift(1)\n",
    "df['y_lag'] = df.groupby(['traj_id'])['y_pos'].shift(1)\n",
    "\n",
    "df['x_diff'] = abs(df['x_pos'] - df['x_lag'])\n",
    "df['y_diff'] = abs(df['y_pos'] - df['y_lag'])\n",
    "df['fl_2'] = (df['x_diff'] > POSITION_THRESHOLD) | (df['y_diff'] > POSITION_THRESHOLD)\n",
    "df['fl_3'] = (df['fl_1'] | df['fl_2'])\n",
    "df['traj_id'] = df['fl_3'].cumsum()"
   ]
  },
  {
   "cell_type": "code",
   "execution_count": 8,
   "metadata": {},
   "outputs": [
    {
     "data": {
      "text/plain": [
       "count   498.00\n",
       "mean     81.42\n",
       "std      56.63\n",
       "min       0.00\n",
       "25%      44.00\n",
       "50%      70.00\n",
       "75%     120.00\n",
       "max     262.00\n",
       "Name: x_diff, dtype: float64"
      ]
     },
     "execution_count": 8,
     "metadata": {},
     "output_type": "execute_result"
    }
   ],
   "source": [
    "df['x_lag'] = df.groupby(['traj_id'])['x_pos'].shift(1)\n",
    "df['y_lag'] = df.groupby(['traj_id'])['y_pos'].shift(1)\n",
    "\n",
    "df['x_diff'] = abs(df['x_pos'] - df['x_lag'])\n",
    "df['y_diff'] = abs(df['y_pos'] - df['y_lag'])\n",
    "\n"
   ]
  },
  {
   "cell_type": "code",
   "execution_count": 14,
   "metadata": {},
   "outputs": [
    {
     "data": {
      "image/png": "[encoded data removed]",
      "text/plain": [
       "<matplotlib.figure.Figure at 0x163261da0>"
      ]
     },
     "metadata": {},
     "output_type": "display_data"
    }
   ],
   "source": [
    "index = 6\n",
    "df_1 = df.loc[df['traj_id'] == index]\n",
    "plt.scatter(df_1['x_pos'], df_1['y_pos'])\n",
    "plt.show()"
   ]
  },
  {
   "cell_type": "code",
   "execution_count": 32,
   "metadata": {},
   "outputs": [],
   "source": [
    "data = df[['traj_id','x_pos','y_pos']].copy()\n",
    "INPUT_SEQ_LENGTH = 5\n",
    "OUTPUT_SEQ_LENGTH = 2\n",
    "NUM_DIMENSIONS = 2\n",
    "for i in range(1, INPUT_SEQ_LENGTH + OUTPUT_SEQ_LENGTH):\n",
    "    data['x_' + str(i)] = data.groupby(['traj_id'])['x_pos'].shift(-i)\n",
    "    data['y_' + str(i)] = data.groupby(['traj_id'])['y_pos'].shift(-i)\n",
    "# Remove NAs \n",
    "data = data.dropna()"
   ]
  },
  {
   "cell_type": "code",
   "execution_count": 9,
   "metadata": {},
   "outputs": [],
   "source": [
    "from sklearn.model_selection import train_test_split\n",
    "def dataset_generator(data):\n",
    "    train = 0.8\n",
    "    test = 0.2\n",
    "#     dev = 0.1\n",
    "    total_length = len(data)\n",
    "    total_trajectories = np.ma.count(data['traj_id'].unique())\n",
    "    train_ix = train * total_trajectories\n",
    "    test_ix = test * total_trajectories\n",
    "    X = data.iloc[:, 1:(INPUT_SEQ_LENGTH * NUM_DIMENSIONS)]\n",
    "    Y = data.iloc[:, -(OUTPUT_SEQ_LENGTH * NUM_DIMENSIONS):]\n",
    "    X_train, X_test, y_train, y_test = train_test_split(X, Y, \n",
    "                                                        train_size = 0.8, test_size = 0.2, random_state = 1)\n",
    "    return X_train, X_test, y_train, y_test\n",
    "#     dev_ix = dev * total_trajectories\n"
   ]
  },
  {
   "cell_type": "code",
   "execution_count": null,
   "metadata": {},
   "outputs": [],
   "source": [
    "X_train, X_test, y_train, y_test = dataset_generator(data)"
   ]
  },
  {
   "cell_type": "code",
   "execution_count": 12,
   "metadata": {},
   "outputs": [],
   "source": [
    "pedestrian_data = data_utils.get_pedestrian_data()"
   ]
  },
  {
   "cell_type": "code",
   "execution_count": 13,
   "metadata": {},
   "outputs": [
    {
     "data": {
      "text/plain": [
       "[     traj_id  x_pos  y_pos      x_1      y_1      x_2      y_2      x_3  \\\n",
       " 105        1  74276  14165 74034.00 14228.00 73904.00 14152.00 73886.00   \n",
       " 360        2  42768  15017 42699.00 15030.00 42630.00 15044.00 42561.00   \n",
       " 490        2  36849  21373 36853.00 21491.00 36848.00 21608.00 36852.00   \n",
       " 173        1  65829  13889 65656.00 13938.00 65552.00 13961.00 65416.00   \n",
       " 194        2  61239  14064 61083.00 14071.00 60952.00 14047.00 60830.00   \n",
       " 67         1  77370  15761 77298.00 15719.00 77227.00 15678.00 77155.00   \n",
       " 70         1  77155  15636 77084.00 15595.00 77012.00 15553.00 76941.00   \n",
       " 438        2  37370  16071 37326.00 16119.00 37326.00 16229.00 37326.00   \n",
       " 177        1  65225  14022 65028.00 14046.00 64941.00 14058.00 64760.00   \n",
       " 396        2  40277  15503 40207.00 15517.00 40138.00 15530.00 40069.00   \n",
       " 358        2  42907  14990 42837.00 15003.00 42768.00 15017.00 42699.00   \n",
       " 198        2  60701  14046 60586.00 14041.00 60470.00 14063.00 60272.00   \n",
       " 31         1  78158  18709 78147.00 18613.00 78146.00 18535.00 78134.00   \n",
       " 180        1  64760  14106 64568.00 14160.00 64444.00 14179.00 64224.00   \n",
       " 441        2  37326  16339 37326.00 16449.00 37326.00 16559.00 37326.00   \n",
       " 419        2  38685  15814 38616.00 15828.00 38546.00 15841.00 38477.00   \n",
       " 141        1  69905  13885 69786.00 13875.00 69666.00 13865.00 69546.00   \n",
       " 271        2  51039  14082 50845.00 14107.00 50650.00 14132.00 50456.00   \n",
       " 452        2  37326  17549 37326.00 17659.00 37326.00 17769.00 37326.00   \n",
       " 331        2  44775  14625 44706.00 14638.00 44637.00 14652.00 44568.00   \n",
       " 491        2  36853  21491 36848.00 21608.00 36852.00 21679.00 36853.00   \n",
       " 66         1  77442  15802 77370.00 15761.00 77298.00 15719.00 77227.00   \n",
       " 406        2  39585  15638 39515.00 15652.00 39446.00 15665.00 39377.00   \n",
       " 37         1  78062  18229 78052.00 18138.00 78037.00 18093.00 78036.00   \n",
       " 454        2  37326  17769 37326.00 17879.00 37326.00 17989.00 37326.00   \n",
       " 61         1  77799  16010 77728.00 15969.00 77656.00 15927.00 77585.00   \n",
       " 93         1  75511  14681 75439.00 14639.00 75368.00 14598.00 75296.00   \n",
       " 84         1  76154  15055 76083.00 15013.00 76011.00 14971.00 75940.00   \n",
       " 294        2  47397  14263 47336.00 14279.00 47211.00 14266.00 47125.00   \n",
       " 136        1  70504  13935 70384.00 13925.00 70265.00 13915.00 70145.00   \n",
       " ..       ...    ...    ...      ...      ...      ...      ...      ...   \n",
       " 333        2  44637  14652 44568.00 14665.00 44498.00 14679.00 44429.00   \n",
       " 287        2  48042  14271 47841.00 14203.00 47916.00 14285.00 47798.00   \n",
       " 301        2  46852  14219 46782.00 14233.00 46713.00 14246.00 46644.00   \n",
       " 330        2  44845  14611 44775.00 14625.00 44706.00 14638.00 44637.00   \n",
       " 239        2  55200  14039 55096.00 14011.00 55008.00 14004.00 55010.00   \n",
       " 277        2  49872  14233 49678.00 14258.00 49484.00 14283.00 49289.00   \n",
       " 2          1  78293  20763 78316.00 20728.00 78337.00 20729.00 78338.00   \n",
       " 213        2  58594  14143 58450.00 14140.00 58287.00 14137.00 58151.00   \n",
       " 455        2  37326  17879 37326.00 17989.00 37326.00 18099.00 37326.00   \n",
       " 386        2  40969  15368 40900.00 15382.00 40830.00 15395.00 40761.00   \n",
       " 361        2  42699  15030 42630.00 15044.00 42561.00 15057.00 42491.00   \n",
       " 263        2  52594  13880 52400.00 13905.00 52206.00 13930.00 52011.00   \n",
       " 122        1  72181  14075 72061.00 14065.00 71941.00 14055.00 71821.00   \n",
       " 269        2  51428  14031 51233.00 14056.00 51039.00 14082.00 50845.00   \n",
       " 359        2  42837  15003 42768.00 15017.00 42699.00 15030.00 42630.00   \n",
       " 209        2  59147  14114 58989.00 14129.00 58868.00 14134.00 58733.00   \n",
       " 380        2  41384  15287 41315.00 15300.00 41246.00 15314.00 41176.00   \n",
       " 162        1  67304  13687 67299.00 13633.00 67209.00 13645.00 67046.00   \n",
       " 197        2  60830  14050 60701.00 14046.00 60586.00 14041.00 60470.00   \n",
       " 405        2  39654  15625 39585.00 15638.00 39515.00 15652.00 39446.00   \n",
       " 394        2  40415  15476 40346.00 15490.00 40277.00 15503.00 40207.00   \n",
       " 377        2  41592  15246 41522.00 15260.00 41453.00 15273.00 41384.00   \n",
       " 308        2  46367  14314 46298.00 14327.00 46229.00 14341.00 46159.00   \n",
       " 87         1  75940  14930 75868.00 14888.00 75797.00 14847.00 75725.00   \n",
       " 281        2  49095  14334 48900.00 14359.00 48706.00 14384.00 48511.00   \n",
       " 69         1  77227  15678 77155.00 15636.00 77084.00 15595.00 77012.00   \n",
       " 346        2  43737  14827 43668.00 14841.00 43599.00 14854.00 43530.00   \n",
       " 429        2  37993  15949 37923.00 15963.00 37854.00 15976.00 37785.00   \n",
       " 289        2  47916  14285 47798.00 14274.00 47642.00 14218.00 47572.00   \n",
       " 11         1  78401  20203 78383.00 20146.00 78370.00 20003.00 78346.00   \n",
       " \n",
       "          y_3      x_4      y_4      x_5      y_5  \n",
       " 105 14056.00 73755.00 14050.00 73658.00 14020.00  \n",
       " 360 15057.00 42491.00 15071.00 42422.00 15084.00  \n",
       " 490 21679.00 36853.00 21822.00 36887.00 21875.00  \n",
       " 173 13982.00 65225.00 14022.00 65028.00 14046.00  \n",
       " 194 14050.00 60701.00 14046.00 60586.00 14041.00  \n",
       " 67  15636.00 77084.00 15595.00 77012.00 15553.00  \n",
       " 70  15512.00 76869.00 15470.00 76798.00 15428.00  \n",
       " 438 16339.00 37326.00 16449.00 37326.00 16559.00  \n",
       " 177 14106.00 64568.00 14160.00 64444.00 14179.00  \n",
       " 396 15544.00 40000.00 15557.00 39931.00 15571.00  \n",
       " 358 15030.00 42630.00 15044.00 42561.00 15057.00  \n",
       " 198 14082.00 60198.00 14079.00 59993.00 14098.00  \n",
       " 31  18472.00 78108.00 18377.00 78076.00 18318.00  \n",
       " 180 14236.00 64106.00 14253.00 63951.00 14277.00  \n",
       " 441 16669.00 37326.00 16779.00 37326.00 16889.00  \n",
       " 419 15855.00 38408.00 15868.00 38339.00 15882.00  \n",
       " 141 13855.00 69426.00 13845.00 69307.00 13835.00  \n",
       " 271 14157.00 50261.00 14182.00 50067.00 14208.00  \n",
       " 452 17879.00 37326.00 17989.00 37326.00 18099.00  \n",
       " 331 14665.00 44498.00 14679.00 44429.00 14692.00  \n",
       " 491 21822.00 36887.00 21875.00 36892.00 21953.00  \n",
       " 66  15678.00 77155.00 15636.00 77084.00 15595.00  \n",
       " 406 15679.00 39308.00 15692.00 39238.00 15706.00  \n",
       " 37  18020.00 78029.00 17973.00 78023.00 17859.00  \n",
       " 454 18099.00 37326.00 18209.00 37326.00 18319.00  \n",
       " 61  15885.00 77513.00 15844.00 77442.00 15802.00  \n",
       " 93  14556.00 75225.00 14514.00 75072.00 14407.00  \n",
       " 84  14930.00 75868.00 14888.00 75797.00 14847.00  \n",
       " 294 14274.00 47138.00 14296.00 47013.00 14240.00  \n",
       " 136 13905.00 70025.00 13895.00 69905.00 13885.00  \n",
       " ..       ...      ...      ...      ...      ...  \n",
       " 333 14692.00 44360.00 14706.00 44291.00 14719.00  \n",
       " 287 14274.00 47642.00 14218.00 47572.00 14217.00  \n",
       " 301 14260.00 46575.00 14273.00 46506.00 14287.00  \n",
       " 330 14652.00 44568.00 14665.00 44498.00 14679.00  \n",
       " 239 14028.00 54850.00 13978.00 54679.00 13934.00  \n",
       " 277 14309.00 49095.00 14334.00 48900.00 14359.00  \n",
       " 2   20633.00 78356.00 20513.00 78363.00 20439.00  \n",
       " 213 14143.00 58000.00 14150.00 57865.00 14143.00  \n",
       " 455 18209.00 37326.00 18319.00 37326.00 18429.00  \n",
       " 386 15409.00 40692.00 15422.00 40623.00 15436.00  \n",
       " 361 15071.00 42422.00 15084.00 42353.00 15098.00  \n",
       " 263 13955.00 51817.00 13981.00 51622.00 14006.00  \n",
       " 122 14045.00 71702.00 14035.00 71582.00 14025.00  \n",
       " 269 14107.00 50650.00 14132.00 50456.00 14157.00  \n",
       " 359 15044.00 42561.00 15057.00 42491.00 15071.00  \n",
       " 209 14144.00 58594.00 14143.00 58450.00 14140.00  \n",
       " 380 15327.00 41107.00 15341.00 41038.00 15354.00  \n",
       " 162 13683.00 66907.00 13687.00 66733.00 13706.00  \n",
       " 197 14063.00 60272.00 14082.00 60198.00 14079.00  \n",
       " 405 15665.00 39377.00 15679.00 39308.00 15692.00  \n",
       " 394 15517.00 40138.00 15530.00 40069.00 15544.00  \n",
       " 377 15287.00 41315.00 15300.00 41246.00 15314.00  \n",
       " 308 14354.00 46090.00 14368.00 46021.00 14381.00  \n",
       " 87  14805.00 75654.00 14764.00 75582.00 14722.00  \n",
       " 281 14409.00 48249.00 14286.00 48175.00 14288.00  \n",
       " 69  15553.00 76941.00 15512.00 76869.00 15470.00  \n",
       " 346 14868.00 43460.00 14881.00 43391.00 14895.00  \n",
       " 429 15990.00 37716.00 16003.00 37647.00 16017.00  \n",
       " 289 14217.00 47492.00 14249.00 47397.00 14263.00  \n",
       " 11  20018.00 78328.00 19967.00 78298.00 19828.00  \n",
       " \n",
       " [482 rows x 13 columns]]"
      ]
     },
     "execution_count": 13,
     "metadata": {},
     "output_type": "execute_result"
    }
   ],
   "source": []
  },
  {
   "cell_type": "code",
   "execution_count": 36,
   "metadata": {
    "collapsed": true
   },
   "outputs": [],
   "source": [
    "X_train = X_train.reshape((-1, 2, w) )\n",
    "X_test = X_test.reshape((-1, 2, w) )"
   ]
  },
  {
   "cell_type": "code",
   "execution_count": 2,
   "metadata": {},
   "outputs": [
    {
     "name": "stdout",
     "output_type": "stream",
     "text": [
      "(3460780, 2, 5) (432598, 2, 5) (3460780, 2) (432598, 2)\n"
     ]
    }
   ],
   "source": [
    "print(X_train.shape, X_test.shape, y_train.shape, y_test.shape)\n",
    "w = 5"
   ]
  },
  {
   "cell_type": "code",
   "execution_count": 3,
   "metadata": {},
   "outputs": [
    {
     "name": "stderr",
     "output_type": "stream",
     "text": [
      "/users/mscdsa2018/ask2/.local/lib/python3.5/site-packages/h5py/__init__.py:36: FutureWarning: Conversion of the second argument of issubdtype from `float` to `np.floating` is deprecated. In future, it will be treated as `np.float64 == np.dtype(float).type`.\n",
      "  from ._conv import register_converters as _register_converters\n",
      "Using TensorFlow backend.\n"
     ]
    },
    {
     "name": "stdout",
     "output_type": "stream",
     "text": [
      "Build model...\n"
     ]
    }
   ],
   "source": [
    "from keras.preprocessing import sequence\n",
    "from keras.models import Sequential\n",
    "from keras.layers import Dense, Embedding\n",
    "from keras.layers import LSTM\n",
    "import numpy as np\n",
    "\n",
    "\n",
    "print('Build model...')\n",
    "model = Sequential()\n",
    "model.add(LSTM(128, input_shape=(2, w)))\n",
    "model.add(Dense(2))\n",
    "\n",
    "# try using different optimizers and different optimizer configs\n",
    "model.compile(loss='mae',\n",
    "              optimizer='adam',\n",
    "              metrics=['accuracy'])\n",
    "\n"
   ]
  },
  {
   "cell_type": "code",
   "execution_count": 4,
   "metadata": {},
   "outputs": [
    {
     "name": "stdout",
     "output_type": "stream",
     "text": [
      "Train...\n",
      "Train on 3460780 samples, validate on 432598 samples\n",
      "Epoch 1/25\n",
      "3460780/3460780 [==============================] - 191s 55us/step - loss: 30860.3289 - acc: 0.2853 - val_loss: 29352.4973 - val_acc: 0.1689\n",
      "Epoch 2/25\n",
      "3460780/3460780 [==============================] - 191s 55us/step - loss: 27763.9874 - acc: 0.1691 - val_loss: 26368.1039 - val_acc: 0.1689\n",
      "Epoch 3/25\n",
      "3460780/3460780 [==============================] - 191s 55us/step - loss: 24728.7902 - acc: 0.2913 - val_loss: 23164.8745 - val_acc: 0.1692\n",
      "Epoch 4/25\n",
      "3460780/3460780 [==============================] - 190s 55us/step - loss: 21722.6004 - acc: 0.5221 - val_loss: 20697.6800 - val_acc: 0.8311\n",
      "Epoch 5/25\n",
      "3460780/3460780 [==============================] - 190s 55us/step - loss: 19459.2739 - acc: 0.8309 - val_loss: 18726.0717 - val_acc: 0.8311\n",
      "Epoch 6/25\n",
      "3460780/3460780 [==============================] - 190s 55us/step - loss: 18220.8393 - acc: 0.8309 - val_loss: 17700.7415 - val_acc: 0.8311\n",
      "Epoch 7/25\n",
      "3460780/3460780 [==============================] - 190s 55us/step - loss: 17083.6952 - acc: 0.8309 - val_loss: 16441.9601 - val_acc: 0.8311\n",
      "Epoch 8/25\n",
      "3460780/3460780 [==============================] - 191s 55us/step - loss: 15980.1245 - acc: 0.8309 - val_loss: 15636.2708 - val_acc: 0.8311\n",
      "Epoch 9/25\n",
      "3460780/3460780 [==============================] - 191s 55us/step - loss: 15228.0054 - acc: 0.8309 - val_loss: 14850.7913 - val_acc: 0.8311\n",
      "Epoch 10/25\n",
      "3460780/3460780 [==============================] - 191s 55us/step - loss: 14439.2463 - acc: 0.8309 - val_loss: 14117.3395 - val_acc: 0.8311\n",
      "Epoch 11/25\n",
      "3460780/3460780 [==============================] - 191s 55us/step - loss: 13884.0656 - acc: 0.8309 - val_loss: 13682.3339 - val_acc: 0.8311\n",
      "Epoch 12/25\n",
      "3460780/3460780 [==============================] - 191s 55us/step - loss: 13475.8772 - acc: 0.8309 - val_loss: 13301.7021 - val_acc: 0.8311\n",
      "Epoch 13/25\n",
      "3460780/3460780 [==============================] - 191s 55us/step - loss: 13173.8650 - acc: 0.8309 - val_loss: 13082.9116 - val_acc: 0.8311\n",
      "Epoch 14/25\n",
      "3460780/3460780 [==============================] - 191s 55us/step - loss: 13021.7133 - acc: 0.8309 - val_loss: 12984.6953 - val_acc: 0.8311\n",
      "Epoch 15/25\n",
      "3460780/3460780 [==============================] - 191s 55us/step - loss: 12956.9107 - acc: 0.8309 - val_loss: 12945.9120 - val_acc: 0.8311\n",
      "Epoch 16/25\n",
      "3460780/3460780 [==============================] - 191s 55us/step - loss: 12932.5306 - acc: 0.8309 - val_loss: 12932.7071 - val_acc: 0.8311\n",
      "Epoch 17/25\n",
      "3460780/3460780 [==============================] - 191s 55us/step - loss: 12924.6322 - acc: 0.8309 - val_loss: 12928.7006 - val_acc: 0.8311\n",
      "Epoch 18/25\n",
      "3460780/3460780 [==============================] - 191s 55us/step - loss: 12922.2547 - acc: 0.8309 - val_loss: 12927.5661 - val_acc: 0.8311\n",
      "Epoch 19/25\n",
      "3460780/3460780 [==============================] - 191s 55us/step - loss: 12921.5728 - acc: 0.8309 - val_loss: 12927.2723 - val_acc: 0.8311\n",
      "Epoch 20/25\n",
      "3460780/3460780 [==============================] - 191s 55us/step - loss: 12921.3781 - acc: 0.8309 - val_loss: 12927.1861 - val_acc: 0.8311\n",
      "Epoch 21/25\n",
      "3460780/3460780 [==============================] - 189s 55us/step - loss: 12921.3273 - acc: 0.8309 - val_loss: 12927.1795 - val_acc: 0.8311\n",
      "Epoch 22/25\n",
      "3460780/3460780 [==============================] - 189s 55us/step - loss: 12921.3147 - acc: 0.8309 - val_loss: 12927.1737 - val_acc: 0.8311\n",
      "Epoch 23/25\n",
      "3460780/3460780 [==============================] - 189s 55us/step - loss: 12921.3106 - acc: 0.8309 - val_loss: 12927.1734 - val_acc: 0.8311\n",
      "Epoch 24/25\n",
      "3460780/3460780 [==============================] - 188s 54us/step - loss: 12921.3088 - acc: 0.8309 - val_loss: 12927.1729 - val_acc: 0.8311\n",
      "Epoch 25/25\n",
      "3460780/3460780 [==============================] - 189s 54us/step - loss: 12921.3078 - acc: 0.8309 - val_loss: 12927.1816 - val_acc: 0.8311\n",
      "432598/432598 [==============================] - 7s 17us/step\n",
      "[12927.181591634115, 0.8310787382286521]\n",
      "Predicting\n"
     ]
    }
   ],
   "source": [
    "\n",
    "print('Train...')\n",
    "history = model.fit(X_train,y_train,epochs=25, batch_size = 64, validation_data=(X_test, y_test))\n",
    "\n",
    "model.save('my_model.h5')\n",
    "\n",
    "score = model.evaluate(X_test, y_test, batch_size=64)\n",
    "print(score)\n",
    "\n",
    "print('Predicting')\n",
    "# predicted_output = model.predict(test_input, batch_size=72)"
   ]
  },
  {
   "cell_type": "code",
   "execution_count": 5,
   "metadata": {},
   "outputs": [
    {
     "name": "stdout",
     "output_type": "stream",
     "text": [
      "_________________________________________________________________\n",
      "Layer (type)                 Output Shape              Param #   \n",
      "=================================================================\n",
      "lstm_1 (LSTM)                (None, 128)               68608     \n",
      "_________________________________________________________________\n",
      "dense_1 (Dense)              (None, 2)                 258       \n",
      "=================================================================\n",
      "Total params: 68,866\n",
      "Trainable params: 68,866\n",
      "Non-trainable params: 0\n",
      "_________________________________________________________________\n",
      "None\n"
     ]
    }
   ],
   "source": [
    "print(model.summary())"
   ]
  },
  {
   "cell_type": "code",
   "execution_count": 8,
   "metadata": {},
   "outputs": [
    {
     "data": {
      "image/png": "[encoded data removed]",
      "text/plain": [
       "<Figure size 432x288 with 1 Axes>"
      ]
     },
     "metadata": {},
     "output_type": "display_data"
    }
   ],
   "source": [
    "plt.plot(history.history['loss'], label = 'train')\n",
    "plt.plot(history.history['val_loss'], label = 'test')\n",
    "plt.legend()\n",
    "plt.show()"
   ]
  },
  {
   "cell_type": "code",
   "execution_count": 9,
   "metadata": {},
   "outputs": [
    {
     "name": "stdout",
     "output_type": "stream",
     "text": [
      "_________________________________________________________________\n",
      "Layer (type)                 Output Shape              Param #   \n",
      "=================================================================\n",
      "lstm_1 (LSTM)                (None, 128)               68608     \n",
      "_________________________________________________________________\n",
      "dense_1 (Dense)              (None, 2)                 258       \n",
      "=================================================================\n",
      "Total params: 68,866\n",
      "Trainable params: 68,866\n",
      "Non-trainable params: 0\n",
      "_________________________________________________________________\n",
      "Inputs: (None, 2, 5)\n",
      "Outputs: (None, 2)\n"
     ]
    }
   ],
   "source": [
    "model.summary()\n",
    "print(\"Inputs: {}\".format(model.input_shape))\n",
    "print(\"Outputs: {}\".format(model.output_shape))"
   ]
  },
  {
   "cell_type": "code",
   "execution_count": 43,
   "metadata": {
    "collapsed": true
   },
   "outputs": [],
   "source": [
    "model = keras.models.load_model('my_model.h5')"
   ]
  },
  {
   "cell_type": "code",
   "execution_count": 10,
   "metadata": {},
   "outputs": [],
   "source": [
    "y_hat_test = model.predict(X_test)"
   ]
  },
  {
   "cell_type": "code",
   "execution_count": 11,
   "metadata": {},
   "outputs": [
    {
     "data": {
      "text/plain": [
       "(432598, 2)"
      ]
     },
     "execution_count": 11,
     "metadata": {},
     "output_type": "execute_result"
    }
   ],
   "source": [
    "y_hat_test.shape"
   ]
  },
  {
   "cell_type": "code",
   "execution_count": 12,
   "metadata": {},
   "outputs": [],
   "source": [
    "\n",
    "dist = np.linalg.norm(y_hat_test-y_test, axis=1)"
   ]
  },
  {
   "cell_type": "code",
   "execution_count": 13,
   "metadata": {},
   "outputs": [
    {
     "name": "stdout",
     "output_type": "stream",
     "text": [
      "22346.765945448784\n"
     ]
    }
   ],
   "source": [
    "\n",
    "print(1/len(dist)*(np.sum(dist)))\n"
   ]
  },
  {
   "cell_type": "code",
   "execution_count": 16,
   "metadata": {},
   "outputs": [
    {
     "data": {
      "image/png": "[encoded data removed]",
      "text/plain": [
       "<matplotlib.figure.Figure at 0x112fd6828>"
      ]
     },
     "metadata": {},
     "output_type": "display_data"
    }
   ],
   "source": [
    "import matplotlib.pyplot as plt\n",
    "import seaborn as sns\n",
    "\n",
    "import pandas as pd\n",
    "\n",
    "x_pos = [5, 10, 20, 30, 5, 10, 20, 30, 5, 10, 20, 30]\n",
    "y_pos = [100, 100, 200, 200, 300, 300, 400, 400, 500, 500, 600, 600]\n",
    "color =['D', 'D', 'D', 'E', 'E', 'E', 'F', 'F', 'F', 'G', 'G', 'G',]\n",
    "\n",
    "df = pd.DataFrame(dict(x_pos=x_pos, y_pos=y_pos, color=color))\n",
    "\n",
    "sns.lmplot('x_pos', 'y_pos', data=df, hue='color', fit_reg=False)\n",
    "\n",
    "plt.show()\n"
   ]
  },
  {
   "cell_type": "code",
   "execution_count": 6,
   "metadata": {},
   "outputs": [
    {
     "data": {
      "text/plain": [
       "{'carat': [5, 10, 20, 30, 5, 10, 20, 30, 5, 10, 20, 30],\n",
       " 'color': ['D', 'D', 'D', 'E', 'E', 'E', 'F', 'F', 'F', 'G', 'G', 'G'],\n",
       " 'price': [100, 100, 200, 200, 300, 300, 400, 400, 500, 500, 600, 600]}"
      ]
     },
     "execution_count": 6,
     "metadata": {},
     "output_type": "execute_result"
    }
   ],
   "source": [
    "dict(carat=carat, price=price, color=color)"
   ]
  },
  {
   "cell_type": "code",
   "execution_count": 4,
   "metadata": {},
   "outputs": [
    {
     "data": {
      "text/html": [
       "<div>\n",
       "<style scoped>\n",
       "    .dataframe tbody tr th:only-of-type {\n",
       "        vertical-align: middle;\n",
       "    }\n",
       "\n",
       "    .dataframe tbody tr th {\n",
       "        vertical-align: top;\n",
       "    }\n",
       "\n",
       "    .dataframe thead th {\n",
       "        text-align: right;\n",
       "    }\n",
       "</style>\n",
       "<table border=\"1\" class=\"dataframe\">\n",
       "  <thead>\n",
       "    <tr style=\"text-align: right;\">\n",
       "      <th></th>\n",
       "      <th>0</th>\n",
       "      <th>1</th>\n",
       "      <th>2</th>\n",
       "      <th>3</th>\n",
       "      <th>4</th>\n",
       "      <th>5</th>\n",
       "      <th>6</th>\n",
       "      <th>7</th>\n",
       "      <th>8</th>\n",
       "      <th>9</th>\n",
       "      <th>...</th>\n",
       "      <th>18</th>\n",
       "      <th>19</th>\n",
       "      <th>20</th>\n",
       "      <th>21</th>\n",
       "      <th>22</th>\n",
       "      <th>23</th>\n",
       "      <th>24</th>\n",
       "      <th>25</th>\n",
       "      <th>26</th>\n",
       "      <th>27</th>\n",
       "    </tr>\n",
       "  </thead>\n",
       "  <tbody>\n",
       "    <tr>\n",
       "      <th>0</th>\n",
       "      <td>37326.0</td>\n",
       "      <td>37326.0</td>\n",
       "      <td>37326.0</td>\n",
       "      <td>37326.0</td>\n",
       "      <td>37326.0</td>\n",
       "      <td>37326.0</td>\n",
       "      <td>37326.0</td>\n",
       "      <td>37326.0</td>\n",
       "      <td>18099.0</td>\n",
       "      <td>18209.0</td>\n",
       "      <td>...</td>\n",
       "      <td>37326.0</td>\n",
       "      <td>18978.0</td>\n",
       "      <td>19088.0</td>\n",
       "      <td>19198.0</td>\n",
       "      <td>38529.919163</td>\n",
       "      <td>38517.683592</td>\n",
       "      <td>38516.627882</td>\n",
       "      <td>18981.928663</td>\n",
       "      <td>18895.051829</td>\n",
       "      <td>18885.107728</td>\n",
       "    </tr>\n",
       "    <tr>\n",
       "      <th>1</th>\n",
       "      <td>78293.0</td>\n",
       "      <td>78316.0</td>\n",
       "      <td>78337.0</td>\n",
       "      <td>78338.0</td>\n",
       "      <td>78356.0</td>\n",
       "      <td>78363.0</td>\n",
       "      <td>78378.0</td>\n",
       "      <td>78404.0</td>\n",
       "      <td>20763.0</td>\n",
       "      <td>20728.0</td>\n",
       "      <td>...</td>\n",
       "      <td>78383.0</td>\n",
       "      <td>20263.0</td>\n",
       "      <td>20203.0</td>\n",
       "      <td>20146.0</td>\n",
       "      <td>81064.276830</td>\n",
       "      <td>81030.133394</td>\n",
       "      <td>80984.370527</td>\n",
       "      <td>20221.783799</td>\n",
       "      <td>20009.923887</td>\n",
       "      <td>19859.557658</td>\n",
       "    </tr>\n",
       "    <tr>\n",
       "      <th>2</th>\n",
       "      <td>48511.0</td>\n",
       "      <td>48249.0</td>\n",
       "      <td>48175.0</td>\n",
       "      <td>48042.0</td>\n",
       "      <td>47841.0</td>\n",
       "      <td>47916.0</td>\n",
       "      <td>47798.0</td>\n",
       "      <td>47642.0</td>\n",
       "      <td>14409.0</td>\n",
       "      <td>14286.0</td>\n",
       "      <td>...</td>\n",
       "      <td>47397.0</td>\n",
       "      <td>14217.0</td>\n",
       "      <td>14249.0</td>\n",
       "      <td>14263.0</td>\n",
       "      <td>49045.817374</td>\n",
       "      <td>48928.447407</td>\n",
       "      <td>48838.122501</td>\n",
       "      <td>14247.050147</td>\n",
       "      <td>14211.500078</td>\n",
       "      <td>14285.980381</td>\n",
       "    </tr>\n",
       "  </tbody>\n",
       "</table>\n",
       "<p>3 rows × 28 columns</p>\n",
       "</div>"
      ],
      "text/plain": [
       "        0        1        2        3        4        5        6        7   \\\n",
       "0  37326.0  37326.0  37326.0  37326.0  37326.0  37326.0  37326.0  37326.0   \n",
       "1  78293.0  78316.0  78337.0  78338.0  78356.0  78363.0  78378.0  78404.0   \n",
       "2  48511.0  48249.0  48175.0  48042.0  47841.0  47916.0  47798.0  47642.0   \n",
       "\n",
       "        8        9       ...            18       19       20       21  \\\n",
       "0  18099.0  18209.0      ...       37326.0  18978.0  19088.0  19198.0   \n",
       "1  20763.0  20728.0      ...       78383.0  20263.0  20203.0  20146.0   \n",
       "2  14409.0  14286.0      ...       47397.0  14217.0  14249.0  14263.0   \n",
       "\n",
       "             22            23            24            25            26  \\\n",
       "0  38529.919163  38517.683592  38516.627882  18981.928663  18895.051829   \n",
       "1  81064.276830  81030.133394  80984.370527  20221.783799  20009.923887   \n",
       "2  49045.817374  48928.447407  48838.122501  14247.050147  14211.500078   \n",
       "\n",
       "             27  \n",
       "0  18885.107728  \n",
       "1  19859.557658  \n",
       "2  14285.980381  \n",
       "\n",
       "[3 rows x 28 columns]"
      ]
     },
     "execution_count": 4,
     "metadata": {},
     "output_type": "execute_result"
    }
   ],
   "source": [
    "from visualise import show_pedestrian_path\n",
    "import config\n",
    "import pandas as pd\n",
    "data = pd.read_csv('GRU_test_prediction_and_real.csv', header=None)\n",
    "data.head(5)\n"
   ]
  },
  {
   "cell_type": "code",
   "execution_count": 5,
   "metadata": {},
   "outputs": [
    {
     "data": {
      "text/plain": [
       "3"
      ]
     },
     "execution_count": 5,
     "metadata": {},
     "output_type": "execute_result"
    }
   ],
   "source": []
  }
 ],
 "metadata": {
  "kernelspec": {
   "display_name": "Python 3",
   "language": "python",
   "name": "python3"
  },
  "language_info": {
   "codemirror_mode": {
    "name": "ipython",
    "version": 3
   },
   "file_extension": ".py",
   "mimetype": "text/x-python",
   "name": "python",
   "nbconvert_exporter": "python",
   "pygments_lexer": "ipython3",
   "version": "3.6.3"
  }
 },
 "nbformat": 4,
 "nbformat_minor": 2
}
