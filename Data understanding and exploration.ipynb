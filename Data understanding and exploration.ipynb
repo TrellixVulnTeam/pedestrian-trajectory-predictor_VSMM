{
 "cells": [
  {
   "cell_type": "code",
   "execution_count": 2,
   "metadata": {},
   "outputs": [
    {
     "name": "stderr",
     "output_type": "stream",
     "text": [
      "Using TensorFlow backend.\n"
     ]
    }
   ],
   "source": [
    "import numpy as np\n",
    "import pandas as pd\n",
    "import os\n",
    "import shutil\n",
    "import tarfile\n",
    "import matplotlib\n",
    "import matplotlib.pyplot as plt\n",
    "import keras as keras"
   ]
  },
  {
   "cell_type": "code",
   "execution_count": 3,
   "metadata": {},
   "outputs": [
    {
     "name": "stdout",
     "output_type": "stream",
     "text": [
      "['/Users/anjalikarimpil/Google Drive/Dissertation/Data/Social LSTM/al_position2013-02-10.csv.tar.gz', '/Users/anjalikarimpil/Google Drive/Dissertation/Data/Social LSTM/al_position2013-02-18.csv.tar.gz', '/Users/anjalikarimpil/Google Drive/Dissertation/Data/Social LSTM/al_position2013-02-15.csv.tar.gz', '/Users/anjalikarimpil/Google Drive/Dissertation/Data/Social LSTM/al_position2013-02-09.csv.tar.gz', '/Users/anjalikarimpil/Google Drive/Dissertation/Data/Social LSTM/al_position2013-02-12.csv.tar.gz', '/Users/anjalikarimpil/Google Drive/Dissertation/Data/Social LSTM/al_position2013-02-06.csv.tar.gz', '/Users/anjalikarimpil/Google Drive/Dissertation/Data/Social LSTM/al_position2013-02-17.csv.tar.gz', '/Users/anjalikarimpil/Google Drive/Dissertation/Data/Social LSTM/al_position2013-02-19.csv.tar.gz', '/Users/anjalikarimpil/Google Drive/Dissertation/Data/Social LSTM/al_position2013-02-14.csv.tar.gz', '/Users/anjalikarimpil/Google Drive/Dissertation/Data/Social LSTM/al_position2013-02-08.csv.tar.gz', '/Users/anjalikarimpil/Google Drive/Dissertation/Data/Social LSTM/al_position2013-02-07.csv.tar.gz', '/Users/anjalikarimpil/Google Drive/Dissertation/Data/Social LSTM/al_position2013-02-16.csv.tar.gz', '/Users/anjalikarimpil/Google Drive/Dissertation/Data/Social LSTM/al_position2013-02-13.csv.tar.gz']\n"
     ]
    }
   ],
   "source": [
    "datafile_path = '/Users/anjalikarimpil/Google Drive/Dissertation/Data/Social LSTM/'\n",
    "# datafile_path = '/users/mscdsa2018/ask2/Projects/Datasets/Social LSTM'\n",
    "datafiles = os.listdir(datafile_path)\n",
    "datafiles = [os.path.join(datafile_path, i) for i in datafiles if i.startswith('al_position') and i.endswith('tar.gz')]\n",
    "print(datafiles)\n"
   ]
  },
  {
   "cell_type": "code",
   "execution_count": 4,
   "metadata": {},
   "outputs": [
    {
     "data": {
      "text/plain": [
       "'/Users/anjalikarimpil/Google Drive/Dissertation/Data/Social LSTM/al_position2013-02-10.csv.tar.gz'"
      ]
     },
     "execution_count": 4,
     "metadata": {},
     "output_type": "execute_result"
    }
   ],
   "source": [
    "datafiles[0]"
   ]
  },
  {
   "cell_type": "code",
   "execution_count": 5,
   "metadata": {},
   "outputs": [],
   "source": [
    "folders = []\n",
    "tar = tarfile.open(datafiles[0], 'r:gz')\n",
    "tar.extractall(datafiles[0].split('.', 1)[0])\n",
    "tar.close()\n",
    "folders.append(datafiles[0].split('.', 1)[0])"
   ]
  },
  {
   "cell_type": "code",
   "execution_count": 6,
   "metadata": {},
   "outputs": [],
   "source": [
    "folders[0]\n",
    "files = os.listdir(os.path.join(datafile_path, folders[0]))\n",
    "files = [os.path.join(datafile_path, folders[0], i) for i in files]\n",
    "# read first file in extracted folder\n",
    "import pandas as pd\n",
    "df=pd.read_csv(files[0], sep=';',header=None)\n"
   ]
  },
  {
   "cell_type": "code",
   "execution_count": 7,
   "metadata": {},
   "outputs": [],
   "source": [
    "df['date'], df['time'] = df[0].str.split('T', 1).str\n",
    "df[0] = pd.to_datetime(df[0], format=\"%Y-%m-%dT%H:%M:%S:%f\")\n",
    "df.columns = ['datetime', 'place', 'x_pos', 'y_pos', 'person_id', 'date', 'time']"
   ]
  },
  {
   "cell_type": "code",
   "execution_count": 8,
   "metadata": {},
   "outputs": [
    {
     "data": {
      "text/html": [
       "<div>\n",
       "<style scoped>\n",
       "    .dataframe tbody tr th:only-of-type {\n",
       "        vertical-align: middle;\n",
       "    }\n",
       "\n",
       "    .dataframe tbody tr th {\n",
       "        vertical-align: top;\n",
       "    }\n",
       "\n",
       "    .dataframe thead th {\n",
       "        text-align: right;\n",
       "    }\n",
       "</style>\n",
       "<table border=\"1\" class=\"dataframe\">\n",
       "  <thead>\n",
       "    <tr style=\"text-align: right;\">\n",
       "      <th></th>\n",
       "      <th>x_pos</th>\n",
       "      <th>y_pos</th>\n",
       "      <th>person_id</th>\n",
       "    </tr>\n",
       "  </thead>\n",
       "  <tbody>\n",
       "    <tr>\n",
       "      <th>count</th>\n",
       "      <td>4338515.00</td>\n",
       "      <td>4338515.00</td>\n",
       "      <td>4338515.00</td>\n",
       "    </tr>\n",
       "    <tr>\n",
       "      <th>mean</th>\n",
       "      <td>44941.35</td>\n",
       "      <td>19315.18</td>\n",
       "      <td>2417.36</td>\n",
       "    </tr>\n",
       "    <tr>\n",
       "      <th>std</th>\n",
       "      <td>22191.10</td>\n",
       "      <td>10748.39</td>\n",
       "      <td>1630.09</td>\n",
       "    </tr>\n",
       "    <tr>\n",
       "      <th>min</th>\n",
       "      <td>1870.00</td>\n",
       "      <td>0.00</td>\n",
       "      <td>1.00</td>\n",
       "    </tr>\n",
       "    <tr>\n",
       "      <th>25%</th>\n",
       "      <td>25956.00</td>\n",
       "      <td>12813.00</td>\n",
       "      <td>794.00</td>\n",
       "    </tr>\n",
       "    <tr>\n",
       "      <th>50%</th>\n",
       "      <td>44589.00</td>\n",
       "      <td>14443.00</td>\n",
       "      <td>2356.00</td>\n",
       "    </tr>\n",
       "    <tr>\n",
       "      <th>75%</th>\n",
       "      <td>62170.00</td>\n",
       "      <td>20090.00</td>\n",
       "      <td>3889.00</td>\n",
       "    </tr>\n",
       "    <tr>\n",
       "      <th>max</th>\n",
       "      <td>93785.00</td>\n",
       "      <td>49940.00</td>\n",
       "      <td>5288.00</td>\n",
       "    </tr>\n",
       "  </tbody>\n",
       "</table>\n",
       "</div>"
      ],
      "text/plain": [
       "           x_pos      y_pos  person_id\n",
       "count 4338515.00 4338515.00 4338515.00\n",
       "mean    44941.35   19315.18    2417.36\n",
       "std     22191.10   10748.39    1630.09\n",
       "min      1870.00       0.00       1.00\n",
       "25%     25956.00   12813.00     794.00\n",
       "50%     44589.00   14443.00    2356.00\n",
       "75%     62170.00   20090.00    3889.00\n",
       "max     93785.00   49940.00    5288.00"
      ]
     },
     "execution_count": 8,
     "metadata": {},
     "output_type": "execute_result"
    }
   ],
   "source": [
    "pd.set_option('display.float_format', lambda x: '%.2f' % x)\n",
    "df.describe()"
   ]
  },
  {
   "cell_type": "code",
   "execution_count": 9,
   "metadata": {},
   "outputs": [],
   "source": [
    "df.sort_values(['person_id','datetime'], inplace=True, ascending=True)\n",
    "\n",
    "df['time_lead'] = df.groupby(['person_id', 'date'])['datetime'].shift(-1)\n",
    "df['target_x'] = df.groupby(['person_id', 'date'])['x_pos'].shift(-5)\n",
    "df['target_y'] = df.groupby(['person_id', 'date'])['y_pos'].shift(-5)"
   ]
  },
  {
   "cell_type": "code",
   "execution_count": 10,
   "metadata": {},
   "outputs": [
    {
     "data": {
      "text/html": [
       "<div>\n",
       "<style scoped>\n",
       "    .dataframe tbody tr th:only-of-type {\n",
       "        vertical-align: middle;\n",
       "    }\n",
       "\n",
       "    .dataframe tbody tr th {\n",
       "        vertical-align: top;\n",
       "    }\n",
       "\n",
       "    .dataframe thead th {\n",
       "        text-align: right;\n",
       "    }\n",
       "</style>\n",
       "<table border=\"1\" class=\"dataframe\">\n",
       "  <thead>\n",
       "    <tr style=\"text-align: right;\">\n",
       "      <th></th>\n",
       "      <th>datetime</th>\n",
       "      <th>place</th>\n",
       "      <th>x_pos</th>\n",
       "      <th>y_pos</th>\n",
       "      <th>person_id</th>\n",
       "      <th>date</th>\n",
       "      <th>time</th>\n",
       "      <th>time_lead</th>\n",
       "      <th>target_x</th>\n",
       "      <th>target_y</th>\n",
       "      <th>fl</th>\n",
       "      <th>traj_id</th>\n",
       "    </tr>\n",
       "  </thead>\n",
       "  <tbody>\n",
       "    <tr>\n",
       "      <th>0</th>\n",
       "      <td>2013-02-10 07:00:00.026</td>\n",
       "      <td>PIW</td>\n",
       "      <td>74446</td>\n",
       "      <td>5951</td>\n",
       "      <td>1</td>\n",
       "      <td>2013-02-10</td>\n",
       "      <td>07:00:00:026</td>\n",
       "      <td>2013-02-10 07:00:00.126</td>\n",
       "      <td>74437.00</td>\n",
       "      <td>6186.00</td>\n",
       "      <td>0</td>\n",
       "      <td>0</td>\n",
       "    </tr>\n",
       "    <tr>\n",
       "      <th>1</th>\n",
       "      <td>2013-02-10 07:00:00.126</td>\n",
       "      <td>PIW</td>\n",
       "      <td>74441</td>\n",
       "      <td>6066</td>\n",
       "      <td>1</td>\n",
       "      <td>2013-02-10</td>\n",
       "      <td>07:00:00:126</td>\n",
       "      <td>2013-02-10 07:00:00.226</td>\n",
       "      <td>74449.00</td>\n",
       "      <td>6226.00</td>\n",
       "      <td>0</td>\n",
       "      <td>0</td>\n",
       "    </tr>\n",
       "    <tr>\n",
       "      <th>2</th>\n",
       "      <td>2013-02-10 07:00:00.226</td>\n",
       "      <td>PIW</td>\n",
       "      <td>74440</td>\n",
       "      <td>6105</td>\n",
       "      <td>1</td>\n",
       "      <td>2013-02-10</td>\n",
       "      <td>07:00:00:226</td>\n",
       "      <td>2013-02-10 07:00:00.326</td>\n",
       "      <td>74447.00</td>\n",
       "      <td>6265.00</td>\n",
       "      <td>0</td>\n",
       "      <td>0</td>\n",
       "    </tr>\n",
       "    <tr>\n",
       "      <th>3</th>\n",
       "      <td>2013-02-10 07:00:00.326</td>\n",
       "      <td>PIW</td>\n",
       "      <td>74440</td>\n",
       "      <td>6108</td>\n",
       "      <td>1</td>\n",
       "      <td>2013-02-10</td>\n",
       "      <td>07:00:00:326</td>\n",
       "      <td>2013-02-10 07:00:00.426</td>\n",
       "      <td>74431.00</td>\n",
       "      <td>6304.00</td>\n",
       "      <td>0</td>\n",
       "      <td>0</td>\n",
       "    </tr>\n",
       "    <tr>\n",
       "      <th>4</th>\n",
       "      <td>2013-02-10 07:00:00.426</td>\n",
       "      <td>PIW</td>\n",
       "      <td>74438</td>\n",
       "      <td>6145</td>\n",
       "      <td>1</td>\n",
       "      <td>2013-02-10</td>\n",
       "      <td>07:00:00:426</td>\n",
       "      <td>2013-02-10 07:00:00.526</td>\n",
       "      <td>74415.00</td>\n",
       "      <td>6382.00</td>\n",
       "      <td>0</td>\n",
       "      <td>0</td>\n",
       "    </tr>\n",
       "  </tbody>\n",
       "</table>\n",
       "</div>"
      ],
      "text/plain": [
       "                 datetime place  x_pos  y_pos  person_id        date  \\\n",
       "0 2013-02-10 07:00:00.026   PIW  74446   5951          1  2013-02-10   \n",
       "1 2013-02-10 07:00:00.126   PIW  74441   6066          1  2013-02-10   \n",
       "2 2013-02-10 07:00:00.226   PIW  74440   6105          1  2013-02-10   \n",
       "3 2013-02-10 07:00:00.326   PIW  74440   6108          1  2013-02-10   \n",
       "4 2013-02-10 07:00:00.426   PIW  74438   6145          1  2013-02-10   \n",
       "\n",
       "           time               time_lead  target_x  target_y  fl  traj_id  \n",
       "0  07:00:00:026 2013-02-10 07:00:00.126  74437.00   6186.00   0        0  \n",
       "1  07:00:00:126 2013-02-10 07:00:00.226  74449.00   6226.00   0        0  \n",
       "2  07:00:00:226 2013-02-10 07:00:00.326  74447.00   6265.00   0        0  \n",
       "3  07:00:00:326 2013-02-10 07:00:00.426  74431.00   6304.00   0        0  \n",
       "4  07:00:00:426 2013-02-10 07:00:00.526  74415.00   6382.00   0        0  "
      ]
     },
     "execution_count": 10,
     "metadata": {},
     "output_type": "execute_result"
    }
   ],
   "source": [
    "\n",
    "threshold = pd.to_timedelta('00:20:00.00000')\n",
    "df['fl'] = np.where(abs(df['time_lead'] - df['datetime']) > threshold, 1, 0)\n",
    "df.head(5)\n",
    "df['traj_id'] = df['fl'].cumsum()\n",
    "df.head(5)\n"
   ]
  },
  {
   "cell_type": "code",
   "execution_count": 11,
   "metadata": {},
   "outputs": [
    {
     "data": {
      "text/html": [
       "<div>\n",
       "<style scoped>\n",
       "    .dataframe tbody tr th:only-of-type {\n",
       "        vertical-align: middle;\n",
       "    }\n",
       "\n",
       "    .dataframe tbody tr th {\n",
       "        vertical-align: top;\n",
       "    }\n",
       "\n",
       "    .dataframe thead th {\n",
       "        text-align: right;\n",
       "    }\n",
       "</style>\n",
       "<table border=\"1\" class=\"dataframe\">\n",
       "  <thead>\n",
       "    <tr style=\"text-align: right;\">\n",
       "      <th></th>\n",
       "      <th>x_pos</th>\n",
       "      <th>y_pos</th>\n",
       "      <th>person_id</th>\n",
       "      <th>target_x</th>\n",
       "      <th>target_y</th>\n",
       "      <th>fl</th>\n",
       "      <th>traj_id</th>\n",
       "    </tr>\n",
       "  </thead>\n",
       "  <tbody>\n",
       "    <tr>\n",
       "      <th>count</th>\n",
       "      <td>4338515.00</td>\n",
       "      <td>4338515.00</td>\n",
       "      <td>4338515.00</td>\n",
       "      <td>4312075.00</td>\n",
       "      <td>4312075.00</td>\n",
       "      <td>4338515.00</td>\n",
       "      <td>4338515.00</td>\n",
       "    </tr>\n",
       "    <tr>\n",
       "      <th>mean</th>\n",
       "      <td>44941.35</td>\n",
       "      <td>19315.18</td>\n",
       "      <td>2417.36</td>\n",
       "      <td>44951.84</td>\n",
       "      <td>19292.81</td>\n",
       "      <td>0.00</td>\n",
       "      <td>726.24</td>\n",
       "    </tr>\n",
       "    <tr>\n",
       "      <th>std</th>\n",
       "      <td>22191.10</td>\n",
       "      <td>10748.39</td>\n",
       "      <td>1630.09</td>\n",
       "      <td>22139.43</td>\n",
       "      <td>10734.89</td>\n",
       "      <td>0.01</td>\n",
       "      <td>219.82</td>\n",
       "    </tr>\n",
       "    <tr>\n",
       "      <th>min</th>\n",
       "      <td>1870.00</td>\n",
       "      <td>0.00</td>\n",
       "      <td>1.00</td>\n",
       "      <td>1870.00</td>\n",
       "      <td>0.00</td>\n",
       "      <td>0.00</td>\n",
       "      <td>0.00</td>\n",
       "    </tr>\n",
       "    <tr>\n",
       "      <th>25%</th>\n",
       "      <td>25956.00</td>\n",
       "      <td>12813.00</td>\n",
       "      <td>794.00</td>\n",
       "      <td>26025.00</td>\n",
       "      <td>12811.00</td>\n",
       "      <td>0.00</td>\n",
       "      <td>794.00</td>\n",
       "    </tr>\n",
       "    <tr>\n",
       "      <th>50%</th>\n",
       "      <td>44589.00</td>\n",
       "      <td>14443.00</td>\n",
       "      <td>2356.00</td>\n",
       "      <td>44604.00</td>\n",
       "      <td>14432.00</td>\n",
       "      <td>0.00</td>\n",
       "      <td>835.00</td>\n",
       "    </tr>\n",
       "    <tr>\n",
       "      <th>75%</th>\n",
       "      <td>62170.00</td>\n",
       "      <td>20090.00</td>\n",
       "      <td>3889.00</td>\n",
       "      <td>62147.00</td>\n",
       "      <td>19882.00</td>\n",
       "      <td>0.00</td>\n",
       "      <td>835.00</td>\n",
       "    </tr>\n",
       "    <tr>\n",
       "      <th>max</th>\n",
       "      <td>93785.00</td>\n",
       "      <td>49940.00</td>\n",
       "      <td>5288.00</td>\n",
       "      <td>93785.00</td>\n",
       "      <td>49939.00</td>\n",
       "      <td>1.00</td>\n",
       "      <td>835.00</td>\n",
       "    </tr>\n",
       "  </tbody>\n",
       "</table>\n",
       "</div>"
      ],
      "text/plain": [
       "           x_pos      y_pos  person_id   target_x   target_y         fl  \\\n",
       "count 4338515.00 4338515.00 4338515.00 4312075.00 4312075.00 4338515.00   \n",
       "mean    44941.35   19315.18    2417.36   44951.84   19292.81       0.00   \n",
       "std     22191.10   10748.39    1630.09   22139.43   10734.89       0.01   \n",
       "min      1870.00       0.00       1.00    1870.00       0.00       0.00   \n",
       "25%     25956.00   12813.00     794.00   26025.00   12811.00       0.00   \n",
       "50%     44589.00   14443.00    2356.00   44604.00   14432.00       0.00   \n",
       "75%     62170.00   20090.00    3889.00   62147.00   19882.00       0.00   \n",
       "max     93785.00   49940.00    5288.00   93785.00   49939.00       1.00   \n",
       "\n",
       "         traj_id  \n",
       "count 4338515.00  \n",
       "mean      726.24  \n",
       "std       219.82  \n",
       "min         0.00  \n",
       "25%       794.00  \n",
       "50%       835.00  \n",
       "75%       835.00  \n",
       "max       835.00  "
      ]
     },
     "execution_count": 11,
     "metadata": {},
     "output_type": "execute_result"
    }
   ],
   "source": [
    "df.describe()"
   ]
  },
  {
   "cell_type": "code",
   "execution_count": 12,
   "metadata": {},
   "outputs": [],
   "source": [
    "# index = 1\n",
    "# df_1 = df.loc[df['traj_id'] == index]\n",
    "# plt.scatter(df_1['x_pos'], df_1['y_pos'])\n",
    "# plt.show()"
   ]
  },
  {
   "cell_type": "code",
   "execution_count": 13,
   "metadata": {},
   "outputs": [
    {
     "data": {
      "text/plain": [
       "836"
      ]
     },
     "execution_count": 13,
     "metadata": {},
     "output_type": "execute_result"
    }
   ],
   "source": [
    "np.ma.count(df['traj_id'].unique())"
   ]
  },
  {
   "cell_type": "code",
   "execution_count": 14,
   "metadata": {},
   "outputs": [],
   "source": [
    "# from keras.preprocessing import sequence\n",
    "# from keras.models import Sequential\n",
    "# from keras.layers import Dense, Embedding\n",
    "# from keras.layers import LSTM\n",
    "# from keras.datasets import imdb\n",
    "# import numpy as np\n",
    "\n",
    "# max_features = 4 # 0,1,2,3 (total of 4)\n",
    "# x = [\n",
    "#     [[0],[1],[1],[0],[0],[0]],\n",
    "#     [[0],[0],[0],[2],[2],[0]],\n",
    "#     [[0],[0],[0],[0],[3],[3]],\n",
    "#     [[0],[2],[2],[0],[0],[0]],\n",
    "#     [[0],[0],[3],[3],[0],[0]],\n",
    "#     [[0],[0],[0],[0],[1],[1]]\n",
    "# ]\n",
    "# x = np.array(x,dtype=np.float32)\n",
    "# y = np.array([1,2,3,2,3,1],dtype=np.int32)\n",
    "\n",
    "# # Convert y2 to dummy variables (one-hot encoding of y)\n",
    "# y2 = np.zeros((y.shape[0], max_features),dtype=np.float32)\n",
    "# y2[np.arange(y.shape[0]), y] = 1.0\n",
    "# print(y2)\n",
    "\n",
    "# print('Build model...')\n",
    "# model = Sequential()\n",
    "# model.add(LSTM(units=128, dropout=0.2, recurrent_dropout=0.2, input_shape=(6, 1)))\n",
    "# model.add(Dense(4, activation='sigmoid'))\n",
    "\n",
    "# # try using different optimizers and different optimizer configs\n",
    "# model.compile(loss='binary_crossentropy',\n",
    "#               optimizer='adam',\n",
    "#               metrics=['accuracy'])\n",
    "# print(x.shape, y.shape, y2.shape)\n",
    "# # Work aayi?"
   ]
  },
  {
   "cell_type": "code",
   "execution_count": 15,
   "metadata": {},
   "outputs": [],
   "source": [
    "# print('Train...')\n",
    "# model.fit(x,y2,epochs=200)\n",
    "# pred = model.predict(x)\n",
    "# predict_classes = np.argmax(pred,axis=1)\n",
    "# print(\"Predicted classes: {}\",predict_classes)\n",
    "# print(\"Expected classes: {}\",predict_classes)"
   ]
  },
  {
   "cell_type": "code",
   "execution_count": 16,
   "metadata": {},
   "outputs": [
    {
     "name": "stderr",
     "output_type": "stream",
     "text": [
      "/usr/local/Cellar/python3/3.6.3/Frameworks/Python.framework/Versions/3.6/lib/python3.6/site-packages/ipykernel_launcher.py:5: SettingWithCopyWarning: \n",
      "A value is trying to be set on a copy of a slice from a DataFrame.\n",
      "Try using .loc[row_indexer,col_indexer] = value instead\n",
      "\n",
      "See the caveats in the documentation: http://pandas.pydata.org/pandas-docs/stable/indexing.html#indexing-view-versus-copy\n",
      "  \"\"\"\n",
      "/usr/local/Cellar/python3/3.6.3/Frameworks/Python.framework/Versions/3.6/lib/python3.6/site-packages/ipykernel_launcher.py:6: SettingWithCopyWarning: \n",
      "A value is trying to be set on a copy of a slice from a DataFrame.\n",
      "Try using .loc[row_indexer,col_indexer] = value instead\n",
      "\n",
      "See the caveats in the documentation: http://pandas.pydata.org/pandas-docs/stable/indexing.html#indexing-view-versus-copy\n",
      "  \n"
     ]
    }
   ],
   "source": [
    "\n",
    "data = df[['traj_id','x_pos','y_pos']]\n",
    "w = 20\n",
    "for i in range(1, w + 1):\n",
    "    data['x_'+str(i)] = data.groupby(['traj_id'])['x_pos'].shift(-i)\n",
    "    data['y_'+str(i)] = data.groupby(['traj_id'])['x_pos'].shift(-i)\n",
    "# Remove NAs \n",
    "data = data.dropna()"
   ]
  },
  {
   "cell_type": "code",
   "execution_count": 17,
   "metadata": {},
   "outputs": [
    {
     "data": {
      "text/html": [
       "<div>\n",
       "<style scoped>\n",
       "    .dataframe tbody tr th:only-of-type {\n",
       "        vertical-align: middle;\n",
       "    }\n",
       "\n",
       "    .dataframe tbody tr th {\n",
       "        vertical-align: top;\n",
       "    }\n",
       "\n",
       "    .dataframe thead th {\n",
       "        text-align: right;\n",
       "    }\n",
       "</style>\n",
       "<table border=\"1\" class=\"dataframe\">\n",
       "  <thead>\n",
       "    <tr style=\"text-align: right;\">\n",
       "      <th></th>\n",
       "      <th>traj_id</th>\n",
       "      <th>x_pos</th>\n",
       "      <th>y_pos</th>\n",
       "      <th>x_1</th>\n",
       "      <th>y_1</th>\n",
       "      <th>x_2</th>\n",
       "      <th>y_2</th>\n",
       "      <th>x_3</th>\n",
       "      <th>y_3</th>\n",
       "      <th>x_4</th>\n",
       "      <th>y_4</th>\n",
       "      <th>x_5</th>\n",
       "      <th>y_5</th>\n",
       "    </tr>\n",
       "  </thead>\n",
       "  <tbody>\n",
       "    <tr>\n",
       "      <th>0</th>\n",
       "      <td>0</td>\n",
       "      <td>74446</td>\n",
       "      <td>5951</td>\n",
       "      <td>74441.00</td>\n",
       "      <td>74441.00</td>\n",
       "      <td>74440.00</td>\n",
       "      <td>74440.00</td>\n",
       "      <td>74440.00</td>\n",
       "      <td>74440.00</td>\n",
       "      <td>74438.00</td>\n",
       "      <td>74438.00</td>\n",
       "      <td>74437.00</td>\n",
       "      <td>74437.00</td>\n",
       "    </tr>\n",
       "    <tr>\n",
       "      <th>1</th>\n",
       "      <td>0</td>\n",
       "      <td>74441</td>\n",
       "      <td>6066</td>\n",
       "      <td>74440.00</td>\n",
       "      <td>74440.00</td>\n",
       "      <td>74440.00</td>\n",
       "      <td>74440.00</td>\n",
       "      <td>74438.00</td>\n",
       "      <td>74438.00</td>\n",
       "      <td>74437.00</td>\n",
       "      <td>74437.00</td>\n",
       "      <td>74449.00</td>\n",
       "      <td>74449.00</td>\n",
       "    </tr>\n",
       "    <tr>\n",
       "      <th>2</th>\n",
       "      <td>0</td>\n",
       "      <td>74440</td>\n",
       "      <td>6105</td>\n",
       "      <td>74440.00</td>\n",
       "      <td>74440.00</td>\n",
       "      <td>74438.00</td>\n",
       "      <td>74438.00</td>\n",
       "      <td>74437.00</td>\n",
       "      <td>74437.00</td>\n",
       "      <td>74449.00</td>\n",
       "      <td>74449.00</td>\n",
       "      <td>74447.00</td>\n",
       "      <td>74447.00</td>\n",
       "    </tr>\n",
       "    <tr>\n",
       "      <th>3</th>\n",
       "      <td>0</td>\n",
       "      <td>74440</td>\n",
       "      <td>6108</td>\n",
       "      <td>74438.00</td>\n",
       "      <td>74438.00</td>\n",
       "      <td>74437.00</td>\n",
       "      <td>74437.00</td>\n",
       "      <td>74449.00</td>\n",
       "      <td>74449.00</td>\n",
       "      <td>74447.00</td>\n",
       "      <td>74447.00</td>\n",
       "      <td>74431.00</td>\n",
       "      <td>74431.00</td>\n",
       "    </tr>\n",
       "    <tr>\n",
       "      <th>4</th>\n",
       "      <td>0</td>\n",
       "      <td>74438</td>\n",
       "      <td>6145</td>\n",
       "      <td>74437.00</td>\n",
       "      <td>74437.00</td>\n",
       "      <td>74449.00</td>\n",
       "      <td>74449.00</td>\n",
       "      <td>74447.00</td>\n",
       "      <td>74447.00</td>\n",
       "      <td>74431.00</td>\n",
       "      <td>74431.00</td>\n",
       "      <td>74415.00</td>\n",
       "      <td>74415.00</td>\n",
       "    </tr>\n",
       "  </tbody>\n",
       "</table>\n",
       "</div>"
      ],
      "text/plain": [
       "   traj_id  x_pos  y_pos      x_1      y_1      x_2      y_2      x_3  \\\n",
       "0        0  74446   5951 74441.00 74441.00 74440.00 74440.00 74440.00   \n",
       "1        0  74441   6066 74440.00 74440.00 74440.00 74440.00 74438.00   \n",
       "2        0  74440   6105 74440.00 74440.00 74438.00 74438.00 74437.00   \n",
       "3        0  74440   6108 74438.00 74438.00 74437.00 74437.00 74449.00   \n",
       "4        0  74438   6145 74437.00 74437.00 74449.00 74449.00 74447.00   \n",
       "\n",
       "       y_3      x_4      y_4      x_5      y_5  \n",
       "0 74440.00 74438.00 74438.00 74437.00 74437.00  \n",
       "1 74438.00 74437.00 74437.00 74449.00 74449.00  \n",
       "2 74437.00 74449.00 74449.00 74447.00 74447.00  \n",
       "3 74449.00 74447.00 74447.00 74431.00 74431.00  \n",
       "4 74447.00 74431.00 74431.00 74415.00 74415.00  "
      ]
     },
     "execution_count": 17,
     "metadata": {},
     "output_type": "execute_result"
    }
   ],
   "source": [
    "data.head(5)"
   ]
  },
  {
   "cell_type": "code",
   "execution_count": 18,
   "metadata": {},
   "outputs": [],
   "source": [
    "from sklearn.model_selection import train_test_split\n",
    "def dataset_generator(data):\n",
    "    train = 0.8\n",
    "    test = 0.2\n",
    "#     dev = 0.1\n",
    "    total_length = len(data)\n",
    "    total_trajectories = np.ma.count(data['traj_id'].unique())\n",
    "    train_ix = train * total_trajectories\n",
    "    test_ix = test * total_trajectories\n",
    "    X_train, X_test, y_train, y_test = train_test_split(data.iloc[:, 3:], data[['x_pos','y_pos']], \n",
    "                                                        train_size = 0.8, test_size = 0.2, random_state = 1)\n",
    "    return X_train, X_test, y_train, y_test\n",
    "#     dev_ix = dev * total_trajectories\n"
   ]
  },
  {
   "cell_type": "code",
   "execution_count": 19,
   "metadata": {},
   "outputs": [],
   "source": [
    "X_train, X_test, y_train, y_test = dataset_generator(data)\n"
   ]
  },
  {
   "cell_type": "code",
   "execution_count": 20,
   "metadata": {},
   "outputs": [
    {
     "name": "stdout",
     "output_type": "stream",
     "text": [
      "(3467468, 10) (866867, 10) (3467468, 2) (866867, 2)\n"
     ]
    }
   ],
   "source": [
    "print(X_train.shape, X_test.shape, y_train.shape, y_test.shape)\n",
    "# X_train.reshape(shape = (-1, 10, 1 ))\n",
    "X_train = np.array(X_train)\n",
    "y_train = np.array(y_train)\n",
    "X_test = np.array(X_test)\n",
    "y_test = np.array(y_test)"
   ]
  },
  {
   "cell_type": "code",
   "execution_count": 21,
   "metadata": {},
   "outputs": [],
   "source": [
    "X_train = X_train.reshape((-1, 2, 5) )\n",
    "X_test = X_test.reshape((-1, 2, 5) )"
   ]
  },
  {
   "cell_type": "code",
   "execution_count": 22,
   "metadata": {},
   "outputs": [
    {
     "name": "stdout",
     "output_type": "stream",
     "text": [
      "(3467468, 2, 5) (3467468, 2) (866867, 2, 5) (866867, 2)\n"
     ]
    }
   ],
   "source": [
    "print(X_train.shape, y_train.shape, X_test.shape, y_test.shape)"
   ]
  },
  {
   "cell_type": "code",
   "execution_count": null,
   "metadata": {},
   "outputs": [],
   "source": [
    "from keras.preprocessing import sequence\n",
    "from keras.models import Sequential\n",
    "from keras.layers import Dense, Embedding\n",
    "from keras.layers import LSTM\n",
    "import numpy as np\n",
    "\n",
    "\n",
    "print('Build model...')\n",
    "model = Sequential()\n",
    "model.add(LSTM(128, input_shape=(2, 5)))\n",
    "model.add(Dense(2))\n",
    "\n",
    "# try using different optimizers and different optimizer configs\n",
    "model.compile(loss='mae',\n",
    "              optimizer='adam',\n",
    "              metrics=['accuracy'])\n",
    "\n"
   ]
  },
  {
   "cell_type": "code",
   "execution_count": null,
   "metadata": {},
   "outputs": [],
   "source": [
    "\n",
    "print('Train...')\n",
    "history = model.fit(X_train,y_train,epochs=1, batch_size = 72, validation_data=(X_test, y_test))\n",
    "\n",
    "model.save('my_model.h5')\n",
    "\n",
    "# score = model.evaluate(test_input, test_output, batch_size=72)\n",
    "print(score)\n",
    "\n",
    "print('Predicting')\n",
    "# predicted_output = model.predict(test_input, batch_size=72)"
   ]
  },
  {
   "cell_type": "code",
   "execution_count": null,
   "metadata": {},
   "outputs": [],
   "source": [
    "print(model.summary())"
   ]
  },
  {
   "cell_type": "code",
   "execution_count": null,
   "metadata": {},
   "outputs": [],
   "source": [
    "plt.plot(history.history['loss'], label = 'train')\n",
    "plt.plot(history.history['val_loss'], label = 'test')\n",
    "plt.legend()\n",
    "plt.show()"
   ]
  },
  {
   "cell_type": "code",
   "execution_count": null,
   "metadata": {},
   "outputs": [],
   "source": [
    "model.summary()\n",
    "print(\"Inputs: {}\".format(model.input_shape))\n",
    "print(\"Outputs: {}\".format(model.output_shape))"
   ]
  },
  {
   "cell_type": "code",
   "execution_count": 23,
   "metadata": {},
   "outputs": [],
   "source": [
    "model = keras.models.load_model('my_model.h5')"
   ]
  },
  {
   "cell_type": "code",
   "execution_count": 24,
   "metadata": {},
   "outputs": [],
   "source": [
    "y_hat_test = model.predict(X_test)"
   ]
  },
  {
   "cell_type": "code",
   "execution_count": 25,
   "metadata": {},
   "outputs": [
    {
     "data": {
      "text/plain": [
       "(866867, 2)"
      ]
     },
     "execution_count": 25,
     "metadata": {},
     "output_type": "execute_result"
    }
   ],
   "source": [
    "y_hat_test.shape"
   ]
  },
  {
   "cell_type": "code",
   "execution_count": 67,
   "metadata": {},
   "outputs": [],
   "source": [
    "from sklearn.metrics.pairwise import euclidean_distances\n",
    "# euclidean_distances(y_test, y_hat_test)\n",
    "dist = np.linalg.norm(y_hat_test-y_test, axis=1)"
   ]
  },
  {
   "cell_type": "code",
   "execution_count": 69,
   "metadata": {},
   "outputs": [
    {
     "name": "stdout",
     "output_type": "stream",
     "text": [
      "50437.8553548\n"
     ]
    }
   ],
   "source": [
    "\n",
    "print(1/len(dist)*(np.sum(dist)))\n"
   ]
  }
 ],
 "metadata": {
  "kernelspec": {
   "display_name": "Python 3",
   "language": "python",
   "name": "python3"
  },
  "language_info": {
   "codemirror_mode": {
    "name": "ipython",
    "version": 3
   },
   "file_extension": ".py",
   "mimetype": "text/x-python",
   "name": "python",
   "nbconvert_exporter": "python",
   "pygments_lexer": "ipython3",
   "version": "3.6.3"
  }
 },
 "nbformat": 4,
 "nbformat_minor": 2
}
