{
 "cells": [
  {
   "cell_type": "code",
   "execution_count": 1,
   "metadata": {},
   "outputs": [
    {
     "name": "stderr",
     "output_type": "stream",
     "text": [
      "Using TensorFlow backend.\n"
     ]
    }
   ],
   "source": [
    "import numpy as np\n",
    "import pandas as pd\n",
    "import os\n",
    "import shutil\n",
    "import tarfile\n",
    "import matplotlib\n",
    "import matplotlib.pyplot as plt\n",
    "import keras as keras"
   ]
  },
  {
   "cell_type": "code",
   "execution_count": 34,
   "metadata": {},
   "outputs": [
    {
     "name": "stdout",
     "output_type": "stream",
     "text": [
      "[]\n"
     ]
    }
   ],
   "source": [
    "# datafile_path = '/Users/anjalikarimpil/Google Drive/Dissertation/Data/Social LSTM/'\n",
    "datafile_path = '/users/mscdsa2018/ask2/Projects/Datasets/Social LSTM'\n",
    "datafiles1 = os.listdir(datafile_path)\n",
    "datafiles = [os.path.join(datafile_path, i) for i in datafiles if i.startswith('al_position') and i.endswith('tar.gz')]\n",
    "print(datafiles)\n"
   ]
  },
  {
   "cell_type": "code",
   "execution_count": 21,
   "metadata": {},
   "outputs": [],
   "source": [
    "folders = []\n",
    "for i in datafiles:\n",
    "    tar = tarfile.open(i, 'r:gz')\n",
    "    tar.extractall(i.split('.', 1)[0])\n",
    "    tar.close()\n",
    "    folders.append(i.split('.', 1)[0])"
   ]
  },
  {
   "cell_type": "code",
   "execution_count": 42,
   "metadata": {},
   "outputs": [
    {
     "data": {
      "text/plain": [
       "['/users/mscdsa2018/ask2/Projects/Datasets/Social LSTM/al_position2013-02-10/al_position2013-02-10.csv',\n",
       " '/users/mscdsa2018/ask2/Projects/Datasets/Social LSTM/al_position2013-02-17/al_position2013-02-17.csv',\n",
       " '/users/mscdsa2018/ask2/Projects/Datasets/Social LSTM/al_position2013-02-16/al_position2013-02-16.csv',\n",
       " '/users/mscdsa2018/ask2/Projects/Datasets/Social LSTM/al_position2013-02-15/al_position2013-02-15.csv',\n",
       " '/users/mscdsa2018/ask2/Projects/Datasets/Social LSTM/al_position2013-02-12/al_position2013-02-12.csv',\n",
       " '/users/mscdsa2018/ask2/Projects/Datasets/Social LSTM/al_position2013-02-18/al_position2013-02-18.csv',\n",
       " '/users/mscdsa2018/ask2/Projects/Datasets/Social LSTM/al_position2013-02-09/al_position2013-02-09.csv',\n",
       " '/users/mscdsa2018/ask2/Projects/Datasets/Social LSTM/al_position2013-02-07/al_position2013-02-07.csv',\n",
       " '/users/mscdsa2018/ask2/Projects/Datasets/Social LSTM/al_position2013-02-06/al_position2013-02-06.csv',\n",
       " '/users/mscdsa2018/ask2/Projects/Datasets/Social LSTM/al_position2013-02-08/al_position2013-02-08.csv',\n",
       " '/users/mscdsa2018/ask2/Projects/Datasets/Social LSTM/al_position2013-02-19/al_position2013-02-19.csv',\n",
       " '/users/mscdsa2018/ask2/Projects/Datasets/Social LSTM/al_position2013-02-14/al_position2013-02-14.csv',\n",
       " '/users/mscdsa2018/ask2/Projects/Datasets/Social LSTM/al_position2013-02-13/al_position2013-02-13.csv']"
      ]
     },
     "execution_count": 42,
     "metadata": {},
     "output_type": "execute_result"
    }
   ],
   "source": [
    "datafiles2 = [os.path.join(datafile_path, i.split('.', 1)[0], i.split('.tar.gz', 1)[0]) for i in datafiles1 if i.startswith('al_position') and i.endswith('tar.gz')]\n"
   ]
  },
  {
   "cell_type": "code",
   "execution_count": 59,
   "metadata": {},
   "outputs": [
    {
     "ename": "ParserError",
     "evalue": "Error tokenizing data. C error: Expected 5 fields in line 119619, saw 9\n",
     "output_type": "error",
     "traceback": [
      "\u001b[0;31m---------------------------------------------------------------------------\u001b[0m",
      "\u001b[0;31mParserError\u001b[0m                               Traceback (most recent call last)",
      "\u001b[0;32m<ipython-input-59-1c4a4965317e>\u001b[0m in \u001b[0;36m<module>\u001b[0;34m()\u001b[0m\n\u001b[1;32m      7\u001b[0m \u001b[0mnum_trajectories\u001b[0m \u001b[0;34m=\u001b[0m \u001b[0;34m[\u001b[0m\u001b[0;34m]\u001b[0m\u001b[0;34m\u001b[0m\u001b[0m\n\u001b[1;32m      8\u001b[0m \u001b[0;32mfor\u001b[0m \u001b[0mi\u001b[0m \u001b[0;32min\u001b[0m \u001b[0mdatafiles2\u001b[0m\u001b[0;34m:\u001b[0m\u001b[0;34m\u001b[0m\u001b[0m\n\u001b[0;32m----> 9\u001b[0;31m     \u001b[0mdf\u001b[0m\u001b[0;34m=\u001b[0m\u001b[0mpd\u001b[0m\u001b[0;34m.\u001b[0m\u001b[0mread_csv\u001b[0m\u001b[0;34m(\u001b[0m\u001b[0mi\u001b[0m\u001b[0;34m,\u001b[0m \u001b[0msep\u001b[0m\u001b[0;34m=\u001b[0m\u001b[0;34m';'\u001b[0m\u001b[0;34m,\u001b[0m\u001b[0mheader\u001b[0m\u001b[0;34m=\u001b[0m\u001b[0;32mNone\u001b[0m\u001b[0;34m)\u001b[0m\u001b[0;34m\u001b[0m\u001b[0m\n\u001b[0m\u001b[1;32m     10\u001b[0m     \u001b[0mdf\u001b[0m\u001b[0;34m[\u001b[0m\u001b[0;34m'date'\u001b[0m\u001b[0;34m]\u001b[0m\u001b[0;34m,\u001b[0m \u001b[0mdf\u001b[0m\u001b[0;34m[\u001b[0m\u001b[0;34m'time'\u001b[0m\u001b[0;34m]\u001b[0m \u001b[0;34m=\u001b[0m \u001b[0mdf\u001b[0m\u001b[0;34m[\u001b[0m\u001b[0;36m0\u001b[0m\u001b[0;34m]\u001b[0m\u001b[0;34m.\u001b[0m\u001b[0mstr\u001b[0m\u001b[0;34m.\u001b[0m\u001b[0msplit\u001b[0m\u001b[0;34m(\u001b[0m\u001b[0;34m'T'\u001b[0m\u001b[0;34m,\u001b[0m \u001b[0;36m1\u001b[0m\u001b[0;34m)\u001b[0m\u001b[0;34m.\u001b[0m\u001b[0mstr\u001b[0m\u001b[0;34m\u001b[0m\u001b[0m\n\u001b[1;32m     11\u001b[0m     \u001b[0mdf\u001b[0m\u001b[0;34m[\u001b[0m\u001b[0;36m0\u001b[0m\u001b[0;34m]\u001b[0m \u001b[0;34m=\u001b[0m \u001b[0mpd\u001b[0m\u001b[0;34m.\u001b[0m\u001b[0mto_datetime\u001b[0m\u001b[0;34m(\u001b[0m\u001b[0mdf\u001b[0m\u001b[0;34m[\u001b[0m\u001b[0;36m0\u001b[0m\u001b[0;34m]\u001b[0m\u001b[0;34m,\u001b[0m \u001b[0mformat\u001b[0m\u001b[0;34m=\u001b[0m\u001b[0;34m\"%Y-%m-%dT%H:%M:%S:%f\"\u001b[0m\u001b[0;34m)\u001b[0m\u001b[0;34m\u001b[0m\u001b[0m\n",
      "\u001b[0;32m~/anaconda3/lib/python3.6/site-packages/pandas/io/parsers.py\u001b[0m in \u001b[0;36mparser_f\u001b[0;34m(filepath_or_buffer, sep, delimiter, header, names, index_col, usecols, squeeze, prefix, mangle_dupe_cols, dtype, engine, converters, true_values, false_values, skipinitialspace, skiprows, nrows, na_values, keep_default_na, na_filter, verbose, skip_blank_lines, parse_dates, infer_datetime_format, keep_date_col, date_parser, dayfirst, iterator, chunksize, compression, thousands, decimal, lineterminator, quotechar, quoting, escapechar, comment, encoding, dialect, tupleize_cols, error_bad_lines, warn_bad_lines, skipfooter, skip_footer, doublequote, delim_whitespace, as_recarray, compact_ints, use_unsigned, low_memory, buffer_lines, memory_map, float_precision)\u001b[0m\n\u001b[1;32m    653\u001b[0m                     skip_blank_lines=skip_blank_lines)\n\u001b[1;32m    654\u001b[0m \u001b[0;34m\u001b[0m\u001b[0m\n\u001b[0;32m--> 655\u001b[0;31m         \u001b[0;32mreturn\u001b[0m \u001b[0m_read\u001b[0m\u001b[0;34m(\u001b[0m\u001b[0mfilepath_or_buffer\u001b[0m\u001b[0;34m,\u001b[0m \u001b[0mkwds\u001b[0m\u001b[0;34m)\u001b[0m\u001b[0;34m\u001b[0m\u001b[0m\n\u001b[0m\u001b[1;32m    656\u001b[0m \u001b[0;34m\u001b[0m\u001b[0m\n\u001b[1;32m    657\u001b[0m     \u001b[0mparser_f\u001b[0m\u001b[0;34m.\u001b[0m\u001b[0m__name__\u001b[0m \u001b[0;34m=\u001b[0m \u001b[0mname\u001b[0m\u001b[0;34m\u001b[0m\u001b[0m\n",
      "\u001b[0;32m~/anaconda3/lib/python3.6/site-packages/pandas/io/parsers.py\u001b[0m in \u001b[0;36m_read\u001b[0;34m(filepath_or_buffer, kwds)\u001b[0m\n\u001b[1;32m    409\u001b[0m \u001b[0;34m\u001b[0m\u001b[0m\n\u001b[1;32m    410\u001b[0m     \u001b[0;32mtry\u001b[0m\u001b[0;34m:\u001b[0m\u001b[0;34m\u001b[0m\u001b[0m\n\u001b[0;32m--> 411\u001b[0;31m         \u001b[0mdata\u001b[0m \u001b[0;34m=\u001b[0m \u001b[0mparser\u001b[0m\u001b[0;34m.\u001b[0m\u001b[0mread\u001b[0m\u001b[0;34m(\u001b[0m\u001b[0mnrows\u001b[0m\u001b[0;34m)\u001b[0m\u001b[0;34m\u001b[0m\u001b[0m\n\u001b[0m\u001b[1;32m    412\u001b[0m     \u001b[0;32mfinally\u001b[0m\u001b[0;34m:\u001b[0m\u001b[0;34m\u001b[0m\u001b[0m\n\u001b[1;32m    413\u001b[0m         \u001b[0mparser\u001b[0m\u001b[0;34m.\u001b[0m\u001b[0mclose\u001b[0m\u001b[0;34m(\u001b[0m\u001b[0;34m)\u001b[0m\u001b[0;34m\u001b[0m\u001b[0m\n",
      "\u001b[0;32m~/anaconda3/lib/python3.6/site-packages/pandas/io/parsers.py\u001b[0m in \u001b[0;36mread\u001b[0;34m(self, nrows)\u001b[0m\n\u001b[1;32m   1003\u001b[0m                 \u001b[0;32mraise\u001b[0m \u001b[0mValueError\u001b[0m\u001b[0;34m(\u001b[0m\u001b[0;34m'skipfooter not supported for iteration'\u001b[0m\u001b[0;34m)\u001b[0m\u001b[0;34m\u001b[0m\u001b[0m\n\u001b[1;32m   1004\u001b[0m \u001b[0;34m\u001b[0m\u001b[0m\n\u001b[0;32m-> 1005\u001b[0;31m         \u001b[0mret\u001b[0m \u001b[0;34m=\u001b[0m \u001b[0mself\u001b[0m\u001b[0;34m.\u001b[0m\u001b[0m_engine\u001b[0m\u001b[0;34m.\u001b[0m\u001b[0mread\u001b[0m\u001b[0;34m(\u001b[0m\u001b[0mnrows\u001b[0m\u001b[0;34m)\u001b[0m\u001b[0;34m\u001b[0m\u001b[0m\n\u001b[0m\u001b[1;32m   1006\u001b[0m \u001b[0;34m\u001b[0m\u001b[0m\n\u001b[1;32m   1007\u001b[0m         \u001b[0;32mif\u001b[0m \u001b[0mself\u001b[0m\u001b[0;34m.\u001b[0m\u001b[0moptions\u001b[0m\u001b[0;34m.\u001b[0m\u001b[0mget\u001b[0m\u001b[0;34m(\u001b[0m\u001b[0;34m'as_recarray'\u001b[0m\u001b[0;34m)\u001b[0m\u001b[0;34m:\u001b[0m\u001b[0;34m\u001b[0m\u001b[0m\n",
      "\u001b[0;32m~/anaconda3/lib/python3.6/site-packages/pandas/io/parsers.py\u001b[0m in \u001b[0;36mread\u001b[0;34m(self, nrows)\u001b[0m\n\u001b[1;32m   1746\u001b[0m     \u001b[0;32mdef\u001b[0m \u001b[0mread\u001b[0m\u001b[0;34m(\u001b[0m\u001b[0mself\u001b[0m\u001b[0;34m,\u001b[0m \u001b[0mnrows\u001b[0m\u001b[0;34m=\u001b[0m\u001b[0;32mNone\u001b[0m\u001b[0;34m)\u001b[0m\u001b[0;34m:\u001b[0m\u001b[0;34m\u001b[0m\u001b[0m\n\u001b[1;32m   1747\u001b[0m         \u001b[0;32mtry\u001b[0m\u001b[0;34m:\u001b[0m\u001b[0;34m\u001b[0m\u001b[0m\n\u001b[0;32m-> 1748\u001b[0;31m             \u001b[0mdata\u001b[0m \u001b[0;34m=\u001b[0m \u001b[0mself\u001b[0m\u001b[0;34m.\u001b[0m\u001b[0m_reader\u001b[0m\u001b[0;34m.\u001b[0m\u001b[0mread\u001b[0m\u001b[0;34m(\u001b[0m\u001b[0mnrows\u001b[0m\u001b[0;34m)\u001b[0m\u001b[0;34m\u001b[0m\u001b[0m\n\u001b[0m\u001b[1;32m   1749\u001b[0m         \u001b[0;32mexcept\u001b[0m \u001b[0mStopIteration\u001b[0m\u001b[0;34m:\u001b[0m\u001b[0;34m\u001b[0m\u001b[0m\n\u001b[1;32m   1750\u001b[0m             \u001b[0;32mif\u001b[0m \u001b[0mself\u001b[0m\u001b[0;34m.\u001b[0m\u001b[0m_first_chunk\u001b[0m\u001b[0;34m:\u001b[0m\u001b[0;34m\u001b[0m\u001b[0m\n",
      "\u001b[0;32mpandas/_libs/parsers.pyx\u001b[0m in \u001b[0;36mpandas._libs.parsers.TextReader.read (pandas/_libs/parsers.c:10862)\u001b[0;34m()\u001b[0m\n",
      "\u001b[0;32mpandas/_libs/parsers.pyx\u001b[0m in \u001b[0;36mpandas._libs.parsers.TextReader._read_low_memory (pandas/_libs/parsers.c:11138)\u001b[0;34m()\u001b[0m\n",
      "\u001b[0;32mpandas/_libs/parsers.pyx\u001b[0m in \u001b[0;36mpandas._libs.parsers.TextReader._read_rows (pandas/_libs/parsers.c:11884)\u001b[0;34m()\u001b[0m\n",
      "\u001b[0;32mpandas/_libs/parsers.pyx\u001b[0m in \u001b[0;36mpandas._libs.parsers.TextReader._tokenize_rows (pandas/_libs/parsers.c:11755)\u001b[0;34m()\u001b[0m\n",
      "\u001b[0;32mpandas/_libs/parsers.pyx\u001b[0m in \u001b[0;36mpandas._libs.parsers.raise_parser_error (pandas/_libs/parsers.c:28765)\u001b[0;34m()\u001b[0m\n",
      "\u001b[0;31mParserError\u001b[0m: Error tokenizing data. C error: Expected 5 fields in line 119619, saw 9\n"
     ]
    }
   ],
   "source": [
    "\n",
    "\n",
    "# files = os.listdir(os.path.join(datafile_path, folders[0]))\n",
    "# files = [os.path.join(datafile_path, folders[0], i) for i in files]\n",
    "# read first file in extracted folder\n",
    "row_count = []\n",
    "num_trajectories = []\n",
    "for i in datafiles2:\n",
    "    df=pd.read_csv(i, sep=';',header=None)\n",
    "    df['date'], df['time'] = df[0].str.split('T', 1).str\n",
    "    df[0] = pd.to_datetime(df[0], format=\"%Y-%m-%dT%H:%M:%S:%f\")\n",
    "    df.columns = ['datetime', 'place', 'x_pos', 'y_pos', 'person_id', 'date', 'time']\n",
    "    df.sort_values(['person_id','datetime'], inplace=True, ascending=True)\n",
    "    df['time_lead'] = df.groupby(['person_id', 'date'])['datetime'].shift(-1)\n",
    "    df['target_x'] = df.groupby(['person_id', 'date'])['x_pos'].shift(-1)\n",
    "    df['target_y'] = df.groupby(['person_id', 'date'])['y_pos'].shift(-1)\n",
    "    threshold = pd.to_timedelta('00:20:00.00000')\n",
    "    df['fl'] = np.where(abs(df['time_lead'] - df['datetime']) > threshold, 1, 0)\n",
    "    df['traj_id'] = df['fl'].cumsum()\n",
    "    row_count.append(len(df.index))\n",
    "    num_trajectories.append(np.ma.count(df['traj_id'].unique()))\n",
    "\n"
   ]
  },
  {
   "cell_type": "code",
   "execution_count": 71,
   "metadata": {},
   "outputs": [],
   "source": [
    "key_summary = pd.DataFrame(np.column_stack([datafiles2[0:10], row_count, num_trajectories]), \n",
    "                               columns=['file_name', 'row_count', 'num_trajectories'])\n",
    "key_summary.to_csv('Key_summary.csv', sep='\\t')"
   ]
  },
  {
   "cell_type": "code",
   "execution_count": 83,
   "metadata": {},
   "outputs": [
    {
     "ename": "ParserError",
     "evalue": "Error tokenizing data. C error: Expected 5 fields in line 119619, saw 9\n",
     "output_type": "error",
     "traceback": [
      "\u001b[0;31m---------------------------------------------------------------------------\u001b[0m",
      "\u001b[0;31mParserError\u001b[0m                               Traceback (most recent call last)",
      "\u001b[0;32m<ipython-input-83-c96524e1210e>\u001b[0m in \u001b[0;36m<module>\u001b[0;34m()\u001b[0m\n\u001b[0;32m----> 1\u001b[0;31m \u001b[0mdf\u001b[0m\u001b[0;34m=\u001b[0m\u001b[0mpd\u001b[0m\u001b[0;34m.\u001b[0m\u001b[0mread_csv\u001b[0m\u001b[0;34m(\u001b[0m\u001b[0;34m'/users/mscdsa2018/ask2/Projects/Datasets/Social LSTM/al_position2013-02-19/al_position2013-02-19.csv'\u001b[0m\u001b[0;34m,\u001b[0m \u001b[0msep\u001b[0m\u001b[0;34m=\u001b[0m\u001b[0;34m';'\u001b[0m\u001b[0;34m,\u001b[0m\u001b[0mheader\u001b[0m\u001b[0;34m=\u001b[0m\u001b[0;32mNone\u001b[0m\u001b[0;34m)\u001b[0m\u001b[0;34m\u001b[0m\u001b[0m\n\u001b[0m\u001b[1;32m      2\u001b[0m \u001b[0mdf\u001b[0m\u001b[0;34m[\u001b[0m\u001b[0;34m'date'\u001b[0m\u001b[0;34m]\u001b[0m\u001b[0;34m,\u001b[0m \u001b[0mdf\u001b[0m\u001b[0;34m[\u001b[0m\u001b[0;34m'time'\u001b[0m\u001b[0;34m]\u001b[0m \u001b[0;34m=\u001b[0m \u001b[0mdf\u001b[0m\u001b[0;34m[\u001b[0m\u001b[0;36m0\u001b[0m\u001b[0;34m]\u001b[0m\u001b[0;34m.\u001b[0m\u001b[0mstr\u001b[0m\u001b[0;34m.\u001b[0m\u001b[0msplit\u001b[0m\u001b[0;34m(\u001b[0m\u001b[0;34m'T'\u001b[0m\u001b[0;34m,\u001b[0m \u001b[0;36m1\u001b[0m\u001b[0;34m)\u001b[0m\u001b[0;34m.\u001b[0m\u001b[0mstr\u001b[0m\u001b[0;34m\u001b[0m\u001b[0m\n\u001b[1;32m      3\u001b[0m \u001b[0mdf\u001b[0m\u001b[0;34m[\u001b[0m\u001b[0;36m0\u001b[0m\u001b[0;34m]\u001b[0m \u001b[0;34m=\u001b[0m \u001b[0mpd\u001b[0m\u001b[0;34m.\u001b[0m\u001b[0mto_datetime\u001b[0m\u001b[0;34m(\u001b[0m\u001b[0mdf\u001b[0m\u001b[0;34m[\u001b[0m\u001b[0;36m0\u001b[0m\u001b[0;34m]\u001b[0m\u001b[0;34m,\u001b[0m \u001b[0mformat\u001b[0m\u001b[0;34m=\u001b[0m\u001b[0;34m\"%Y-%m-%dT%H:%M:%S:%f\"\u001b[0m\u001b[0;34m)\u001b[0m\u001b[0;34m\u001b[0m\u001b[0m\n\u001b[1;32m      4\u001b[0m \u001b[0mdf\u001b[0m\u001b[0;34m.\u001b[0m\u001b[0mcolumns\u001b[0m \u001b[0;34m=\u001b[0m \u001b[0;34m[\u001b[0m\u001b[0;34m'datetime'\u001b[0m\u001b[0;34m,\u001b[0m \u001b[0;34m'place'\u001b[0m\u001b[0;34m,\u001b[0m \u001b[0;34m'x_pos'\u001b[0m\u001b[0;34m,\u001b[0m \u001b[0;34m'y_pos'\u001b[0m\u001b[0;34m,\u001b[0m \u001b[0;34m'person_id'\u001b[0m\u001b[0;34m,\u001b[0m \u001b[0;34m'date'\u001b[0m\u001b[0;34m,\u001b[0m \u001b[0;34m'time'\u001b[0m\u001b[0;34m]\u001b[0m\u001b[0;34m\u001b[0m\u001b[0m\n\u001b[1;32m      5\u001b[0m \u001b[0mdf\u001b[0m\u001b[0;34m.\u001b[0m\u001b[0msort_values\u001b[0m\u001b[0;34m(\u001b[0m\u001b[0;34m[\u001b[0m\u001b[0;34m'person_id'\u001b[0m\u001b[0;34m,\u001b[0m\u001b[0;34m'datetime'\u001b[0m\u001b[0;34m]\u001b[0m\u001b[0;34m,\u001b[0m \u001b[0minplace\u001b[0m\u001b[0;34m=\u001b[0m\u001b[0;32mTrue\u001b[0m\u001b[0;34m,\u001b[0m \u001b[0mascending\u001b[0m\u001b[0;34m=\u001b[0m\u001b[0;32mTrue\u001b[0m\u001b[0;34m)\u001b[0m\u001b[0;34m\u001b[0m\u001b[0m\n",
      "\u001b[0;32m~/anaconda3/lib/python3.6/site-packages/pandas/io/parsers.py\u001b[0m in \u001b[0;36mparser_f\u001b[0;34m(filepath_or_buffer, sep, delimiter, header, names, index_col, usecols, squeeze, prefix, mangle_dupe_cols, dtype, engine, converters, true_values, false_values, skipinitialspace, skiprows, nrows, na_values, keep_default_na, na_filter, verbose, skip_blank_lines, parse_dates, infer_datetime_format, keep_date_col, date_parser, dayfirst, iterator, chunksize, compression, thousands, decimal, lineterminator, quotechar, quoting, escapechar, comment, encoding, dialect, tupleize_cols, error_bad_lines, warn_bad_lines, skipfooter, skip_footer, doublequote, delim_whitespace, as_recarray, compact_ints, use_unsigned, low_memory, buffer_lines, memory_map, float_precision)\u001b[0m\n\u001b[1;32m    653\u001b[0m                     skip_blank_lines=skip_blank_lines)\n\u001b[1;32m    654\u001b[0m \u001b[0;34m\u001b[0m\u001b[0m\n\u001b[0;32m--> 655\u001b[0;31m         \u001b[0;32mreturn\u001b[0m \u001b[0m_read\u001b[0m\u001b[0;34m(\u001b[0m\u001b[0mfilepath_or_buffer\u001b[0m\u001b[0;34m,\u001b[0m \u001b[0mkwds\u001b[0m\u001b[0;34m)\u001b[0m\u001b[0;34m\u001b[0m\u001b[0m\n\u001b[0m\u001b[1;32m    656\u001b[0m \u001b[0;34m\u001b[0m\u001b[0m\n\u001b[1;32m    657\u001b[0m     \u001b[0mparser_f\u001b[0m\u001b[0;34m.\u001b[0m\u001b[0m__name__\u001b[0m \u001b[0;34m=\u001b[0m \u001b[0mname\u001b[0m\u001b[0;34m\u001b[0m\u001b[0m\n",
      "\u001b[0;32m~/anaconda3/lib/python3.6/site-packages/pandas/io/parsers.py\u001b[0m in \u001b[0;36m_read\u001b[0;34m(filepath_or_buffer, kwds)\u001b[0m\n\u001b[1;32m    409\u001b[0m \u001b[0;34m\u001b[0m\u001b[0m\n\u001b[1;32m    410\u001b[0m     \u001b[0;32mtry\u001b[0m\u001b[0;34m:\u001b[0m\u001b[0;34m\u001b[0m\u001b[0m\n\u001b[0;32m--> 411\u001b[0;31m         \u001b[0mdata\u001b[0m \u001b[0;34m=\u001b[0m \u001b[0mparser\u001b[0m\u001b[0;34m.\u001b[0m\u001b[0mread\u001b[0m\u001b[0;34m(\u001b[0m\u001b[0mnrows\u001b[0m\u001b[0;34m)\u001b[0m\u001b[0;34m\u001b[0m\u001b[0m\n\u001b[0m\u001b[1;32m    412\u001b[0m     \u001b[0;32mfinally\u001b[0m\u001b[0;34m:\u001b[0m\u001b[0;34m\u001b[0m\u001b[0m\n\u001b[1;32m    413\u001b[0m         \u001b[0mparser\u001b[0m\u001b[0;34m.\u001b[0m\u001b[0mclose\u001b[0m\u001b[0;34m(\u001b[0m\u001b[0;34m)\u001b[0m\u001b[0;34m\u001b[0m\u001b[0m\n",
      "\u001b[0;32m~/anaconda3/lib/python3.6/site-packages/pandas/io/parsers.py\u001b[0m in \u001b[0;36mread\u001b[0;34m(self, nrows)\u001b[0m\n\u001b[1;32m   1003\u001b[0m                 \u001b[0;32mraise\u001b[0m \u001b[0mValueError\u001b[0m\u001b[0;34m(\u001b[0m\u001b[0;34m'skipfooter not supported for iteration'\u001b[0m\u001b[0;34m)\u001b[0m\u001b[0;34m\u001b[0m\u001b[0m\n\u001b[1;32m   1004\u001b[0m \u001b[0;34m\u001b[0m\u001b[0m\n\u001b[0;32m-> 1005\u001b[0;31m         \u001b[0mret\u001b[0m \u001b[0;34m=\u001b[0m \u001b[0mself\u001b[0m\u001b[0;34m.\u001b[0m\u001b[0m_engine\u001b[0m\u001b[0;34m.\u001b[0m\u001b[0mread\u001b[0m\u001b[0;34m(\u001b[0m\u001b[0mnrows\u001b[0m\u001b[0;34m)\u001b[0m\u001b[0;34m\u001b[0m\u001b[0m\n\u001b[0m\u001b[1;32m   1006\u001b[0m \u001b[0;34m\u001b[0m\u001b[0m\n\u001b[1;32m   1007\u001b[0m         \u001b[0;32mif\u001b[0m \u001b[0mself\u001b[0m\u001b[0;34m.\u001b[0m\u001b[0moptions\u001b[0m\u001b[0;34m.\u001b[0m\u001b[0mget\u001b[0m\u001b[0;34m(\u001b[0m\u001b[0;34m'as_recarray'\u001b[0m\u001b[0;34m)\u001b[0m\u001b[0;34m:\u001b[0m\u001b[0;34m\u001b[0m\u001b[0m\n",
      "\u001b[0;32m~/anaconda3/lib/python3.6/site-packages/pandas/io/parsers.py\u001b[0m in \u001b[0;36mread\u001b[0;34m(self, nrows)\u001b[0m\n\u001b[1;32m   1746\u001b[0m     \u001b[0;32mdef\u001b[0m \u001b[0mread\u001b[0m\u001b[0;34m(\u001b[0m\u001b[0mself\u001b[0m\u001b[0;34m,\u001b[0m \u001b[0mnrows\u001b[0m\u001b[0;34m=\u001b[0m\u001b[0;32mNone\u001b[0m\u001b[0;34m)\u001b[0m\u001b[0;34m:\u001b[0m\u001b[0;34m\u001b[0m\u001b[0m\n\u001b[1;32m   1747\u001b[0m         \u001b[0;32mtry\u001b[0m\u001b[0;34m:\u001b[0m\u001b[0;34m\u001b[0m\u001b[0m\n\u001b[0;32m-> 1748\u001b[0;31m             \u001b[0mdata\u001b[0m \u001b[0;34m=\u001b[0m \u001b[0mself\u001b[0m\u001b[0;34m.\u001b[0m\u001b[0m_reader\u001b[0m\u001b[0;34m.\u001b[0m\u001b[0mread\u001b[0m\u001b[0;34m(\u001b[0m\u001b[0mnrows\u001b[0m\u001b[0;34m)\u001b[0m\u001b[0;34m\u001b[0m\u001b[0m\n\u001b[0m\u001b[1;32m   1749\u001b[0m         \u001b[0;32mexcept\u001b[0m \u001b[0mStopIteration\u001b[0m\u001b[0;34m:\u001b[0m\u001b[0;34m\u001b[0m\u001b[0m\n\u001b[1;32m   1750\u001b[0m             \u001b[0;32mif\u001b[0m \u001b[0mself\u001b[0m\u001b[0;34m.\u001b[0m\u001b[0m_first_chunk\u001b[0m\u001b[0;34m:\u001b[0m\u001b[0;34m\u001b[0m\u001b[0m\n",
      "\u001b[0;32mpandas/_libs/parsers.pyx\u001b[0m in \u001b[0;36mpandas._libs.parsers.TextReader.read (pandas/_libs/parsers.c:10862)\u001b[0;34m()\u001b[0m\n",
      "\u001b[0;32mpandas/_libs/parsers.pyx\u001b[0m in \u001b[0;36mpandas._libs.parsers.TextReader._read_low_memory (pandas/_libs/parsers.c:11138)\u001b[0;34m()\u001b[0m\n",
      "\u001b[0;32mpandas/_libs/parsers.pyx\u001b[0m in \u001b[0;36mpandas._libs.parsers.TextReader._read_rows (pandas/_libs/parsers.c:11884)\u001b[0;34m()\u001b[0m\n",
      "\u001b[0;32mpandas/_libs/parsers.pyx\u001b[0m in \u001b[0;36mpandas._libs.parsers.TextReader._tokenize_rows (pandas/_libs/parsers.c:11755)\u001b[0;34m()\u001b[0m\n",
      "\u001b[0;32mpandas/_libs/parsers.pyx\u001b[0m in \u001b[0;36mpandas._libs.parsers.raise_parser_error (pandas/_libs/parsers.c:28765)\u001b[0;34m()\u001b[0m\n",
      "\u001b[0;31mParserError\u001b[0m: Error tokenizing data. C error: Expected 5 fields in line 119619, saw 9\n"
     ]
    }
   ],
   "source": [
    "df=pd.read_csv('/users/mscdsa2018/ask2/Projects/Datasets/Social LSTM/al_position2013-02-19/al_position2013-02-19.csv', sep=';',header=None)\n",
    "df['date'], df['time'] = df[0].str.split('T', 1).str\n",
    "df[0] = pd.to_datetime(df[0], format=\"%Y-%m-%dT%H:%M:%S:%f\")\n",
    "df.columns = ['datetime', 'place', 'x_pos', 'y_pos', 'person_id', 'date', 'time']\n",
    "df.sort_values(['person_id','datetime'], inplace=True, ascending=True)\n",
    "df['time_lead'] = df.groupby(['person_id', 'date'])['datetime'].shift(-1)\n",
    "df['target_x'] = df.groupby(['person_id', 'date'])['x_pos'].shift(-1)\n",
    "df['target_y'] = df.groupby(['person_id', 'date'])['y_pos'].shift(-1)\n",
    "threshold = pd.to_timedelta('00:20:00.00000')\n",
    "df['fl'] = np.where(abs(df['time_lead'] - df['datetime']) > threshold, 1, 0)\n",
    "df['traj_id'] = df['fl'].cumsum()\n",
    "row_count.append(len(df.index))\n",
    "num_trajectories.append(np.ma.count(df['traj_id'].unique()))"
   ]
  },
  {
   "cell_type": "code",
   "execution_count": 84,
   "metadata": {},
   "outputs": [
    {
     "name": "stderr",
     "output_type": "stream",
     "text": [
      "b'Skipping line 119619: expected 5 fields, saw 9\\n'\n",
      "b'Skipping line 145547: expected 5 fields, saw 7\\nSkipping line 153386: expected 5 fields, saw 7\\nSkipping line 171279: expected 5 fields, saw 9\\nSkipping line 201746: expected 5 fields, saw 9\\n'\n",
      "b'Skipping line 299618: expected 5 fields, saw 9\\nSkipping line 364518: expected 5 fields, saw 9\\n'\n",
      "b'Skipping line 505536: expected 5 fields, saw 9\\n'\n",
      "b'Skipping line 567854: expected 5 fields, saw 9\\nSkipping line 637771: expected 5 fields, saw 9\\n'\n",
      "b'Skipping line 744706: expected 5 fields, saw 9\\nSkipping line 746206: expected 5 fields, saw 9\\nSkipping line 748082: expected 5 fields, saw 8\\nSkipping line 748829: expected 5 fields, saw 7\\n'\n",
      "b'Skipping line 786919: expected 5 fields, saw 9\\nSkipping line 815323: expected 5 fields, saw 9\\nSkipping line 864585: expected 5 fields, saw 9\\n'\n",
      "b'Skipping line 926933: expected 5 fields, saw 9\\nSkipping line 989255: expected 5 fields, saw 9\\nSkipping line 990746: expected 5 fields, saw 8\\nSkipping line 992239: expected 5 fields, saw 9\\nSkipping line 994108: expected 5 fields, saw 9\\nSkipping line 995226: expected 5 fields, saw 9\\nSkipping line 998209: expected 5 fields, saw 9\\nSkipping line 999699: expected 5 fields, saw 9\\nSkipping line 1001943: expected 5 fields, saw 9\\nSkipping line 1003433: expected 5 fields, saw 9\\nSkipping line 1005298: expected 5 fields, saw 8\\nSkipping line 1005670: expected 5 fields, saw 6\\nSkipping line 1008656: expected 5 fields, saw 9\\nSkipping line 1010147: expected 5 fields, saw 9\\nSkipping line 1011267: expected 5 fields, saw 9\\nSkipping line 1012386: expected 5 fields, saw 9\\nSkipping line 1025085: expected 5 fields, saw 9\\n'\n",
      "b'Skipping line 1135939: expected 5 fields, saw 9\\n'\n",
      "b'Skipping line 1223929: expected 5 fields, saw 9\\n'\n",
      "b'Skipping line 1319772: expected 5 fields, saw 7\\nSkipping line 1320519: expected 5 fields, saw 7\\nSkipping line 1321990: expected 5 fields, saw 7\\nSkipping line 1322738: expected 5 fields, saw 7\\nSkipping line 1323849: expected 5 fields, saw 9\\nSkipping line 1325322: expected 5 fields, saw 7\\nSkipping line 1326793: expected 5 fields, saw 6\\nSkipping line 1330491: expected 5 fields, saw 6\\nSkipping line 1331219: expected 5 fields, saw 6\\nSkipping line 1332328: expected 5 fields, saw 8\\nSkipping line 1333067: expected 5 fields, saw 9\\nSkipping line 1334177: expected 5 fields, saw 8\\nSkipping line 1335278: expected 5 fields, saw 7\\nSkipping line 1335650: expected 5 fields, saw 7\\nSkipping line 1338234: expected 5 fields, saw 9\\nSkipping line 1340073: expected 5 fields, saw 6\\nSkipping line 1341543: expected 5 fields, saw 9\\nSkipping line 1343764: expected 5 fields, saw 7\\nSkipping line 1345969: expected 5 fields, saw 9\\nSkipping line 1347443: expected 5 fields, saw 7\\nSkipping line 1348554: expected 5 fields, saw 7\\nSkipping line 1351877: expected 5 fields, saw 9\\nSkipping line 1353351: expected 5 fields, saw 9\\nSkipping line 1354825: expected 5 fields, saw 9\\nSkipping line 1355934: expected 5 fields, saw 7\\nSkipping line 1358138: expected 5 fields, saw 9\\nSkipping line 1362945: expected 5 fields, saw 7\\nSkipping line 1394658: expected 5 fields, saw 8\\nSkipping line 1395404: expected 5 fields, saw 6\\nSkipping line 1398345: expected 5 fields, saw 7\\nSkipping line 1399447: expected 5 fields, saw 7\\nSkipping line 1400923: expected 5 fields, saw 7\\nSkipping line 1402405: expected 5 fields, saw 9\\nSkipping line 1404986: expected 5 fields, saw 9\\nSkipping line 1406824: expected 5 fields, saw 7\\nSkipping line 1407569: expected 5 fields, saw 7\\nSkipping line 1409045: expected 5 fields, saw 9\\nSkipping line 1410519: expected 5 fields, saw 9\\nSkipping line 1411628: expected 5 fields, saw 7\\nSkipping line 1414933: expected 5 fields, saw 7\\nSkipping line 1416044: expected 5 fields, saw 9\\nSkipping line 1418990: expected 5 fields, saw 8\\nSkipping line 1419727: expected 5 fields, saw 9\\nSkipping line 1421209: expected 5 fields, saw 9\\nSkipping line 1422684: expected 5 fields, saw 9\\nSkipping line 1423795: expected 5 fields, saw 7\\nSkipping line 1425268: expected 5 fields, saw 6\\nSkipping line 1427108: expected 5 fields, saw 7\\nSkipping line 1427848: expected 5 fields, saw 7\\nSkipping line 1428220: expected 5 fields, saw 7\\n'\n",
      "b'Skipping line 1480380: expected 5 fields, saw 8\\nSkipping line 1495676: expected 5 fields, saw 6\\nSkipping line 1564576: expected 5 fields, saw 6\\nSkipping line 1564950: expected 5 fields, saw 6\\nSkipping line 1566060: expected 5 fields, saw 9\\nSkipping line 1567163: expected 5 fields, saw 7\\nSkipping line 1567535: expected 5 fields, saw 7\\nSkipping line 1568641: expected 5 fields, saw 8\\nSkipping line 1569750: expected 5 fields, saw 9\\nSkipping line 1571588: expected 5 fields, saw 7\\n'\n",
      "b'Skipping line 1573064: expected 5 fields, saw 7\\nSkipping line 1574181: expected 5 fields, saw 7\\nSkipping line 1575664: expected 5 fields, saw 7\\nSkipping line 1577862: expected 5 fields, saw 9\\nSkipping line 1583033: expected 5 fields, saw 6\\nSkipping line 1584150: expected 5 fields, saw 8\\nSkipping line 1587101: expected 5 fields, saw 7\\nSkipping line 1587473: expected 5 fields, saw 7\\nSkipping line 1588952: expected 5 fields, saw 9\\nSkipping line 1591161: expected 5 fields, saw 7\\nSkipping line 1592280: expected 5 fields, saw 7\\nSkipping line 1593758: expected 5 fields, saw 6\\nSkipping line 1596335: expected 5 fields, saw 7\\nSkipping line 1596707: expected 5 fields, saw 7\\nSkipping line 1681896: expected 5 fields, saw 8\\n'\n",
      "b'Skipping line 1780029: expected 5 fields, saw 7\\n'\n",
      "b'Skipping line 1841718: expected 5 fields, saw 6\\nSkipping line 1864681: expected 5 fields, saw 6\\nSkipping line 1962530: expected 5 fields, saw 7\\n'\n",
      "b'Skipping line 2013272: expected 5 fields, saw 7\\nSkipping line 2063601: expected 5 fields, saw 7\\n'\n",
      "b'Skipping line 2100130: expected 5 fields, saw 7\\nSkipping line 2135526: expected 5 fields, saw 8\\nSkipping line 2161048: expected 5 fields, saw 6\\nSkipping line 2196065: expected 5 fields, saw 8\\n'\n",
      "b'Skipping line 2238381: expected 5 fields, saw 6\\nSkipping line 2239109: expected 5 fields, saw 6\\nSkipping line 2240568: expected 5 fields, saw 6\\nSkipping line 2240932: expected 5 fields, saw 6\\nSkipping line 2242024: expected 5 fields, saw 6\\nSkipping line 2243846: expected 5 fields, saw 7\\nSkipping line 2244576: expected 5 fields, saw 8\\nSkipping line 2246765: expected 5 fields, saw 9\\nSkipping line 2247859: expected 5 fields, saw 7\\nSkipping line 2248953: expected 5 fields, saw 7\\nSkipping line 2251144: expected 5 fields, saw 8\\nSkipping line 2251872: expected 5 fields, saw 7\\nSkipping line 2253693: expected 5 fields, saw 7\\nSkipping line 2256612: expected 5 fields, saw 7\\nSkipping line 2258437: expected 5 fields, saw 6\\nSkipping line 2259165: expected 5 fields, saw 6\\nSkipping line 2260623: expected 5 fields, saw 7\\nSkipping line 2262445: expected 5 fields, saw 7\\nSkipping line 2263908: expected 5 fields, saw 7\\nSkipping line 2265008: expected 5 fields, saw 8\\nSkipping line 2265736: expected 5 fields, saw 7\\nSkipping line 2282498: expected 5 fields, saw 7\\n'\n",
      "b'Skipping line 2395600: expected 5 fields, saw 9\\n'\n",
      "b'Skipping line 2501340: expected 5 fields, saw 7\\nSkipping line 2570623: expected 5 fields, saw 6\\n'\n",
      "b'Skipping line 2639914: expected 5 fields, saw 7\\n'\n",
      "b'Skipping line 2766436: expected 5 fields, saw 7\\n'\n",
      "b'Skipping line 2935330: expected 5 fields, saw 7\\nSkipping line 2974702: expected 5 fields, saw 9\\nSkipping line 2998412: expected 5 fields, saw 8\\nSkipping line 3000606: expected 5 fields, saw 7\\nSkipping line 3002427: expected 5 fields, saw 7\\nSkipping line 3004978: expected 5 fields, saw 9\\nSkipping line 3006073: expected 5 fields, saw 9\\n'\n",
      "b'Skipping line 3038895: expected 5 fields, saw 7\\nSkipping line 3096535: expected 5 fields, saw 6\\n'\n",
      "b'Skipping line 3166903: expected 5 fields, saw 8\\nSkipping line 3233258: expected 5 fields, saw 7\\n'\n",
      "b'Skipping line 3311659: expected 5 fields, saw 7\\nSkipping line 3388639: expected 5 fields, saw 7\\nSkipping line 3390829: expected 5 fields, saw 7\\nSkipping line 3393015: expected 5 fields, saw 7\\nSkipping line 3393743: expected 5 fields, saw 7\\nSkipping line 3396660: expected 5 fields, saw 6\\nSkipping line 3398117: expected 5 fields, saw 9\\nSkipping line 3398846: expected 5 fields, saw 6\\nSkipping line 3399940: expected 5 fields, saw 8\\nSkipping line 3402126: expected 5 fields, saw 7\\nSkipping line 3402858: expected 5 fields, saw 7\\nSkipping line 3403586: expected 5 fields, saw 6\\nSkipping line 3405773: expected 5 fields, saw 9\\n'\n"
     ]
    },
    {
     "name": "stderr",
     "output_type": "stream",
     "text": [
      "b'Skipping line 3424012: expected 5 fields, saw 8\\nSkipping line 3467417: expected 5 fields, saw 7\\nSkipping line 3468878: expected 5 fields, saw 7\\nSkipping line 3473619: expected 5 fields, saw 8\\nSkipping line 3477629: expected 5 fields, saw 7\\nSkipping line 3479814: expected 5 fields, saw 9\\nSkipping line 3480546: expected 5 fields, saw 6\\nSkipping line 3484928: expected 5 fields, saw 8\\nSkipping line 3486385: expected 5 fields, saw 7\\nSkipping line 3487113: expected 5 fields, saw 6\\nSkipping line 3487841: expected 5 fields, saw 7\\nSkipping line 3490392: expected 5 fields, saw 7\\nSkipping line 3490759: expected 5 fields, saw 6\\nSkipping line 3491852: expected 5 fields, saw 7\\nSkipping line 3493312: expected 5 fields, saw 8\\nSkipping line 3494043: expected 5 fields, saw 9\\nSkipping line 3496228: expected 5 fields, saw 6\\nSkipping line 3498050: expected 5 fields, saw 7\\nSkipping line 3499142: expected 5 fields, saw 6\\nSkipping line 3500967: expected 5 fields, saw 7\\nSkipping line 3502790: expected 5 fields, saw 7\\nSkipping line 3504979: expected 5 fields, saw 6\\nSkipping line 3506078: expected 5 fields, saw 9\\nSkipping line 3508997: expected 5 fields, saw 7\\nSkipping line 3510461: expected 5 fields, saw 6\\n'\n",
      "b'Skipping line 3549124: expected 5 fields, saw 8\\nSkipping line 3603105: expected 5 fields, saw 7\\nSkipping line 3624626: expected 5 fields, saw 7\\n'\n",
      "b'Skipping line 3794231: expected 5 fields, saw 7\\n'\n",
      "b'Skipping line 3808085: expected 5 fields, saw 7\\nSkipping line 3834340: expected 5 fields, saw 8\\nSkipping line 3872274: expected 5 fields, saw 6\\nSkipping line 3897452: expected 5 fields, saw 7\\n'\n",
      "b'Skipping line 3941961: expected 5 fields, saw 6\\nSkipping line 4001790: expected 5 fields, saw 6\\nSkipping line 4051383: expected 5 fields, saw 7\\n'\n",
      "b'Skipping line 4073994: expected 5 fields, saw 6\\nSkipping line 4115925: expected 5 fields, saw 7\\n'\n",
      "b'Skipping line 4207869: expected 5 fields, saw 7\\nSkipping line 4251274: expected 5 fields, saw 7\\nSkipping line 4305237: expected 5 fields, saw 6\\n'\n",
      "b'Skipping line 4444955: expected 5 fields, saw 6\\n'\n",
      "b'Skipping line 4481788: expected 5 fields, saw 6\\nSkipping line 4521536: expected 5 fields, saw 6\\n'\n",
      "b'Skipping line 4661556: expected 5 fields, saw 8\\n'\n",
      "b'Skipping line 4747978: expected 5 fields, saw 8\\nSkipping line 4748706: expected 5 fields, saw 7\\nSkipping line 4751626: expected 5 fields, saw 7\\nSkipping line 4752722: expected 5 fields, saw 7\\nSkipping line 4754908: expected 5 fields, saw 7\\nSkipping line 4779354: expected 5 fields, saw 7\\nSkipping line 4835145: expected 5 fields, saw 8\\n'\n",
      "b'Skipping line 4852288: expected 5 fields, saw 6\\nSkipping line 4877454: expected 5 fields, saw 7\\nSkipping line 4907751: expected 5 fields, saw 6\\nSkipping line 4968316: expected 5 fields, saw 7\\n'\n",
      "b'Skipping line 5035106: expected 5 fields, saw 7\\n'\n",
      "b'Skipping line 5146374: expected 5 fields, saw 7\\n'\n",
      "b'Skipping line 5247830: expected 5 fields, saw 6\\nSkipping line 5357279: expected 5 fields, saw 7\\n'\n",
      "b'Skipping line 5378426: expected 5 fields, saw 7\\nSkipping line 5437855: expected 5 fields, saw 7\\nSkipping line 5455003: expected 5 fields, saw 6\\n'\n",
      "b'Skipping line 5519540: expected 5 fields, saw 7\\nSkipping line 5521002: expected 5 fields, saw 6\\nSkipping line 5522094: expected 5 fields, saw 6\\nSkipping line 5523919: expected 5 fields, saw 7\\nSkipping line 5526106: expected 5 fields, saw 7\\nSkipping line 5526842: expected 5 fields, saw 8\\nSkipping line 5529027: expected 5 fields, saw 6\\nSkipping line 5530125: expected 5 fields, saw 7\\nSkipping line 5531581: expected 5 fields, saw 6\\nSkipping line 5532311: expected 5 fields, saw 6\\nSkipping line 5533771: expected 5 fields, saw 7\\nSkipping line 5534499: expected 5 fields, saw 6\\nSkipping line 5535956: expected 5 fields, saw 9\\nSkipping line 5537052: expected 5 fields, saw 7\\nSkipping line 5538511: expected 5 fields, saw 7\\nSkipping line 5539973: expected 5 fields, saw 7\\nSkipping line 5541793: expected 5 fields, saw 7\\nSkipping line 5545805: expected 5 fields, saw 7\\nSkipping line 5547265: expected 5 fields, saw 6\\nSkipping line 5548723: expected 5 fields, saw 7\\nSkipping line 5585234: expected 5 fields, saw 7\\nSkipping line 5599457: expected 5 fields, saw 7\\nSkipping line 5631931: expected 5 fields, saw 9\\n'\n",
      "b'Skipping line 5648709: expected 5 fields, saw 6\\nSkipping line 5674988: expected 5 fields, saw 6\\nSkipping line 5702721: expected 5 fields, saw 6\\nSkipping line 5714757: expected 5 fields, saw 7\\nSkipping line 5729340: expected 5 fields, saw 7\\nSkipping line 5758547: expected 5 fields, saw 7\\n'\n",
      "b'Skipping line 5784458: expected 5 fields, saw 6\\nSkipping line 5829695: expected 5 fields, saw 9\\nSkipping line 5855595: expected 5 fields, saw 7\\nSkipping line 5868725: expected 5 fields, saw 7\\n'\n",
      "b'Skipping line 5935098: expected 5 fields, saw 7\\nSkipping line 6022980: expected 5 fields, saw 6\\n'\n",
      "b'Skipping line 6058359: expected 5 fields, saw 9\\nSkipping line 6114883: expected 5 fields, saw 7\\nSkipping line 6143689: expected 5 fields, saw 7\\n'\n",
      "b'Skipping line 6236736: expected 5 fields, saw 8\\n'\n",
      "b'Skipping line 6340325: expected 5 fields, saw 7\\nSkipping line 6386318: expected 5 fields, saw 7\\n'\n",
      "b'Skipping line 6438113: expected 5 fields, saw 9\\nSkipping line 6491377: expected 5 fields, saw 7\\nSkipping line 6493563: expected 5 fields, saw 6\\nSkipping line 6495749: expected 5 fields, saw 9\\nSkipping line 6496845: expected 5 fields, saw 6\\nSkipping line 6497209: expected 5 fields, saw 6\\nSkipping line 6498669: expected 5 fields, saw 6\\nSkipping line 6499397: expected 5 fields, saw 6\\n'\n",
      "b'Skipping line 6627829: expected 5 fields, saw 8\\nSkipping line 6668015: expected 5 fields, saw 6\\n'\n",
      "b'Skipping line 6706682: expected 5 fields, saw 9\\nSkipping line 6750101: expected 5 fields, saw 6\\nSkipping line 6769440: expected 5 fields, saw 7\\n'\n",
      "b'Skipping line 6874123: expected 5 fields, saw 7\\nSkipping line 6881782: expected 5 fields, saw 6\\nSkipping line 6882879: expected 5 fields, saw 9\\nSkipping line 6885431: expected 5 fields, saw 7\\nSkipping line 6886524: expected 5 fields, saw 7\\nSkipping line 6888710: expected 5 fields, saw 9\\nSkipping line 6890897: expected 5 fields, saw 7\\nSkipping line 6944870: expected 5 fields, saw 7\\n'\n",
      "b'Skipping line 6987880: expected 5 fields, saw 7\\nSkipping line 7029808: expected 5 fields, saw 7\\nSkipping line 7054244: expected 5 fields, saw 8\\nSkipping line 7054975: expected 5 fields, saw 9\\nSkipping line 7055706: expected 5 fields, saw 6\\nSkipping line 7056434: expected 5 fields, saw 7\\nSkipping line 7057896: expected 5 fields, saw 7\\nSkipping line 7059717: expected 5 fields, saw 9\\nSkipping line 7061174: expected 5 fields, saw 8\\nSkipping line 7061904: expected 5 fields, saw 9\\nSkipping line 7063363: expected 5 fields, saw 8\\nSkipping line 7064825: expected 5 fields, saw 7\\nSkipping line 7067014: expected 5 fields, saw 9\\nSkipping line 7069202: expected 5 fields, saw 7\\nSkipping line 7069568: expected 5 fields, saw 6\\nSkipping line 7071032: expected 5 fields, saw 6\\nSkipping line 7071763: expected 5 fields, saw 6\\nSkipping line 7072859: expected 5 fields, saw 8\\nSkipping line 7073587: expected 5 fields, saw 9\\nSkipping line 7076137: expected 5 fields, saw 6\\nSkipping line 7077232: expected 5 fields, saw 9\\n'\n",
      "b'Skipping line 7107151: expected 5 fields, saw 9\\n'\n",
      "b'Skipping line 7257102: expected 5 fields, saw 7\\nSkipping line 7302356: expected 5 fields, saw 8\\nSkipping line 7339937: expected 5 fields, saw 7\\n'\n",
      "b'Skipping line 7340665: expected 5 fields, saw 7\\nSkipping line 7342487: expected 5 fields, saw 6\\nSkipping line 7343215: expected 5 fields, saw 7\\nSkipping line 7344308: expected 5 fields, saw 9\\nSkipping line 7345406: expected 5 fields, saw 9\\nSkipping line 7346499: expected 5 fields, saw 7\\nSkipping line 7347230: expected 5 fields, saw 8\\nSkipping line 7445711: expected 5 fields, saw 7\\n'\n",
      "b'Skipping line 7474912: expected 5 fields, saw 6\\nSkipping line 7516129: expected 5 fields, saw 8\\nSkipping line 7571963: expected 5 fields, saw 7\\n'\n"
     ]
    },
    {
     "name": "stderr",
     "output_type": "stream",
     "text": [
      "b'Skipping line 7610987: expected 5 fields, saw 7\\nSkipping line 7628488: expected 5 fields, saw 7\\nSkipping line 7666082: expected 5 fields, saw 6\\nSkipping line 7724869: expected 5 fields, saw 8\\n'\n",
      "b'Skipping line 7759159: expected 5 fields, saw 6\\n'\n",
      "b'Skipping line 7924432: expected 5 fields, saw 9\\nSkipping line 7926255: expected 5 fields, saw 7\\nSkipping line 7927711: expected 5 fields, saw 6\\nSkipping line 7928805: expected 5 fields, saw 7\\nSkipping line 7930992: expected 5 fields, saw 6\\nSkipping line 7932449: expected 5 fields, saw 8\\nSkipping line 7933546: expected 5 fields, saw 9\\nSkipping line 7935005: expected 5 fields, saw 7\\nSkipping line 7936466: expected 5 fields, saw 9\\nSkipping line 7937196: expected 5 fields, saw 6\\nSkipping line 7938659: expected 5 fields, saw 7\\nSkipping line 7939390: expected 5 fields, saw 7\\nSkipping line 7940118: expected 5 fields, saw 6\\nSkipping line 7940846: expected 5 fields, saw 7\\nSkipping line 7942305: expected 5 fields, saw 7\\nSkipping line 7944494: expected 5 fields, saw 7\\nSkipping line 7945222: expected 5 fields, saw 6\\nSkipping line 7945950: expected 5 fields, saw 7\\nSkipping line 7947408: expected 5 fields, saw 7\\nSkipping line 7958718: expected 5 fields, saw 9\\nSkipping line 7959812: expected 5 fields, saw 6\\nSkipping line 7961271: expected 5 fields, saw 7\\nSkipping line 7962733: expected 5 fields, saw 9\\nSkipping line 7966015: expected 5 fields, saw 8\\nSkipping line 7967471: expected 5 fields, saw 6\\nSkipping line 7969665: expected 5 fields, saw 7\\nSkipping line 7971854: expected 5 fields, saw 7\\nSkipping line 7975138: expected 5 fields, saw 6\\nSkipping line 7975503: expected 5 fields, saw 6\\nSkipping line 7976231: expected 5 fields, saw 6\\nSkipping line 7978428: expected 5 fields, saw 9\\nSkipping line 7980979: expected 5 fields, saw 7\\nSkipping line 7983167: expected 5 fields, saw 7\\nSkipping line 7984990: expected 5 fields, saw 7\\nSkipping line 7989001: expected 5 fields, saw 7\\nSkipping line 7990097: expected 5 fields, saw 6\\nSkipping line 7991190: expected 5 fields, saw 8\\nSkipping line 7991918: expected 5 fields, saw 7\\nSkipping line 7992648: expected 5 fields, saw 6\\nSkipping line 7994479: expected 5 fields, saw 6\\n'\n",
      "b'Skipping line 7995939: expected 5 fields, saw 7\\nSkipping line 7996669: expected 5 fields, saw 7\\nSkipping line 7998491: expected 5 fields, saw 7\\nSkipping line 8001771: expected 5 fields, saw 7\\nSkipping line 8002135: expected 5 fields, saw 7\\nSkipping line 8003959: expected 5 fields, saw 9\\nSkipping line 8004688: expected 5 fields, saw 6\\nSkipping line 8005782: expected 5 fields, saw 9\\nSkipping line 8007239: expected 5 fields, saw 8\\nSkipping line 8008702: expected 5 fields, saw 7\\nSkipping line 8009430: expected 5 fields, saw 6\\nSkipping line 8011251: expected 5 fields, saw 9\\nSkipping line 8012346: expected 5 fields, saw 8\\nSkipping line 8013805: expected 5 fields, saw 7\\nSkipping line 8017083: expected 5 fields, saw 7\\nSkipping line 8049588: expected 5 fields, saw 7\\nSkipping line 8050680: expected 5 fields, saw 6\\nSkipping line 8052502: expected 5 fields, saw 7\\nSkipping line 8053964: expected 5 fields, saw 7\\nSkipping line 8055057: expected 5 fields, saw 6\\nSkipping line 8055787: expected 5 fields, saw 6\\nSkipping line 8057974: expected 5 fields, saw 6\\nSkipping line 8059799: expected 5 fields, saw 8\\nSkipping line 8060893: expected 5 fields, saw 7\\nSkipping line 8061621: expected 5 fields, saw 6\\nSkipping line 8063450: expected 5 fields, saw 8\\nSkipping line 8066731: expected 5 fields, saw 6\\nSkipping line 8068561: expected 5 fields, saw 7\\nSkipping line 8069290: expected 5 fields, saw 8\\nSkipping line 8070388: expected 5 fields, saw 7\\nSkipping line 8072211: expected 5 fields, saw 7\\nSkipping line 8074032: expected 5 fields, saw 6\\nSkipping line 8075129: expected 5 fields, saw 7\\nSkipping line 8076585: expected 5 fields, saw 7\\nSkipping line 8078415: expected 5 fields, saw 6\\nSkipping line 8079873: expected 5 fields, saw 7\\nSkipping line 8081698: expected 5 fields, saw 7\\nSkipping line 8082427: expected 5 fields, saw 6\\nSkipping line 8084248: expected 5 fields, saw 6\\nSkipping line 8086803: expected 5 fields, saw 7\\nSkipping line 8087903: expected 5 fields, saw 7\\nSkipping line 8089729: expected 5 fields, saw 7\\nSkipping line 8091928: expected 5 fields, saw 7\\nSkipping line 8092660: expected 5 fields, saw 7\\nSkipping line 8093758: expected 5 fields, saw 7\\nSkipping line 8095944: expected 5 fields, saw 9\\nSkipping line 8097037: expected 5 fields, saw 9\\nSkipping line 8098494: expected 5 fields, saw 8\\nSkipping line 8099952: expected 5 fields, saw 9\\nSkipping line 8100684: expected 5 fields, saw 6\\nSkipping line 8102506: expected 5 fields, saw 6\\nSkipping line 8104334: expected 5 fields, saw 7\\nSkipping line 8105063: expected 5 fields, saw 7\\nSkipping line 8105428: expected 5 fields, saw 7\\nSkipping line 8106887: expected 5 fields, saw 7\\n'\n",
      "b'Skipping line 8143054: expected 5 fields, saw 7\\nSkipping line 8244457: expected 5 fields, saw 8\\n'\n",
      "b'Skipping line 8354265: expected 5 fields, saw 7\\n'\n",
      "b'Skipping line 8415574: expected 5 fields, saw 8\\nSkipping line 8493280: expected 5 fields, saw 7\\n'\n",
      "b'Skipping line 8595503: expected 5 fields, saw 6\\n'\n",
      "b'Skipping line 8687128: expected 5 fields, saw 7\\nSkipping line 8714856: expected 5 fields, saw 7\\nSkipping line 8761196: expected 5 fields, saw 7\\n'\n",
      "b'Skipping line 8828817: expected 5 fields, saw 7\\nSkipping line 8881385: expected 5 fields, saw 7\\nSkipping line 8909135: expected 5 fields, saw 8\\n'\n",
      "b'Skipping line 8960965: expected 5 fields, saw 7\\nSkipping line 9013548: expected 5 fields, saw 7\\nSkipping line 9015008: expected 5 fields, saw 7\\nSkipping line 9016101: expected 5 fields, saw 8\\nSkipping line 9017198: expected 5 fields, saw 8\\nSkipping line 9017926: expected 5 fields, saw 7\\nSkipping line 9020113: expected 5 fields, saw 8\\nSkipping line 9021207: expected 5 fields, saw 7\\nSkipping line 9021572: expected 5 fields, saw 7\\nSkipping line 9023760: expected 5 fields, saw 7\\nSkipping line 9029963: expected 5 fields, saw 6\\n'\n",
      "b'Skipping line 9123416: expected 5 fields, saw 7\\n'\n",
      "b'Skipping line 9281568: expected 5 fields, saw 7\\n'\n",
      "b'Skipping line 9345852: expected 5 fields, saw 7\\nSkipping line 9430840: expected 5 fields, saw 9\\n'\n",
      "b'Skipping line 9491076: expected 5 fields, saw 8\\nSkipping line 9523903: expected 5 fields, saw 6\\nSkipping line 9532677: expected 5 fields, saw 6\\n'\n",
      "b'Skipping line 9589586: expected 5 fields, saw 6\\n'\n",
      "b'Skipping line 9715774: expected 5 fields, saw 8\\nSkipping line 9760659: expected 5 fields, saw 7\\nSkipping line 9829976: expected 5 fields, saw 7\\n'\n",
      "b'Skipping line 9888699: expected 5 fields, saw 7\\nSkipping line 9929908: expected 5 fields, saw 6\\n'\n",
      "b'Skipping line 10047757: expected 5 fields, saw 7\\n'\n",
      "b'Skipping line 10160165: expected 5 fields, saw 6\\nSkipping line 10207232: expected 5 fields, saw 8\\n'\n",
      "b'Skipping line 10256092: expected 5 fields, saw 6\\nSkipping line 10257551: expected 5 fields, saw 7\\nSkipping line 10260465: expected 5 fields, saw 8\\nSkipping line 10262288: expected 5 fields, saw 7\\nSkipping line 10263016: expected 5 fields, saw 6\\nSkipping line 10263744: expected 5 fields, saw 7\\nSkipping line 10265566: expected 5 fields, saw 7\\nSkipping line 10267025: expected 5 fields, saw 6\\nSkipping line 10267753: expected 5 fields, saw 6\\nSkipping line 10269211: expected 5 fields, saw 7\\nSkipping line 10270667: expected 5 fields, saw 6\\nSkipping line 10272855: expected 5 fields, saw 7\\nSkipping line 10273586: expected 5 fields, saw 7\\nSkipping line 10275408: expected 5 fields, saw 7\\nSkipping line 10300938: expected 5 fields, saw 8\\n'\n",
      "b'Skipping line 10391348: expected 5 fields, saw 7\\n'\n"
     ]
    },
    {
     "ename": "ValueError",
     "evalue": "unconverted data remains: -02-19T07:07:22:154",
     "output_type": "error",
     "traceback": [
      "\u001b[0;31m---------------------------------------------------------------------------\u001b[0m",
      "\u001b[0;31mTypeError\u001b[0m                                 Traceback (most recent call last)",
      "\u001b[0;32m~/anaconda3/lib/python3.6/site-packages/pandas/core/tools/datetimes.py\u001b[0m in \u001b[0;36m_convert_listlike\u001b[0;34m(arg, box, format, name, tz)\u001b[0m\n\u001b[1;32m    443\u001b[0m             \u001b[0;32mtry\u001b[0m\u001b[0;34m:\u001b[0m\u001b[0;34m\u001b[0m\u001b[0m\n\u001b[0;32m--> 444\u001b[0;31m                 \u001b[0mvalues\u001b[0m\u001b[0;34m,\u001b[0m \u001b[0mtz\u001b[0m \u001b[0;34m=\u001b[0m \u001b[0mtslib\u001b[0m\u001b[0;34m.\u001b[0m\u001b[0mdatetime_to_datetime64\u001b[0m\u001b[0;34m(\u001b[0m\u001b[0marg\u001b[0m\u001b[0;34m)\u001b[0m\u001b[0;34m\u001b[0m\u001b[0m\n\u001b[0m\u001b[1;32m    445\u001b[0m                 \u001b[0;32mreturn\u001b[0m \u001b[0mDatetimeIndex\u001b[0m\u001b[0;34m.\u001b[0m\u001b[0m_simple_new\u001b[0m\u001b[0;34m(\u001b[0m\u001b[0mvalues\u001b[0m\u001b[0;34m,\u001b[0m \u001b[0mname\u001b[0m\u001b[0;34m=\u001b[0m\u001b[0mname\u001b[0m\u001b[0;34m,\u001b[0m \u001b[0mtz\u001b[0m\u001b[0;34m=\u001b[0m\u001b[0mtz\u001b[0m\u001b[0;34m)\u001b[0m\u001b[0;34m\u001b[0m\u001b[0m\n",
      "\u001b[0;32mpandas/_libs/tslib.pyx\u001b[0m in \u001b[0;36mpandas._libs.tslib.datetime_to_datetime64 (pandas/_libs/tslib.c:33275)\u001b[0;34m()\u001b[0m\n",
      "\u001b[0;31mTypeError\u001b[0m: Unrecognized value type: <class 'str'>",
      "\nDuring handling of the above exception, another exception occurred:\n",
      "\u001b[0;31mValueError\u001b[0m                                Traceback (most recent call last)",
      "\u001b[0;32m<ipython-input-84-136356659f8a>\u001b[0m in \u001b[0;36m<module>\u001b[0;34m()\u001b[0m\n\u001b[1;32m      3\u001b[0m     \u001b[0mdf\u001b[0m\u001b[0;34m=\u001b[0m\u001b[0mpd\u001b[0m\u001b[0;34m.\u001b[0m\u001b[0mread_csv\u001b[0m\u001b[0;34m(\u001b[0m\u001b[0mi\u001b[0m\u001b[0;34m,\u001b[0m \u001b[0msep\u001b[0m\u001b[0;34m=\u001b[0m\u001b[0;34m';'\u001b[0m\u001b[0;34m,\u001b[0m\u001b[0mheader\u001b[0m\u001b[0;34m=\u001b[0m\u001b[0;32mNone\u001b[0m\u001b[0;34m,\u001b[0m \u001b[0merror_bad_lines\u001b[0m\u001b[0;34m=\u001b[0m\u001b[0;32mFalse\u001b[0m\u001b[0;34m)\u001b[0m\u001b[0;34m\u001b[0m\u001b[0m\n\u001b[1;32m      4\u001b[0m     \u001b[0mdf\u001b[0m\u001b[0;34m[\u001b[0m\u001b[0;34m'date'\u001b[0m\u001b[0;34m]\u001b[0m\u001b[0;34m,\u001b[0m \u001b[0mdf\u001b[0m\u001b[0;34m[\u001b[0m\u001b[0;34m'time'\u001b[0m\u001b[0;34m]\u001b[0m \u001b[0;34m=\u001b[0m \u001b[0mdf\u001b[0m\u001b[0;34m[\u001b[0m\u001b[0;36m0\u001b[0m\u001b[0;34m]\u001b[0m\u001b[0;34m.\u001b[0m\u001b[0mstr\u001b[0m\u001b[0;34m.\u001b[0m\u001b[0msplit\u001b[0m\u001b[0;34m(\u001b[0m\u001b[0;34m'T'\u001b[0m\u001b[0;34m,\u001b[0m \u001b[0;36m1\u001b[0m\u001b[0;34m)\u001b[0m\u001b[0;34m.\u001b[0m\u001b[0mstr\u001b[0m\u001b[0;34m\u001b[0m\u001b[0m\n\u001b[0;32m----> 5\u001b[0;31m     \u001b[0mdf\u001b[0m\u001b[0;34m[\u001b[0m\u001b[0;36m0\u001b[0m\u001b[0;34m]\u001b[0m \u001b[0;34m=\u001b[0m \u001b[0mpd\u001b[0m\u001b[0;34m.\u001b[0m\u001b[0mto_datetime\u001b[0m\u001b[0;34m(\u001b[0m\u001b[0mdf\u001b[0m\u001b[0;34m[\u001b[0m\u001b[0;36m0\u001b[0m\u001b[0;34m]\u001b[0m\u001b[0;34m,\u001b[0m \u001b[0mformat\u001b[0m\u001b[0;34m=\u001b[0m\u001b[0;34m\"%Y-%m-%dT%H:%M:%S:%f\"\u001b[0m\u001b[0;34m)\u001b[0m\u001b[0;34m\u001b[0m\u001b[0m\n\u001b[0m\u001b[1;32m      6\u001b[0m     \u001b[0mdf\u001b[0m\u001b[0;34m.\u001b[0m\u001b[0mcolumns\u001b[0m \u001b[0;34m=\u001b[0m \u001b[0;34m[\u001b[0m\u001b[0;34m'datetime'\u001b[0m\u001b[0;34m,\u001b[0m \u001b[0;34m'place'\u001b[0m\u001b[0;34m,\u001b[0m \u001b[0;34m'x_pos'\u001b[0m\u001b[0;34m,\u001b[0m \u001b[0;34m'y_pos'\u001b[0m\u001b[0;34m,\u001b[0m \u001b[0;34m'person_id'\u001b[0m\u001b[0;34m,\u001b[0m \u001b[0;34m'date'\u001b[0m\u001b[0;34m,\u001b[0m \u001b[0;34m'time'\u001b[0m\u001b[0;34m]\u001b[0m\u001b[0;34m\u001b[0m\u001b[0m\n\u001b[1;32m      7\u001b[0m     \u001b[0mdf\u001b[0m\u001b[0;34m.\u001b[0m\u001b[0msort_values\u001b[0m\u001b[0;34m(\u001b[0m\u001b[0;34m[\u001b[0m\u001b[0;34m'person_id'\u001b[0m\u001b[0;34m,\u001b[0m\u001b[0;34m'datetime'\u001b[0m\u001b[0;34m]\u001b[0m\u001b[0;34m,\u001b[0m \u001b[0minplace\u001b[0m\u001b[0;34m=\u001b[0m\u001b[0;32mTrue\u001b[0m\u001b[0;34m,\u001b[0m \u001b[0mascending\u001b[0m\u001b[0;34m=\u001b[0m\u001b[0;32mTrue\u001b[0m\u001b[0;34m)\u001b[0m\u001b[0;34m\u001b[0m\u001b[0m\n",
      "\u001b[0;32m~/anaconda3/lib/python3.6/site-packages/pandas/core/tools/datetimes.py\u001b[0m in \u001b[0;36mto_datetime\u001b[0;34m(arg, errors, dayfirst, yearfirst, utc, box, format, exact, unit, infer_datetime_format, origin)\u001b[0m\n\u001b[1;32m    507\u001b[0m     \u001b[0;32melif\u001b[0m \u001b[0misinstance\u001b[0m\u001b[0;34m(\u001b[0m\u001b[0marg\u001b[0m\u001b[0;34m,\u001b[0m \u001b[0mABCSeries\u001b[0m\u001b[0;34m)\u001b[0m\u001b[0;34m:\u001b[0m\u001b[0;34m\u001b[0m\u001b[0m\n\u001b[1;32m    508\u001b[0m         \u001b[0;32mfrom\u001b[0m \u001b[0mpandas\u001b[0m \u001b[0;32mimport\u001b[0m \u001b[0mSeries\u001b[0m\u001b[0;34m\u001b[0m\u001b[0m\n\u001b[0;32m--> 509\u001b[0;31m         \u001b[0mvalues\u001b[0m \u001b[0;34m=\u001b[0m \u001b[0m_convert_listlike\u001b[0m\u001b[0;34m(\u001b[0m\u001b[0marg\u001b[0m\u001b[0;34m.\u001b[0m\u001b[0m_values\u001b[0m\u001b[0;34m,\u001b[0m \u001b[0;32mFalse\u001b[0m\u001b[0;34m,\u001b[0m \u001b[0mformat\u001b[0m\u001b[0;34m)\u001b[0m\u001b[0;34m\u001b[0m\u001b[0m\n\u001b[0m\u001b[1;32m    510\u001b[0m         \u001b[0mresult\u001b[0m \u001b[0;34m=\u001b[0m \u001b[0mSeries\u001b[0m\u001b[0;34m(\u001b[0m\u001b[0mvalues\u001b[0m\u001b[0;34m,\u001b[0m \u001b[0mindex\u001b[0m\u001b[0;34m=\u001b[0m\u001b[0marg\u001b[0m\u001b[0;34m.\u001b[0m\u001b[0mindex\u001b[0m\u001b[0;34m,\u001b[0m \u001b[0mname\u001b[0m\u001b[0;34m=\u001b[0m\u001b[0marg\u001b[0m\u001b[0;34m.\u001b[0m\u001b[0mname\u001b[0m\u001b[0;34m)\u001b[0m\u001b[0;34m\u001b[0m\u001b[0m\n\u001b[1;32m    511\u001b[0m     \u001b[0;32melif\u001b[0m \u001b[0misinstance\u001b[0m\u001b[0;34m(\u001b[0m\u001b[0marg\u001b[0m\u001b[0;34m,\u001b[0m \u001b[0;34m(\u001b[0m\u001b[0mABCDataFrame\u001b[0m\u001b[0;34m,\u001b[0m \u001b[0mMutableMapping\u001b[0m\u001b[0;34m)\u001b[0m\u001b[0;34m)\u001b[0m\u001b[0;34m:\u001b[0m\u001b[0;34m\u001b[0m\u001b[0m\n",
      "\u001b[0;32m~/anaconda3/lib/python3.6/site-packages/pandas/core/tools/datetimes.py\u001b[0m in \u001b[0;36m_convert_listlike\u001b[0;34m(arg, box, format, name, tz)\u001b[0m\n\u001b[1;32m    445\u001b[0m                 \u001b[0;32mreturn\u001b[0m \u001b[0mDatetimeIndex\u001b[0m\u001b[0;34m.\u001b[0m\u001b[0m_simple_new\u001b[0m\u001b[0;34m(\u001b[0m\u001b[0mvalues\u001b[0m\u001b[0;34m,\u001b[0m \u001b[0mname\u001b[0m\u001b[0;34m=\u001b[0m\u001b[0mname\u001b[0m\u001b[0;34m,\u001b[0m \u001b[0mtz\u001b[0m\u001b[0;34m=\u001b[0m\u001b[0mtz\u001b[0m\u001b[0;34m)\u001b[0m\u001b[0;34m\u001b[0m\u001b[0m\n\u001b[1;32m    446\u001b[0m             \u001b[0;32mexcept\u001b[0m \u001b[0;34m(\u001b[0m\u001b[0mValueError\u001b[0m\u001b[0;34m,\u001b[0m \u001b[0mTypeError\u001b[0m\u001b[0;34m)\u001b[0m\u001b[0;34m:\u001b[0m\u001b[0;34m\u001b[0m\u001b[0m\n\u001b[0;32m--> 447\u001b[0;31m                 \u001b[0;32mraise\u001b[0m \u001b[0me\u001b[0m\u001b[0;34m\u001b[0m\u001b[0m\n\u001b[0m\u001b[1;32m    448\u001b[0m \u001b[0;34m\u001b[0m\u001b[0m\n\u001b[1;32m    449\u001b[0m     \u001b[0;32mif\u001b[0m \u001b[0marg\u001b[0m \u001b[0;32mis\u001b[0m \u001b[0;32mNone\u001b[0m\u001b[0;34m:\u001b[0m\u001b[0;34m\u001b[0m\u001b[0m\n",
      "\u001b[0;32m~/anaconda3/lib/python3.6/site-packages/pandas/core/tools/datetimes.py\u001b[0m in \u001b[0;36m_convert_listlike\u001b[0;34m(arg, box, format, name, tz)\u001b[0m\n\u001b[1;32m    412\u001b[0m                     \u001b[0;32mtry\u001b[0m\u001b[0;34m:\u001b[0m\u001b[0;34m\u001b[0m\u001b[0m\n\u001b[1;32m    413\u001b[0m                         result = tslib.array_strptime(arg, format, exact=exact,\n\u001b[0;32m--> 414\u001b[0;31m                                                       errors=errors)\n\u001b[0m\u001b[1;32m    415\u001b[0m                     \u001b[0;32mexcept\u001b[0m \u001b[0mtslib\u001b[0m\u001b[0;34m.\u001b[0m\u001b[0mOutOfBoundsDatetime\u001b[0m\u001b[0;34m:\u001b[0m\u001b[0;34m\u001b[0m\u001b[0m\n\u001b[1;32m    416\u001b[0m                         \u001b[0;32mif\u001b[0m \u001b[0merrors\u001b[0m \u001b[0;34m==\u001b[0m \u001b[0;34m'raise'\u001b[0m\u001b[0;34m:\u001b[0m\u001b[0;34m\u001b[0m\u001b[0m\n",
      "\u001b[0;32mpandas/_libs/tslib.pyx\u001b[0m in \u001b[0;36mpandas._libs.tslib.array_strptime (pandas/_libs/tslib.c:63778)\u001b[0;34m()\u001b[0m\n",
      "\u001b[0;31mValueError\u001b[0m: unconverted data remains: -02-19T07:07:22:154"
     ]
    }
   ],
   "source": [
    "\n",
    "for i in datafiles2[10:13]:\n",
    "    df=pd.read_csv(i, sep=';',header=None, error_bad_lines=False)\n",
    "    df['date'], df['time'] = df[0].str.split('T', 1).str\n",
    "    df[0] = pd.to_datetime(df[0], format=\"%Y-%m-%dT%H:%M:%S:%f\")\n",
    "    df.columns = ['datetime', 'place', 'x_pos', 'y_pos', 'person_id', 'date', 'time']\n",
    "    df.sort_values(['person_id','datetime'], inplace=True, ascending=True)\n",
    "    df['time_lead'] = df.groupby(['person_id', 'date'])['datetime'].shift(-1)\n",
    "    df['target_x'] = df.groupby(['person_id', 'date'])['x_pos'].shift(-1)\n",
    "    df['target_y'] = df.groupby(['person_id', 'date'])['y_pos'].shift(-1)\n",
    "    threshold = pd.to_timedelta('00:20:00.00000')\n",
    "    df['fl'] = np.where(abs(df['time_lead'] - df['datetime']) > threshold, 1, 0)\n",
    "    df['traj_id'] = df['fl'].cumsum()\n",
    "    row_count.append(len(df.index))\n",
    "    num_trajectories.append(np.ma.count(df['traj_id'].unique()))"
   ]
  }
 ],
 "metadata": {
  "kernelspec": {
   "display_name": "Python 3",
   "language": "python",
   "name": "python3"
  },
  "language_info": {
   "codemirror_mode": {
    "name": "ipython",
    "version": 3
   },
   "file_extension": ".py",
   "mimetype": "text/x-python",
   "name": "python",
   "nbconvert_exporter": "python",
   "pygments_lexer": "ipython3",
   "version": "3.6.3"
  }
 },
 "nbformat": 4,
 "nbformat_minor": 2
}
